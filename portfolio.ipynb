{
 "cells": [
  {
   "cell_type": "code",
   "execution_count": 1,
   "metadata": {},
   "outputs": [
    {
     "data": {
      "text/html": [
       "        <script type=\"text/javascript\">\n",
       "        window.PlotlyConfig = {MathJaxConfig: 'local'};\n",
       "        if (window.MathJax) {MathJax.Hub.Config({SVG: {font: \"STIX-Web\"}});}\n",
       "        if (typeof require !== 'undefined') {\n",
       "        require.undef(\"plotly\");\n",
       "        requirejs.config({\n",
       "            paths: {\n",
       "                'plotly': ['https://cdn.plot.ly/plotly-latest.min']\n",
       "            }\n",
       "        });\n",
       "        require(['plotly'], function(Plotly) {\n",
       "            window._Plotly = Plotly;\n",
       "        });\n",
       "        }\n",
       "        </script>\n",
       "        "
      ]
     },
     "metadata": {},
     "output_type": "display_data"
    }
   ],
   "source": [
    "%run base_functions.ipynb\n",
    "from datetime import date\n",
    "portfolio_name='my_portfolio.txt'"
   ]
  },
  {
   "cell_type": "code",
   "execution_count": 2,
   "metadata": {},
   "outputs": [],
   "source": [
    "#buy_position(portfolio_name,'HDFCBANK',qty=15,avg=1454.55,date=datetime.today().date())\n",
    "#buy_position(portfolio_name,'SWSOLAR',qty=25,avg=460.25,date=date(2021,10,11))\n",
    "#sell_position(portfolio_name,'RAYMOND',qty=15,avg=814,date=date(2022,5,6))  \n"
   ]
  },
  {
   "cell_type": "code",
   "execution_count": 4,
   "metadata": {},
   "outputs": [],
   "source": [
    "%%capture\n",
    "raw_port = load_portfolio_file(portfolio_name)\n",
    "sold_port = raw_port[raw_port['QTY']==0]\n",
    "raw_port = raw_port[raw_port['QTY']>0]\n",
    "raw_port = populate_nse_data(raw_port)\n",
    "raw_port['m_industry'].fillna('Undefined', inplace=True)"
   ]
  },
  {
   "cell_type": "code",
   "execution_count": 53,
   "metadata": {},
   "outputs": [
    {
     "data": {
      "text/html": [
       "<div>\n",
       "<style scoped>\n",
       "    .dataframe tbody tr th:only-of-type {\n",
       "        vertical-align: middle;\n",
       "    }\n",
       "\n",
       "    .dataframe tbody tr th {\n",
       "        vertical-align: top;\n",
       "    }\n",
       "\n",
       "    .dataframe thead th {\n",
       "        text-align: right;\n",
       "    }\n",
       "</style>\n",
       "<table border=\"1\" class=\"dataframe\">\n",
       "  <thead>\n",
       "    <tr style=\"text-align: right;\">\n",
       "      <th></th>\n",
       "      <th>INVESTMENT</th>\n",
       "      <th>REAL</th>\n",
       "    </tr>\n",
       "    <tr>\n",
       "      <th>CATEGORY</th>\n",
       "      <th></th>\n",
       "      <th></th>\n",
       "    </tr>\n",
       "  </thead>\n",
       "  <tbody>\n",
       "    <tr>\n",
       "      <th>&lt; 1 Year</th>\n",
       "      <td>54,822.34</td>\n",
       "      <td>13,871.02</td>\n",
       "    </tr>\n",
       "    <tr>\n",
       "      <th>&gt; 1 Year</th>\n",
       "      <td>5,297.78</td>\n",
       "      <td>6,912.22</td>\n",
       "    </tr>\n",
       "    <tr>\n",
       "      <th>&gt; 5 Year</th>\n",
       "      <td>20,220.60</td>\n",
       "      <td>10,569.36</td>\n",
       "    </tr>\n",
       "  </tbody>\n",
       "</table>\n",
       "</div>"
      ],
      "text/plain": [
       "          INVESTMENT      REAL\n",
       "CATEGORY                      \n",
       "< 1 Year   54,822.34 13,871.02\n",
       "> 1 Year    5,297.78  6,912.22\n",
       "> 5 Year   20,220.60 10,569.36"
      ]
     },
     "metadata": {},
     "output_type": "display_data"
    },
    {
     "data": {
      "text/html": [
       "<div>\n",
       "<style scoped>\n",
       "    .dataframe tbody tr th:only-of-type {\n",
       "        vertical-align: middle;\n",
       "    }\n",
       "\n",
       "    .dataframe tbody tr th {\n",
       "        vertical-align: top;\n",
       "    }\n",
       "\n",
       "    .dataframe thead th {\n",
       "        text-align: right;\n",
       "    }\n",
       "</style>\n",
       "<table border=\"1\" class=\"dataframe\">\n",
       "  <thead>\n",
       "    <tr style=\"text-align: right;\">\n",
       "      <th></th>\n",
       "      <th>INVESTMENT</th>\n",
       "      <th>REAL</th>\n",
       "    </tr>\n",
       "  </thead>\n",
       "  <tbody>\n",
       "    <tr>\n",
       "      <th>sum</th>\n",
       "      <td>80,340.72</td>\n",
       "      <td>31,352.60</td>\n",
       "    </tr>\n",
       "  </tbody>\n",
       "</table>\n",
       "</div>"
      ],
      "text/plain": [
       "     INVESTMENT      REAL\n",
       "sum   80,340.72 31,352.60"
      ]
     },
     "metadata": {},
     "output_type": "display_data"
    }
   ],
   "source": [
    "daily_time_line = pd.DataFrame({})\n",
    "profit_info(sold_port)"
   ]
  },
  {
   "cell_type": "code",
   "execution_count": 6,
   "metadata": {
    "scrolled": false
   },
   "outputs": [],
   "source": [
    "%%capture\n",
    "portfolio_df,daily_time_line = refresh_data(raw_port,daily_time_line)"
   ]
  },
  {
   "cell_type": "code",
   "execution_count": 752,
   "metadata": {
    "scrolled": false
   },
   "outputs": [
    {
     "data": {
      "text/html": [
       "<b>Timing:</b> <I>10 May 2022 [ 15:33:13 - 15:33:13 ]</I>"
      ],
      "text/plain": [
       "<IPython.core.display.HTML object>"
      ]
     },
     "metadata": {},
     "output_type": "display_data"
    },
    {
     "data": {
      "text/html": [
       "<div>\n",
       "<style scoped>\n",
       "    .dataframe tbody tr th:only-of-type {\n",
       "        vertical-align: middle;\n",
       "    }\n",
       "\n",
       "    .dataframe tbody tr th {\n",
       "        vertical-align: top;\n",
       "    }\n",
       "\n",
       "    .dataframe thead th {\n",
       "        text-align: right;\n",
       "    }\n",
       "</style>\n",
       "<table border=\"1\" class=\"dataframe\">\n",
       "  <thead>\n",
       "    <tr style=\"text-align: right;\">\n",
       "      <th></th>\n",
       "      <th></th>\n",
       "      <th>DATE</th>\n",
       "      <th>INVESTMENT</th>\n",
       "      <th>MKT_VALUE</th>\n",
       "      <th>CHANGE</th>\n",
       "      <th>UNREAL</th>\n",
       "      <th>UNREAL %</th>\n",
       "      <th>REAL</th>\n",
       "      <th>QTY</th>\n",
       "      <th>SELL_DATE</th>\n",
       "      <th>AVG</th>\n",
       "      <th>DAYS</th>\n",
       "      <th>pr_pChange</th>\n",
       "      <th>pr_open</th>\n",
       "      <th>pr_previousClose</th>\n",
       "      <th>pr_close</th>\n",
       "      <th>m_series</th>\n",
       "      <th>pr_pBand</th>\n",
       "      <th>i_companyName</th>\n",
       "      <th>m_industry</th>\n",
       "      <th>pr_lastPrice</th>\n",
       "      <th>request_time</th>\n",
       "    </tr>\n",
       "    <tr>\n",
       "      <th>CATEGORY</th>\n",
       "      <th>SYMBOL</th>\n",
       "      <th></th>\n",
       "      <th></th>\n",
       "      <th></th>\n",
       "      <th></th>\n",
       "      <th></th>\n",
       "      <th></th>\n",
       "      <th></th>\n",
       "      <th></th>\n",
       "      <th></th>\n",
       "      <th></th>\n",
       "      <th></th>\n",
       "      <th></th>\n",
       "      <th></th>\n",
       "      <th></th>\n",
       "      <th></th>\n",
       "      <th></th>\n",
       "      <th></th>\n",
       "      <th></th>\n",
       "      <th></th>\n",
       "      <th></th>\n",
       "      <th></th>\n",
       "    </tr>\n",
       "  </thead>\n",
       "  <tbody>\n",
       "    <tr>\n",
       "      <th>&gt; 5 Year</th>\n",
       "      <th>UNITECH</th>\n",
       "      <td>2013-12-05</td>\n",
       "      <td>9,260.20</td>\n",
       "      <td>760.00</td>\n",
       "      <td>-20.00</td>\n",
       "      <td>-8,500.20</td>\n",
       "      <td>-91.79</td>\n",
       "      <td>0.00</td>\n",
       "      <td>400.00</td>\n",
       "      <td>NaT</td>\n",
       "      <td>23.15</td>\n",
       "      <td>3078</td>\n",
       "      <td>-2.56</td>\n",
       "      <td>1.95</td>\n",
       "      <td>1.95</td>\n",
       "      <td>0</td>\n",
       "      <td>BZ</td>\n",
       "      <td>5</td>\n",
       "      <td>Unitech Limited</td>\n",
       "      <td>Residential Commercial Projects</td>\n",
       "      <td>1.90</td>\n",
       "      <td>2022-05-10 15:33:13.786181</td>\n",
       "    </tr>\n",
       "    <tr>\n",
       "      <th rowspan=\"8\" valign=\"top\">&gt; 1 Year</th>\n",
       "      <th>HDFCLIFE</th>\n",
       "      <td>2021-02-16</td>\n",
       "      <td>10,469.25</td>\n",
       "      <td>8,388.00</td>\n",
       "      <td>-69.75</td>\n",
       "      <td>-2,081.25</td>\n",
       "      <td>-19.88</td>\n",
       "      <td>0.00</td>\n",
       "      <td>15.00</td>\n",
       "      <td>NaT</td>\n",
       "      <td>697.95</td>\n",
       "      <td>448</td>\n",
       "      <td>-0.82</td>\n",
       "      <td>561.00</td>\n",
       "      <td>563.85</td>\n",
       "      <td>0</td>\n",
       "      <td>EQ</td>\n",
       "      <td>No Band</td>\n",
       "      <td>HDFC Life Insurance Company Limited</td>\n",
       "      <td>Life Insurance</td>\n",
       "      <td>559.20</td>\n",
       "      <td>2022-05-10 15:33:13.786181</td>\n",
       "    </tr>\n",
       "    <tr>\n",
       "      <th>RECLTD</th>\n",
       "      <td>2021-01-12</td>\n",
       "      <td>7,198.15</td>\n",
       "      <td>6,017.50</td>\n",
       "      <td>-80.00</td>\n",
       "      <td>-1,180.65</td>\n",
       "      <td>-16.40</td>\n",
       "      <td>250.00</td>\n",
       "      <td>50.00</td>\n",
       "      <td>NaT</td>\n",
       "      <td>143.96</td>\n",
       "      <td>483</td>\n",
       "      <td>-1.31</td>\n",
       "      <td>122.00</td>\n",
       "      <td>121.95</td>\n",
       "      <td>0</td>\n",
       "      <td>EQ</td>\n",
       "      <td>No Band</td>\n",
       "      <td>REC Limited</td>\n",
       "      <td>Financial Institution</td>\n",
       "      <td>120.35</td>\n",
       "      <td>2022-05-10 15:33:13.786181</td>\n",
       "    </tr>\n",
       "    <tr>\n",
       "      <th>PNB</th>\n",
       "      <td>2020-12-08</td>\n",
       "      <td>7,815.00</td>\n",
       "      <td>6,660.00</td>\n",
       "      <td>-40.00</td>\n",
       "      <td>-1,155.00</td>\n",
       "      <td>-14.78</td>\n",
       "      <td>0.00</td>\n",
       "      <td>200.00</td>\n",
       "      <td>NaT</td>\n",
       "      <td>39.08</td>\n",
       "      <td>518</td>\n",
       "      <td>-0.60</td>\n",
       "      <td>33.50</td>\n",
       "      <td>33.50</td>\n",
       "      <td>0</td>\n",
       "      <td>EQ</td>\n",
       "      <td>No Band</td>\n",
       "      <td>Punjab National Bank</td>\n",
       "      <td>Public Sector Bank</td>\n",
       "      <td>33.30</td>\n",
       "      <td>2022-05-10 15:33:13.786181</td>\n",
       "    </tr>\n",
       "    <tr>\n",
       "      <th>LICHSGFIN</th>\n",
       "      <td>2021-01-28</td>\n",
       "      <td>4,006.00</td>\n",
       "      <td>3,471.00</td>\n",
       "      <td>-30.50</td>\n",
       "      <td>-535.00</td>\n",
       "      <td>-13.35</td>\n",
       "      <td>0.00</td>\n",
       "      <td>10.00</td>\n",
       "      <td>NaT</td>\n",
       "      <td>400.60</td>\n",
       "      <td>467</td>\n",
       "      <td>-0.87</td>\n",
       "      <td>347.00</td>\n",
       "      <td>350.15</td>\n",
       "      <td>0</td>\n",
       "      <td>EQ</td>\n",
       "      <td>No Band</td>\n",
       "      <td>LIC Housing Finance Limited</td>\n",
       "      <td>Housing Finance Company</td>\n",
       "      <td>347.10</td>\n",
       "      <td>2022-05-10 15:33:13.786181</td>\n",
       "    </tr>\n",
       "    <tr>\n",
       "      <th>IRCON</th>\n",
       "      <td>2021-03-10</td>\n",
       "      <td>8,806.00</td>\n",
       "      <td>7,950.00</td>\n",
       "      <td>10.00</td>\n",
       "      <td>-856.00</td>\n",
       "      <td>-9.72</td>\n",
       "      <td>0.00</td>\n",
       "      <td>200.00</td>\n",
       "      <td>NaT</td>\n",
       "      <td>44.03</td>\n",
       "      <td>426</td>\n",
       "      <td>0.13</td>\n",
       "      <td>39.75</td>\n",
       "      <td>39.70</td>\n",
       "      <td>0</td>\n",
       "      <td>EQ</td>\n",
       "      <td>20</td>\n",
       "      <td>Ircon International Limited</td>\n",
       "      <td>Engineering Designing &amp; Construction</td>\n",
       "      <td>39.75</td>\n",
       "      <td>2022-05-10 15:33:13.786181</td>\n",
       "    </tr>\n",
       "    <tr>\n",
       "      <th>SJVN</th>\n",
       "      <td>2020-12-11</td>\n",
       "      <td>7,643.70</td>\n",
       "      <td>8,280.00</td>\n",
       "      <td>-105.00</td>\n",
       "      <td>636.30</td>\n",
       "      <td>8.32</td>\n",
       "      <td>499.50</td>\n",
       "      <td>300.00</td>\n",
       "      <td>NaT</td>\n",
       "      <td>25.48</td>\n",
       "      <td>515</td>\n",
       "      <td>-1.25</td>\n",
       "      <td>28.15</td>\n",
       "      <td>27.95</td>\n",
       "      <td>0</td>\n",
       "      <td>EQ</td>\n",
       "      <td>20</td>\n",
       "      <td>SJVN Limited</td>\n",
       "      <td>Electric Utilities</td>\n",
       "      <td>27.60</td>\n",
       "      <td>2022-05-10 15:33:13.786181</td>\n",
       "    </tr>\n",
       "    <tr>\n",
       "      <th>WIPRO</th>\n",
       "      <td>2020-12-23</td>\n",
       "      <td>3,795.95</td>\n",
       "      <td>4,776.50</td>\n",
       "      <td>-55.00</td>\n",
       "      <td>980.55</td>\n",
       "      <td>25.83</td>\n",
       "      <td>9.25</td>\n",
       "      <td>10.00</td>\n",
       "      <td>NaT</td>\n",
       "      <td>379.59</td>\n",
       "      <td>503</td>\n",
       "      <td>-1.14</td>\n",
       "      <td>483.00</td>\n",
       "      <td>483.15</td>\n",
       "      <td>0</td>\n",
       "      <td>EQ</td>\n",
       "      <td>No Band</td>\n",
       "      <td>Wipro Limited</td>\n",
       "      <td>Computers - Software &amp; Consulting</td>\n",
       "      <td>477.65</td>\n",
       "      <td>2022-05-10 15:33:13.786181</td>\n",
       "    </tr>\n",
       "    <tr>\n",
       "      <th>HAL</th>\n",
       "      <td>2021-01-06</td>\n",
       "      <td>4,785.00</td>\n",
       "      <td>7,753.25</td>\n",
       "      <td>-80.00</td>\n",
       "      <td>2,968.25</td>\n",
       "      <td>62.03</td>\n",
       "      <td>69.38</td>\n",
       "      <td>5.00</td>\n",
       "      <td>NaT</td>\n",
       "      <td>957.00</td>\n",
       "      <td>489</td>\n",
       "      <td>-1.02</td>\n",
       "      <td>1,571.50</td>\n",
       "      <td>1,566.65</td>\n",
       "      <td>0</td>\n",
       "      <td>EQ</td>\n",
       "      <td>No Band</td>\n",
       "      <td>Hindustan Aeronautics Limited</td>\n",
       "      <td>Aerospace &amp; Defense</td>\n",
       "      <td>1,550.65</td>\n",
       "      <td>2022-05-10 15:33:13.786181</td>\n",
       "    </tr>\n",
       "    <tr>\n",
       "      <th rowspan=\"10\" valign=\"top\">&lt; 1 Year</th>\n",
       "      <th>AMARAJABAT</th>\n",
       "      <td>2021-05-25</td>\n",
       "      <td>11,718.00</td>\n",
       "      <td>8,215.20</td>\n",
       "      <td>-116.00</td>\n",
       "      <td>-3,502.80</td>\n",
       "      <td>-29.89</td>\n",
       "      <td>0.00</td>\n",
       "      <td>16.00</td>\n",
       "      <td>NaT</td>\n",
       "      <td>732.38</td>\n",
       "      <td>350</td>\n",
       "      <td>-1.39</td>\n",
       "      <td>520.70</td>\n",
       "      <td>520.70</td>\n",
       "      <td>0</td>\n",
       "      <td>EQ</td>\n",
       "      <td>No Band</td>\n",
       "      <td>Amara Raja Batteries Limited</td>\n",
       "      <td>Batteries - Automobile</td>\n",
       "      <td>513.45</td>\n",
       "      <td>2022-05-10 15:33:13.786181</td>\n",
       "    </tr>\n",
       "    <tr>\n",
       "      <th>SWSOLAR</th>\n",
       "      <td>2021-10-11</td>\n",
       "      <td>11,506.25</td>\n",
       "      <td>8,362.50</td>\n",
       "      <td>-213.75</td>\n",
       "      <td>-3,143.75</td>\n",
       "      <td>-27.32</td>\n",
       "      <td>0.00</td>\n",
       "      <td>25.00</td>\n",
       "      <td>NaT</td>\n",
       "      <td>460.25</td>\n",
       "      <td>211</td>\n",
       "      <td>-2.49</td>\n",
       "      <td>344.00</td>\n",
       "      <td>343.05</td>\n",
       "      <td>0</td>\n",
       "      <td>EQ</td>\n",
       "      <td>10</td>\n",
       "      <td>Sterling and Wilson Renewable Energy Limited</td>\n",
       "      <td>Engineering Designing &amp; Construction</td>\n",
       "      <td>334.50</td>\n",
       "      <td>2022-05-10 15:33:13.786181</td>\n",
       "    </tr>\n",
       "    <tr>\n",
       "      <th>JKLAKSHMI</th>\n",
       "      <td>2021-06-02</td>\n",
       "      <td>10,846.00</td>\n",
       "      <td>7,930.00</td>\n",
       "      <td>-170.00</td>\n",
       "      <td>-2,916.00</td>\n",
       "      <td>-26.89</td>\n",
       "      <td>0.00</td>\n",
       "      <td>20.00</td>\n",
       "      <td>NaT</td>\n",
       "      <td>542.30</td>\n",
       "      <td>342</td>\n",
       "      <td>-2.10</td>\n",
       "      <td>407.05</td>\n",
       "      <td>405.00</td>\n",
       "      <td>0</td>\n",
       "      <td>EQ</td>\n",
       "      <td>20</td>\n",
       "      <td>JK Lakshmi Cement Limited</td>\n",
       "      <td>Cement &amp; Cement Products</td>\n",
       "      <td>396.50</td>\n",
       "      <td>2022-05-10 15:33:13.786181</td>\n",
       "    </tr>\n",
       "    <tr>\n",
       "      <th>LICHSGFIN</th>\n",
       "      <td>2021-06-28</td>\n",
       "      <td>10,320.70</td>\n",
       "      <td>7,636.20</td>\n",
       "      <td>-67.10</td>\n",
       "      <td>-2,684.50</td>\n",
       "      <td>-26.01</td>\n",
       "      <td>0.00</td>\n",
       "      <td>22.00</td>\n",
       "      <td>NaT</td>\n",
       "      <td>469.12</td>\n",
       "      <td>316</td>\n",
       "      <td>-0.87</td>\n",
       "      <td>347.00</td>\n",
       "      <td>350.15</td>\n",
       "      <td>0</td>\n",
       "      <td>EQ</td>\n",
       "      <td>No Band</td>\n",
       "      <td>LIC Housing Finance Limited</td>\n",
       "      <td>Housing Finance Company</td>\n",
       "      <td>347.10</td>\n",
       "      <td>2022-05-10 15:33:13.786181</td>\n",
       "    </tr>\n",
       "    <tr>\n",
       "      <th>HDFCLIFE</th>\n",
       "      <td>2021-06-28</td>\n",
       "      <td>10,503.75</td>\n",
       "      <td>8,388.00</td>\n",
       "      <td>-69.75</td>\n",
       "      <td>-2,115.75</td>\n",
       "      <td>-20.14</td>\n",
       "      <td>0.00</td>\n",
       "      <td>15.00</td>\n",
       "      <td>NaT</td>\n",
       "      <td>700.25</td>\n",
       "      <td>316</td>\n",
       "      <td>-0.82</td>\n",
       "      <td>561.00</td>\n",
       "      <td>563.85</td>\n",
       "      <td>0</td>\n",
       "      <td>EQ</td>\n",
       "      <td>No Band</td>\n",
       "      <td>HDFC Life Insurance Company Limited</td>\n",
       "      <td>Life Insurance</td>\n",
       "      <td>559.20</td>\n",
       "      <td>2022-05-10 15:33:13.786181</td>\n",
       "    </tr>\n",
       "    <tr>\n",
       "      <th>ENDURANCE</th>\n",
       "      <td>2021-05-26</td>\n",
       "      <td>10,268.00</td>\n",
       "      <td>8,249.15</td>\n",
       "      <td>0.35</td>\n",
       "      <td>-2,018.85</td>\n",
       "      <td>-19.66</td>\n",
       "      <td>0.00</td>\n",
       "      <td>7.00</td>\n",
       "      <td>NaT</td>\n",
       "      <td>1,466.86</td>\n",
       "      <td>349</td>\n",
       "      <td>0.00</td>\n",
       "      <td>1,167.70</td>\n",
       "      <td>1,178.40</td>\n",
       "      <td>0</td>\n",
       "      <td>EQ</td>\n",
       "      <td>20</td>\n",
       "      <td>Endurance Technologies Limited</td>\n",
       "      <td>Auto Components &amp; Equipments</td>\n",
       "      <td>1,178.45</td>\n",
       "      <td>2022-05-10 15:33:13.786181</td>\n",
       "    </tr>\n",
       "    <tr>\n",
       "      <th>WIPRO</th>\n",
       "      <td>2021-07-14</td>\n",
       "      <td>19,670.00</td>\n",
       "      <td>16,717.75</td>\n",
       "      <td>-192.50</td>\n",
       "      <td>-2,952.25</td>\n",
       "      <td>-15.01</td>\n",
       "      <td>0.00</td>\n",
       "      <td>35.00</td>\n",
       "      <td>NaT</td>\n",
       "      <td>562.00</td>\n",
       "      <td>300</td>\n",
       "      <td>-1.14</td>\n",
       "      <td>483.00</td>\n",
       "      <td>483.15</td>\n",
       "      <td>0</td>\n",
       "      <td>EQ</td>\n",
       "      <td>No Band</td>\n",
       "      <td>Wipro Limited</td>\n",
       "      <td>Computers - Software &amp; Consulting</td>\n",
       "      <td>477.65</td>\n",
       "      <td>2022-05-10 15:33:13.786181</td>\n",
       "    </tr>\n",
       "    <tr>\n",
       "      <th>HDFCBANK</th>\n",
       "      <td>2021-07-23</td>\n",
       "      <td>21,818.25</td>\n",
       "      <td>20,115.75</td>\n",
       "      <td>318.00</td>\n",
       "      <td>-1,702.50</td>\n",
       "      <td>-7.80</td>\n",
       "      <td>0.00</td>\n",
       "      <td>15.00</td>\n",
       "      <td>NaT</td>\n",
       "      <td>1,454.55</td>\n",
       "      <td>291</td>\n",
       "      <td>1.61</td>\n",
       "      <td>1,315.05</td>\n",
       "      <td>1,319.85</td>\n",
       "      <td>0</td>\n",
       "      <td>EQ</td>\n",
       "      <td>No Band</td>\n",
       "      <td>HDFC Bank Limited</td>\n",
       "      <td>Private Sector Bank</td>\n",
       "      <td>1,341.05</td>\n",
       "      <td>2022-05-10 15:33:13.786181</td>\n",
       "    </tr>\n",
       "    <tr>\n",
       "      <th>BARBEQUE</th>\n",
       "      <td>2021-05-27</td>\n",
       "      <td>8,906.00</td>\n",
       "      <td>10,011.50</td>\n",
       "      <td>-620.00</td>\n",
       "      <td>1,105.50</td>\n",
       "      <td>12.41</td>\n",
       "      <td>0.00</td>\n",
       "      <td>10.00</td>\n",
       "      <td>NaT</td>\n",
       "      <td>890.60</td>\n",
       "      <td>348</td>\n",
       "      <td>-5.83</td>\n",
       "      <td>1,060.00</td>\n",
       "      <td>1,063.15</td>\n",
       "      <td>0</td>\n",
       "      <td>EQ</td>\n",
       "      <td>20</td>\n",
       "      <td>Barbeque Nation Hospitality Limited</td>\n",
       "      <td>Restaurants</td>\n",
       "      <td>1,001.15</td>\n",
       "      <td>2022-05-10 15:33:13.786181</td>\n",
       "    </tr>\n",
       "    <tr>\n",
       "      <th>PVR</th>\n",
       "      <td>2021-09-14</td>\n",
       "      <td>12,564.00</td>\n",
       "      <td>15,950.25</td>\n",
       "      <td>597.15</td>\n",
       "      <td>3,386.25</td>\n",
       "      <td>26.95</td>\n",
       "      <td>0.00</td>\n",
       "      <td>9.00</td>\n",
       "      <td>NaT</td>\n",
       "      <td>1,396.00</td>\n",
       "      <td>238</td>\n",
       "      <td>3.89</td>\n",
       "      <td>1,711.00</td>\n",
       "      <td>1,705.90</td>\n",
       "      <td>0</td>\n",
       "      <td>EQ</td>\n",
       "      <td>No Band</td>\n",
       "      <td>PVR Limited</td>\n",
       "      <td>Film Production Distribution &amp; Exhibition</td>\n",
       "      <td>1,772.25</td>\n",
       "      <td>2022-05-10 15:33:13.786181</td>\n",
       "    </tr>\n",
       "  </tbody>\n",
       "</table>\n",
       "</div>"
      ],
      "text/plain": [
       "                           DATE  INVESTMENT  MKT_VALUE  CHANGE    UNREAL  \\\n",
       "CATEGORY SYMBOL                                                            \n",
       "> 5 Year UNITECH     2013-12-05    9,260.20     760.00  -20.00 -8,500.20   \n",
       "> 1 Year HDFCLIFE    2021-02-16   10,469.25   8,388.00  -69.75 -2,081.25   \n",
       "         RECLTD      2021-01-12    7,198.15   6,017.50  -80.00 -1,180.65   \n",
       "         PNB         2020-12-08    7,815.00   6,660.00  -40.00 -1,155.00   \n",
       "         LICHSGFIN   2021-01-28    4,006.00   3,471.00  -30.50   -535.00   \n",
       "         IRCON       2021-03-10    8,806.00   7,950.00   10.00   -856.00   \n",
       "         SJVN        2020-12-11    7,643.70   8,280.00 -105.00    636.30   \n",
       "         WIPRO       2020-12-23    3,795.95   4,776.50  -55.00    980.55   \n",
       "         HAL         2021-01-06    4,785.00   7,753.25  -80.00  2,968.25   \n",
       "< 1 Year AMARAJABAT  2021-05-25   11,718.00   8,215.20 -116.00 -3,502.80   \n",
       "         SWSOLAR     2021-10-11   11,506.25   8,362.50 -213.75 -3,143.75   \n",
       "         JKLAKSHMI   2021-06-02   10,846.00   7,930.00 -170.00 -2,916.00   \n",
       "         LICHSGFIN   2021-06-28   10,320.70   7,636.20  -67.10 -2,684.50   \n",
       "         HDFCLIFE    2021-06-28   10,503.75   8,388.00  -69.75 -2,115.75   \n",
       "         ENDURANCE   2021-05-26   10,268.00   8,249.15    0.35 -2,018.85   \n",
       "         WIPRO       2021-07-14   19,670.00  16,717.75 -192.50 -2,952.25   \n",
       "         HDFCBANK    2021-07-23   21,818.25  20,115.75  318.00 -1,702.50   \n",
       "         BARBEQUE    2021-05-27    8,906.00  10,011.50 -620.00  1,105.50   \n",
       "         PVR         2021-09-14   12,564.00  15,950.25  597.15  3,386.25   \n",
       "\n",
       "                     UNREAL %   REAL    QTY SELL_DATE      AVG  DAYS  \\\n",
       "CATEGORY SYMBOL                                                        \n",
       "> 5 Year UNITECH       -91.79   0.00 400.00       NaT    23.15  3078   \n",
       "> 1 Year HDFCLIFE      -19.88   0.00  15.00       NaT   697.95   448   \n",
       "         RECLTD        -16.40 250.00  50.00       NaT   143.96   483   \n",
       "         PNB           -14.78   0.00 200.00       NaT    39.08   518   \n",
       "         LICHSGFIN     -13.35   0.00  10.00       NaT   400.60   467   \n",
       "         IRCON          -9.72   0.00 200.00       NaT    44.03   426   \n",
       "         SJVN            8.32 499.50 300.00       NaT    25.48   515   \n",
       "         WIPRO          25.83   9.25  10.00       NaT   379.59   503   \n",
       "         HAL            62.03  69.38   5.00       NaT   957.00   489   \n",
       "< 1 Year AMARAJABAT    -29.89   0.00  16.00       NaT   732.38   350   \n",
       "         SWSOLAR       -27.32   0.00  25.00       NaT   460.25   211   \n",
       "         JKLAKSHMI     -26.89   0.00  20.00       NaT   542.30   342   \n",
       "         LICHSGFIN     -26.01   0.00  22.00       NaT   469.12   316   \n",
       "         HDFCLIFE      -20.14   0.00  15.00       NaT   700.25   316   \n",
       "         ENDURANCE     -19.66   0.00   7.00       NaT 1,466.86   349   \n",
       "         WIPRO         -15.01   0.00  35.00       NaT   562.00   300   \n",
       "         HDFCBANK       -7.80   0.00  15.00       NaT 1,454.55   291   \n",
       "         BARBEQUE       12.41   0.00  10.00       NaT   890.60   348   \n",
       "         PVR            26.95   0.00   9.00       NaT 1,396.00   238   \n",
       "\n",
       "                     pr_pChange  pr_open  pr_previousClose  pr_close m_series  \\\n",
       "CATEGORY SYMBOL                                                                 \n",
       "> 5 Year UNITECH          -2.56     1.95              1.95         0       BZ   \n",
       "> 1 Year HDFCLIFE         -0.82   561.00            563.85         0       EQ   \n",
       "         RECLTD           -1.31   122.00            121.95         0       EQ   \n",
       "         PNB              -0.60    33.50             33.50         0       EQ   \n",
       "         LICHSGFIN        -0.87   347.00            350.15         0       EQ   \n",
       "         IRCON             0.13    39.75             39.70         0       EQ   \n",
       "         SJVN             -1.25    28.15             27.95         0       EQ   \n",
       "         WIPRO            -1.14   483.00            483.15         0       EQ   \n",
       "         HAL              -1.02 1,571.50          1,566.65         0       EQ   \n",
       "< 1 Year AMARAJABAT       -1.39   520.70            520.70         0       EQ   \n",
       "         SWSOLAR          -2.49   344.00            343.05         0       EQ   \n",
       "         JKLAKSHMI        -2.10   407.05            405.00         0       EQ   \n",
       "         LICHSGFIN        -0.87   347.00            350.15         0       EQ   \n",
       "         HDFCLIFE         -0.82   561.00            563.85         0       EQ   \n",
       "         ENDURANCE         0.00 1,167.70          1,178.40         0       EQ   \n",
       "         WIPRO            -1.14   483.00            483.15         0       EQ   \n",
       "         HDFCBANK          1.61 1,315.05          1,319.85         0       EQ   \n",
       "         BARBEQUE         -5.83 1,060.00          1,063.15         0       EQ   \n",
       "         PVR               3.89 1,711.00          1,705.90         0       EQ   \n",
       "\n",
       "                    pr_pBand                                 i_companyName  \\\n",
       "CATEGORY SYMBOL                                                              \n",
       "> 5 Year UNITECH           5                               Unitech Limited   \n",
       "> 1 Year HDFCLIFE    No Band           HDFC Life Insurance Company Limited   \n",
       "         RECLTD      No Band                                   REC Limited   \n",
       "         PNB         No Band                          Punjab National Bank   \n",
       "         LICHSGFIN   No Band                   LIC Housing Finance Limited   \n",
       "         IRCON            20                   Ircon International Limited   \n",
       "         SJVN             20                                  SJVN Limited   \n",
       "         WIPRO       No Band                                 Wipro Limited   \n",
       "         HAL         No Band                 Hindustan Aeronautics Limited   \n",
       "< 1 Year AMARAJABAT  No Band                  Amara Raja Batteries Limited   \n",
       "         SWSOLAR          10  Sterling and Wilson Renewable Energy Limited   \n",
       "         JKLAKSHMI        20                     JK Lakshmi Cement Limited   \n",
       "         LICHSGFIN   No Band                   LIC Housing Finance Limited   \n",
       "         HDFCLIFE    No Band           HDFC Life Insurance Company Limited   \n",
       "         ENDURANCE        20                Endurance Technologies Limited   \n",
       "         WIPRO       No Band                                 Wipro Limited   \n",
       "         HDFCBANK    No Band                             HDFC Bank Limited   \n",
       "         BARBEQUE         20           Barbeque Nation Hospitality Limited   \n",
       "         PVR         No Band                                   PVR Limited   \n",
       "\n",
       "                                                    m_industry  pr_lastPrice  \\\n",
       "CATEGORY SYMBOL                                                                \n",
       "> 5 Year UNITECH               Residential Commercial Projects          1.90   \n",
       "> 1 Year HDFCLIFE                               Life Insurance        559.20   \n",
       "         RECLTD                          Financial Institution        120.35   \n",
       "         PNB                                Public Sector Bank         33.30   \n",
       "         LICHSGFIN                     Housing Finance Company        347.10   \n",
       "         IRCON            Engineering Designing & Construction         39.75   \n",
       "         SJVN                               Electric Utilities         27.60   \n",
       "         WIPRO               Computers - Software & Consulting        477.65   \n",
       "         HAL                               Aerospace & Defense      1,550.65   \n",
       "< 1 Year AMARAJABAT                     Batteries - Automobile        513.45   \n",
       "         SWSOLAR          Engineering Designing & Construction        334.50   \n",
       "         JKLAKSHMI                    Cement & Cement Products        396.50   \n",
       "         LICHSGFIN                     Housing Finance Company        347.10   \n",
       "         HDFCLIFE                               Life Insurance        559.20   \n",
       "         ENDURANCE                Auto Components & Equipments      1,178.45   \n",
       "         WIPRO               Computers - Software & Consulting        477.65   \n",
       "         HDFCBANK                          Private Sector Bank      1,341.05   \n",
       "         BARBEQUE                                  Restaurants      1,001.15   \n",
       "         PVR         Film Production Distribution & Exhibition      1,772.25   \n",
       "\n",
       "                                  request_time  \n",
       "CATEGORY SYMBOL                                 \n",
       "> 5 Year UNITECH    2022-05-10 15:33:13.786181  \n",
       "> 1 Year HDFCLIFE   2022-05-10 15:33:13.786181  \n",
       "         RECLTD     2022-05-10 15:33:13.786181  \n",
       "         PNB        2022-05-10 15:33:13.786181  \n",
       "         LICHSGFIN  2022-05-10 15:33:13.786181  \n",
       "         IRCON      2022-05-10 15:33:13.786181  \n",
       "         SJVN       2022-05-10 15:33:13.786181  \n",
       "         WIPRO      2022-05-10 15:33:13.786181  \n",
       "         HAL        2022-05-10 15:33:13.786181  \n",
       "< 1 Year AMARAJABAT 2022-05-10 15:33:13.786181  \n",
       "         SWSOLAR    2022-05-10 15:33:13.786181  \n",
       "         JKLAKSHMI  2022-05-10 15:33:13.786181  \n",
       "         LICHSGFIN  2022-05-10 15:33:13.786181  \n",
       "         HDFCLIFE   2022-05-10 15:33:13.786181  \n",
       "         ENDURANCE  2022-05-10 15:33:13.786181  \n",
       "         WIPRO      2022-05-10 15:33:13.786181  \n",
       "         HDFCBANK   2022-05-10 15:33:13.786181  \n",
       "         BARBEQUE   2022-05-10 15:33:13.786181  \n",
       "         PVR        2022-05-10 15:33:13.786181  "
      ]
     },
     "metadata": {},
     "output_type": "display_data"
    },
    {
     "data": {
      "application/vnd.plotly.v1+json": {
       "config": {
        "linkText": "Export to plot.ly",
        "plotlyServerURL": "https://plot.ly",
        "showLink": true
       },
       "data": [
        {
         "marker": {
          "color": "rgba(255, 153, 51, 0.6)",
          "line": {
           "color": "rgba(255, 153, 51, 1.0)",
           "width": 1
          }
         },
         "name": "INVESTMENT",
         "orientation": "v",
         "text": "",
         "type": "bar",
         "x": [
          "Aerospace & Defense",
          "Auto Components & Equipments",
          "Batteries - Automobile",
          "Cement & Cement Products",
          "Computers - Software & Consulting",
          "Electric Utilities",
          "Engineering Designing & Construction",
          "Film Production Distribution & Exhibition",
          "Financial Institution",
          "Housing Finance Company",
          "Life Insurance",
          "Private Sector Bank",
          "Public Sector Bank",
          "Residential Commercial Projects",
          "Restaurants"
         ],
         "y": [
          4785,
          10268,
          11718,
          10846,
          23465.95,
          7643.7,
          20312.25,
          12564,
          7198.15,
          14326.7,
          20973,
          21818.25,
          7815,
          9260.2,
          8906
         ]
        },
        {
         "marker": {
          "color": "rgba(55, 128, 191, 0.6)",
          "line": {
           "color": "rgba(55, 128, 191, 1.0)",
           "width": 1
          }
         },
         "name": "MKT_VALUE",
         "orientation": "v",
         "text": "",
         "type": "bar",
         "x": [
          "Aerospace & Defense",
          "Auto Components & Equipments",
          "Batteries - Automobile",
          "Cement & Cement Products",
          "Computers - Software & Consulting",
          "Electric Utilities",
          "Engineering Designing & Construction",
          "Film Production Distribution & Exhibition",
          "Financial Institution",
          "Housing Finance Company",
          "Life Insurance",
          "Private Sector Bank",
          "Public Sector Bank",
          "Residential Commercial Projects",
          "Restaurants"
         ],
         "y": [
          7753.25,
          8249.15,
          8215.2,
          7930,
          21494.25,
          8280,
          16312.5,
          15950.25,
          6017.5,
          11107.2,
          16776,
          20115.75,
          6659.999999999999,
          760,
          10011.5
         ]
        },
        {
         "marker": {
          "color": "rgba(50, 171, 96, 0.6)",
          "line": {
           "color": "rgba(50, 171, 96, 1.0)",
           "width": 1
          }
         },
         "name": "REAL",
         "orientation": "v",
         "text": "",
         "type": "bar",
         "x": [
          "Aerospace & Defense",
          "Auto Components & Equipments",
          "Batteries - Automobile",
          "Cement & Cement Products",
          "Computers - Software & Consulting",
          "Electric Utilities",
          "Engineering Designing & Construction",
          "Film Production Distribution & Exhibition",
          "Financial Institution",
          "Housing Finance Company",
          "Life Insurance",
          "Private Sector Bank",
          "Public Sector Bank",
          "Residential Commercial Projects",
          "Restaurants"
         ],
         "y": [
          69.38,
          0,
          0,
          0,
          9.25,
          499.5,
          0,
          0,
          250,
          0,
          0,
          0,
          0,
          0,
          0
         ]
        }
       ],
       "layout": {
        "height": 400,
        "hovermode": "x",
        "template": {
         "data": {
          "bar": [
           {
            "error_x": {
             "color": "#2a3f5f"
            },
            "error_y": {
             "color": "#2a3f5f"
            },
            "marker": {
             "line": {
              "color": "#E5ECF6",
              "width": 0.5
             }
            },
            "type": "bar"
           }
          ],
          "barpolar": [
           {
            "marker": {
             "line": {
              "color": "#E5ECF6",
              "width": 0.5
             }
            },
            "type": "barpolar"
           }
          ],
          "carpet": [
           {
            "aaxis": {
             "endlinecolor": "#2a3f5f",
             "gridcolor": "white",
             "linecolor": "white",
             "minorgridcolor": "white",
             "startlinecolor": "#2a3f5f"
            },
            "baxis": {
             "endlinecolor": "#2a3f5f",
             "gridcolor": "white",
             "linecolor": "white",
             "minorgridcolor": "white",
             "startlinecolor": "#2a3f5f"
            },
            "type": "carpet"
           }
          ],
          "choropleth": [
           {
            "colorbar": {
             "outlinewidth": 0,
             "ticks": ""
            },
            "type": "choropleth"
           }
          ],
          "contour": [
           {
            "colorbar": {
             "outlinewidth": 0,
             "ticks": ""
            },
            "colorscale": [
             [
              0,
              "#0d0887"
             ],
             [
              0.1111111111111111,
              "#46039f"
             ],
             [
              0.2222222222222222,
              "#7201a8"
             ],
             [
              0.3333333333333333,
              "#9c179e"
             ],
             [
              0.4444444444444444,
              "#bd3786"
             ],
             [
              0.5555555555555556,
              "#d8576b"
             ],
             [
              0.6666666666666666,
              "#ed7953"
             ],
             [
              0.7777777777777778,
              "#fb9f3a"
             ],
             [
              0.8888888888888888,
              "#fdca26"
             ],
             [
              1,
              "#f0f921"
             ]
            ],
            "type": "contour"
           }
          ],
          "contourcarpet": [
           {
            "colorbar": {
             "outlinewidth": 0,
             "ticks": ""
            },
            "type": "contourcarpet"
           }
          ],
          "heatmap": [
           {
            "colorbar": {
             "outlinewidth": 0,
             "ticks": ""
            },
            "colorscale": [
             [
              0,
              "#0d0887"
             ],
             [
              0.1111111111111111,
              "#46039f"
             ],
             [
              0.2222222222222222,
              "#7201a8"
             ],
             [
              0.3333333333333333,
              "#9c179e"
             ],
             [
              0.4444444444444444,
              "#bd3786"
             ],
             [
              0.5555555555555556,
              "#d8576b"
             ],
             [
              0.6666666666666666,
              "#ed7953"
             ],
             [
              0.7777777777777778,
              "#fb9f3a"
             ],
             [
              0.8888888888888888,
              "#fdca26"
             ],
             [
              1,
              "#f0f921"
             ]
            ],
            "type": "heatmap"
           }
          ],
          "heatmapgl": [
           {
            "colorbar": {
             "outlinewidth": 0,
             "ticks": ""
            },
            "colorscale": [
             [
              0,
              "#0d0887"
             ],
             [
              0.1111111111111111,
              "#46039f"
             ],
             [
              0.2222222222222222,
              "#7201a8"
             ],
             [
              0.3333333333333333,
              "#9c179e"
             ],
             [
              0.4444444444444444,
              "#bd3786"
             ],
             [
              0.5555555555555556,
              "#d8576b"
             ],
             [
              0.6666666666666666,
              "#ed7953"
             ],
             [
              0.7777777777777778,
              "#fb9f3a"
             ],
             [
              0.8888888888888888,
              "#fdca26"
             ],
             [
              1,
              "#f0f921"
             ]
            ],
            "type": "heatmapgl"
           }
          ],
          "histogram": [
           {
            "marker": {
             "colorbar": {
              "outlinewidth": 0,
              "ticks": ""
             }
            },
            "type": "histogram"
           }
          ],
          "histogram2d": [
           {
            "colorbar": {
             "outlinewidth": 0,
             "ticks": ""
            },
            "colorscale": [
             [
              0,
              "#0d0887"
             ],
             [
              0.1111111111111111,
              "#46039f"
             ],
             [
              0.2222222222222222,
              "#7201a8"
             ],
             [
              0.3333333333333333,
              "#9c179e"
             ],
             [
              0.4444444444444444,
              "#bd3786"
             ],
             [
              0.5555555555555556,
              "#d8576b"
             ],
             [
              0.6666666666666666,
              "#ed7953"
             ],
             [
              0.7777777777777778,
              "#fb9f3a"
             ],
             [
              0.8888888888888888,
              "#fdca26"
             ],
             [
              1,
              "#f0f921"
             ]
            ],
            "type": "histogram2d"
           }
          ],
          "histogram2dcontour": [
           {
            "colorbar": {
             "outlinewidth": 0,
             "ticks": ""
            },
            "colorscale": [
             [
              0,
              "#0d0887"
             ],
             [
              0.1111111111111111,
              "#46039f"
             ],
             [
              0.2222222222222222,
              "#7201a8"
             ],
             [
              0.3333333333333333,
              "#9c179e"
             ],
             [
              0.4444444444444444,
              "#bd3786"
             ],
             [
              0.5555555555555556,
              "#d8576b"
             ],
             [
              0.6666666666666666,
              "#ed7953"
             ],
             [
              0.7777777777777778,
              "#fb9f3a"
             ],
             [
              0.8888888888888888,
              "#fdca26"
             ],
             [
              1,
              "#f0f921"
             ]
            ],
            "type": "histogram2dcontour"
           }
          ],
          "mesh3d": [
           {
            "colorbar": {
             "outlinewidth": 0,
             "ticks": ""
            },
            "type": "mesh3d"
           }
          ],
          "parcoords": [
           {
            "line": {
             "colorbar": {
              "outlinewidth": 0,
              "ticks": ""
             }
            },
            "type": "parcoords"
           }
          ],
          "pie": [
           {
            "automargin": true,
            "type": "pie"
           }
          ],
          "scatter": [
           {
            "marker": {
             "colorbar": {
              "outlinewidth": 0,
              "ticks": ""
             }
            },
            "type": "scatter"
           }
          ],
          "scatter3d": [
           {
            "line": {
             "colorbar": {
              "outlinewidth": 0,
              "ticks": ""
             }
            },
            "marker": {
             "colorbar": {
              "outlinewidth": 0,
              "ticks": ""
             }
            },
            "type": "scatter3d"
           }
          ],
          "scattercarpet": [
           {
            "marker": {
             "colorbar": {
              "outlinewidth": 0,
              "ticks": ""
             }
            },
            "type": "scattercarpet"
           }
          ],
          "scattergeo": [
           {
            "marker": {
             "colorbar": {
              "outlinewidth": 0,
              "ticks": ""
             }
            },
            "type": "scattergeo"
           }
          ],
          "scattergl": [
           {
            "marker": {
             "colorbar": {
              "outlinewidth": 0,
              "ticks": ""
             }
            },
            "type": "scattergl"
           }
          ],
          "scattermapbox": [
           {
            "marker": {
             "colorbar": {
              "outlinewidth": 0,
              "ticks": ""
             }
            },
            "type": "scattermapbox"
           }
          ],
          "scatterpolar": [
           {
            "marker": {
             "colorbar": {
              "outlinewidth": 0,
              "ticks": ""
             }
            },
            "type": "scatterpolar"
           }
          ],
          "scatterpolargl": [
           {
            "marker": {
             "colorbar": {
              "outlinewidth": 0,
              "ticks": ""
             }
            },
            "type": "scatterpolargl"
           }
          ],
          "scatterternary": [
           {
            "marker": {
             "colorbar": {
              "outlinewidth": 0,
              "ticks": ""
             }
            },
            "type": "scatterternary"
           }
          ],
          "surface": [
           {
            "colorbar": {
             "outlinewidth": 0,
             "ticks": ""
            },
            "colorscale": [
             [
              0,
              "#0d0887"
             ],
             [
              0.1111111111111111,
              "#46039f"
             ],
             [
              0.2222222222222222,
              "#7201a8"
             ],
             [
              0.3333333333333333,
              "#9c179e"
             ],
             [
              0.4444444444444444,
              "#bd3786"
             ],
             [
              0.5555555555555556,
              "#d8576b"
             ],
             [
              0.6666666666666666,
              "#ed7953"
             ],
             [
              0.7777777777777778,
              "#fb9f3a"
             ],
             [
              0.8888888888888888,
              "#fdca26"
             ],
             [
              1,
              "#f0f921"
             ]
            ],
            "type": "surface"
           }
          ],
          "table": [
           {
            "cells": {
             "fill": {
              "color": "#EBF0F8"
             },
             "line": {
              "color": "white"
             }
            },
            "header": {
             "fill": {
              "color": "#C8D4E3"
             },
             "line": {
              "color": "white"
             }
            },
            "type": "table"
           }
          ]
         },
         "layout": {
          "annotationdefaults": {
           "arrowcolor": "#2a3f5f",
           "arrowhead": 0,
           "arrowwidth": 1
          },
          "autotypenumbers": "strict",
          "coloraxis": {
           "colorbar": {
            "outlinewidth": 0,
            "ticks": ""
           }
          },
          "colorscale": {
           "diverging": [
            [
             0,
             "#8e0152"
            ],
            [
             0.1,
             "#c51b7d"
            ],
            [
             0.2,
             "#de77ae"
            ],
            [
             0.3,
             "#f1b6da"
            ],
            [
             0.4,
             "#fde0ef"
            ],
            [
             0.5,
             "#f7f7f7"
            ],
            [
             0.6,
             "#e6f5d0"
            ],
            [
             0.7,
             "#b8e186"
            ],
            [
             0.8,
             "#7fbc41"
            ],
            [
             0.9,
             "#4d9221"
            ],
            [
             1,
             "#276419"
            ]
           ],
           "sequential": [
            [
             0,
             "#0d0887"
            ],
            [
             0.1111111111111111,
             "#46039f"
            ],
            [
             0.2222222222222222,
             "#7201a8"
            ],
            [
             0.3333333333333333,
             "#9c179e"
            ],
            [
             0.4444444444444444,
             "#bd3786"
            ],
            [
             0.5555555555555556,
             "#d8576b"
            ],
            [
             0.6666666666666666,
             "#ed7953"
            ],
            [
             0.7777777777777778,
             "#fb9f3a"
            ],
            [
             0.8888888888888888,
             "#fdca26"
            ],
            [
             1,
             "#f0f921"
            ]
           ],
           "sequentialminus": [
            [
             0,
             "#0d0887"
            ],
            [
             0.1111111111111111,
             "#46039f"
            ],
            [
             0.2222222222222222,
             "#7201a8"
            ],
            [
             0.3333333333333333,
             "#9c179e"
            ],
            [
             0.4444444444444444,
             "#bd3786"
            ],
            [
             0.5555555555555556,
             "#d8576b"
            ],
            [
             0.6666666666666666,
             "#ed7953"
            ],
            [
             0.7777777777777778,
             "#fb9f3a"
            ],
            [
             0.8888888888888888,
             "#fdca26"
            ],
            [
             1,
             "#f0f921"
            ]
           ]
          },
          "colorway": [
           "#636efa",
           "#EF553B",
           "#00cc96",
           "#ab63fa",
           "#FFA15A",
           "#19d3f3",
           "#FF6692",
           "#B6E880",
           "#FF97FF",
           "#FECB52"
          ],
          "font": {
           "color": "#2a3f5f"
          },
          "geo": {
           "bgcolor": "white",
           "lakecolor": "white",
           "landcolor": "#E5ECF6",
           "showlakes": true,
           "showland": true,
           "subunitcolor": "white"
          },
          "hoverlabel": {
           "align": "left"
          },
          "hovermode": "closest",
          "mapbox": {
           "style": "light"
          },
          "paper_bgcolor": "white",
          "plot_bgcolor": "#E5ECF6",
          "polar": {
           "angularaxis": {
            "gridcolor": "white",
            "linecolor": "white",
            "ticks": ""
           },
           "bgcolor": "#E5ECF6",
           "radialaxis": {
            "gridcolor": "white",
            "linecolor": "white",
            "ticks": ""
           }
          },
          "scene": {
           "xaxis": {
            "backgroundcolor": "#E5ECF6",
            "gridcolor": "white",
            "gridwidth": 2,
            "linecolor": "white",
            "showbackground": true,
            "ticks": "",
            "zerolinecolor": "white"
           },
           "yaxis": {
            "backgroundcolor": "#E5ECF6",
            "gridcolor": "white",
            "gridwidth": 2,
            "linecolor": "white",
            "showbackground": true,
            "ticks": "",
            "zerolinecolor": "white"
           },
           "zaxis": {
            "backgroundcolor": "#E5ECF6",
            "gridcolor": "white",
            "gridwidth": 2,
            "linecolor": "white",
            "showbackground": true,
            "ticks": "",
            "zerolinecolor": "white"
           }
          },
          "shapedefaults": {
           "line": {
            "color": "#2a3f5f"
           }
          },
          "ternary": {
           "aaxis": {
            "gridcolor": "white",
            "linecolor": "white",
            "ticks": ""
           },
           "baxis": {
            "gridcolor": "white",
            "linecolor": "white",
            "ticks": ""
           },
           "bgcolor": "#E5ECF6",
           "caxis": {
            "gridcolor": "white",
            "linecolor": "white",
            "ticks": ""
           }
          },
          "title": {
           "x": 0.05
          },
          "xaxis": {
           "automargin": true,
           "gridcolor": "white",
           "linecolor": "white",
           "ticks": "",
           "title": {
            "standoff": 15
           },
           "zerolinecolor": "white",
           "zerolinewidth": 2
          },
          "yaxis": {
           "automargin": true,
           "gridcolor": "white",
           "linecolor": "white",
           "ticks": "",
           "title": {
            "standoff": 15
           },
           "zerolinecolor": "white",
           "zerolinewidth": 2
          }
         }
        },
        "width": 800
       }
      },
      "text/html": [
       "<div>                            <div id=\"2f300aab-5622-4d29-9d58-1616e7e88fc8\" class=\"plotly-graph-div\" style=\"height:400px; width:800px;\"></div>            <script type=\"text/javascript\">                require([\"plotly\"], function(Plotly) {                    window.PLOTLYENV=window.PLOTLYENV || {};\n",
       "                    window.PLOTLYENV.BASE_URL='https://plot.ly';                                    if (document.getElementById(\"2f300aab-5622-4d29-9d58-1616e7e88fc8\")) {                    Plotly.newPlot(                        \"2f300aab-5622-4d29-9d58-1616e7e88fc8\",                        [{\"marker\": {\"color\": \"rgba(255, 153, 51, 0.6)\", \"line\": {\"color\": \"rgba(255, 153, 51, 1.0)\", \"width\": 1}}, \"name\": \"INVESTMENT\", \"orientation\": \"v\", \"text\": \"\", \"type\": \"bar\", \"x\": [\"Aerospace & Defense\", \"Auto Components & Equipments\", \"Batteries - Automobile\", \"Cement & Cement Products\", \"Computers - Software & Consulting\", \"Electric Utilities\", \"Engineering Designing & Construction\", \"Film Production Distribution & Exhibition\", \"Financial Institution\", \"Housing Finance Company\", \"Life Insurance\", \"Private Sector Bank\", \"Public Sector Bank\", \"Residential Commercial Projects\", \"Restaurants\"], \"y\": [4785.0, 10268.0, 11718.0, 10846.0, 23465.95, 7643.7, 20312.25, 12564.0, 7198.15, 14326.7, 20973.0, 21818.25, 7815.0, 9260.2, 8906.0]}, {\"marker\": {\"color\": \"rgba(55, 128, 191, 0.6)\", \"line\": {\"color\": \"rgba(55, 128, 191, 1.0)\", \"width\": 1}}, \"name\": \"MKT_VALUE\", \"orientation\": \"v\", \"text\": \"\", \"type\": \"bar\", \"x\": [\"Aerospace & Defense\", \"Auto Components & Equipments\", \"Batteries - Automobile\", \"Cement & Cement Products\", \"Computers - Software & Consulting\", \"Electric Utilities\", \"Engineering Designing & Construction\", \"Film Production Distribution & Exhibition\", \"Financial Institution\", \"Housing Finance Company\", \"Life Insurance\", \"Private Sector Bank\", \"Public Sector Bank\", \"Residential Commercial Projects\", \"Restaurants\"], \"y\": [7753.25, 8249.15, 8215.2, 7930.0, 21494.25, 8280.0, 16312.5, 15950.25, 6017.5, 11107.2, 16776.0, 20115.75, 6659.999999999999, 760.0, 10011.5]}, {\"marker\": {\"color\": \"rgba(50, 171, 96, 0.6)\", \"line\": {\"color\": \"rgba(50, 171, 96, 1.0)\", \"width\": 1}}, \"name\": \"REAL\", \"orientation\": \"v\", \"text\": \"\", \"type\": \"bar\", \"x\": [\"Aerospace & Defense\", \"Auto Components & Equipments\", \"Batteries - Automobile\", \"Cement & Cement Products\", \"Computers - Software & Consulting\", \"Electric Utilities\", \"Engineering Designing & Construction\", \"Film Production Distribution & Exhibition\", \"Financial Institution\", \"Housing Finance Company\", \"Life Insurance\", \"Private Sector Bank\", \"Public Sector Bank\", \"Residential Commercial Projects\", \"Restaurants\"], \"y\": [69.38, 0.0, 0.0, 0.0, 9.25, 499.5, 0.0, 0.0, 250.0, 0.0, 0.0, 0.0, 0.0, 0.0, 0.0]}],                        {\"height\": 400, \"hovermode\": \"x\", \"template\": {\"data\": {\"bar\": [{\"error_x\": {\"color\": \"#2a3f5f\"}, \"error_y\": {\"color\": \"#2a3f5f\"}, \"marker\": {\"line\": {\"color\": \"#E5ECF6\", \"width\": 0.5}}, \"type\": \"bar\"}], \"barpolar\": [{\"marker\": {\"line\": {\"color\": \"#E5ECF6\", \"width\": 0.5}}, \"type\": \"barpolar\"}], \"carpet\": [{\"aaxis\": {\"endlinecolor\": \"#2a3f5f\", \"gridcolor\": \"white\", \"linecolor\": \"white\", \"minorgridcolor\": \"white\", \"startlinecolor\": \"#2a3f5f\"}, \"baxis\": {\"endlinecolor\": \"#2a3f5f\", \"gridcolor\": \"white\", \"linecolor\": \"white\", \"minorgridcolor\": \"white\", \"startlinecolor\": \"#2a3f5f\"}, \"type\": \"carpet\"}], \"choropleth\": [{\"colorbar\": {\"outlinewidth\": 0, \"ticks\": \"\"}, \"type\": \"choropleth\"}], \"contour\": [{\"colorbar\": {\"outlinewidth\": 0, \"ticks\": \"\"}, \"colorscale\": [[0.0, \"#0d0887\"], [0.1111111111111111, \"#46039f\"], [0.2222222222222222, \"#7201a8\"], [0.3333333333333333, \"#9c179e\"], [0.4444444444444444, \"#bd3786\"], [0.5555555555555556, \"#d8576b\"], [0.6666666666666666, \"#ed7953\"], [0.7777777777777778, \"#fb9f3a\"], [0.8888888888888888, \"#fdca26\"], [1.0, \"#f0f921\"]], \"type\": \"contour\"}], \"contourcarpet\": [{\"colorbar\": {\"outlinewidth\": 0, \"ticks\": \"\"}, \"type\": \"contourcarpet\"}], \"heatmap\": [{\"colorbar\": {\"outlinewidth\": 0, \"ticks\": \"\"}, \"colorscale\": [[0.0, \"#0d0887\"], [0.1111111111111111, \"#46039f\"], [0.2222222222222222, \"#7201a8\"], [0.3333333333333333, \"#9c179e\"], [0.4444444444444444, \"#bd3786\"], [0.5555555555555556, \"#d8576b\"], [0.6666666666666666, \"#ed7953\"], [0.7777777777777778, \"#fb9f3a\"], [0.8888888888888888, \"#fdca26\"], [1.0, \"#f0f921\"]], \"type\": \"heatmap\"}], \"heatmapgl\": [{\"colorbar\": {\"outlinewidth\": 0, \"ticks\": \"\"}, \"colorscale\": [[0.0, \"#0d0887\"], [0.1111111111111111, \"#46039f\"], [0.2222222222222222, \"#7201a8\"], [0.3333333333333333, \"#9c179e\"], [0.4444444444444444, \"#bd3786\"], [0.5555555555555556, \"#d8576b\"], [0.6666666666666666, \"#ed7953\"], [0.7777777777777778, \"#fb9f3a\"], [0.8888888888888888, \"#fdca26\"], [1.0, \"#f0f921\"]], \"type\": \"heatmapgl\"}], \"histogram\": [{\"marker\": {\"colorbar\": {\"outlinewidth\": 0, \"ticks\": \"\"}}, \"type\": \"histogram\"}], \"histogram2d\": [{\"colorbar\": {\"outlinewidth\": 0, \"ticks\": \"\"}, \"colorscale\": [[0.0, \"#0d0887\"], [0.1111111111111111, \"#46039f\"], [0.2222222222222222, \"#7201a8\"], [0.3333333333333333, \"#9c179e\"], [0.4444444444444444, \"#bd3786\"], [0.5555555555555556, \"#d8576b\"], [0.6666666666666666, \"#ed7953\"], [0.7777777777777778, \"#fb9f3a\"], [0.8888888888888888, \"#fdca26\"], [1.0, \"#f0f921\"]], \"type\": \"histogram2d\"}], \"histogram2dcontour\": [{\"colorbar\": {\"outlinewidth\": 0, \"ticks\": \"\"}, \"colorscale\": [[0.0, \"#0d0887\"], [0.1111111111111111, \"#46039f\"], [0.2222222222222222, \"#7201a8\"], [0.3333333333333333, \"#9c179e\"], [0.4444444444444444, \"#bd3786\"], [0.5555555555555556, \"#d8576b\"], [0.6666666666666666, \"#ed7953\"], [0.7777777777777778, \"#fb9f3a\"], [0.8888888888888888, \"#fdca26\"], [1.0, \"#f0f921\"]], \"type\": \"histogram2dcontour\"}], \"mesh3d\": [{\"colorbar\": {\"outlinewidth\": 0, \"ticks\": \"\"}, \"type\": \"mesh3d\"}], \"parcoords\": [{\"line\": {\"colorbar\": {\"outlinewidth\": 0, \"ticks\": \"\"}}, \"type\": \"parcoords\"}], \"pie\": [{\"automargin\": true, \"type\": \"pie\"}], \"scatter\": [{\"marker\": {\"colorbar\": {\"outlinewidth\": 0, \"ticks\": \"\"}}, \"type\": \"scatter\"}], \"scatter3d\": [{\"line\": {\"colorbar\": {\"outlinewidth\": 0, \"ticks\": \"\"}}, \"marker\": {\"colorbar\": {\"outlinewidth\": 0, \"ticks\": \"\"}}, \"type\": \"scatter3d\"}], \"scattercarpet\": [{\"marker\": {\"colorbar\": {\"outlinewidth\": 0, \"ticks\": \"\"}}, \"type\": \"scattercarpet\"}], \"scattergeo\": [{\"marker\": {\"colorbar\": {\"outlinewidth\": 0, \"ticks\": \"\"}}, \"type\": \"scattergeo\"}], \"scattergl\": [{\"marker\": {\"colorbar\": {\"outlinewidth\": 0, \"ticks\": \"\"}}, \"type\": \"scattergl\"}], \"scattermapbox\": [{\"marker\": {\"colorbar\": {\"outlinewidth\": 0, \"ticks\": \"\"}}, \"type\": \"scattermapbox\"}], \"scatterpolar\": [{\"marker\": {\"colorbar\": {\"outlinewidth\": 0, \"ticks\": \"\"}}, \"type\": \"scatterpolar\"}], \"scatterpolargl\": [{\"marker\": {\"colorbar\": {\"outlinewidth\": 0, \"ticks\": \"\"}}, \"type\": \"scatterpolargl\"}], \"scatterternary\": [{\"marker\": {\"colorbar\": {\"outlinewidth\": 0, \"ticks\": \"\"}}, \"type\": \"scatterternary\"}], \"surface\": [{\"colorbar\": {\"outlinewidth\": 0, \"ticks\": \"\"}, \"colorscale\": [[0.0, \"#0d0887\"], [0.1111111111111111, \"#46039f\"], [0.2222222222222222, \"#7201a8\"], [0.3333333333333333, \"#9c179e\"], [0.4444444444444444, \"#bd3786\"], [0.5555555555555556, \"#d8576b\"], [0.6666666666666666, \"#ed7953\"], [0.7777777777777778, \"#fb9f3a\"], [0.8888888888888888, \"#fdca26\"], [1.0, \"#f0f921\"]], \"type\": \"surface\"}], \"table\": [{\"cells\": {\"fill\": {\"color\": \"#EBF0F8\"}, \"line\": {\"color\": \"white\"}}, \"header\": {\"fill\": {\"color\": \"#C8D4E3\"}, \"line\": {\"color\": \"white\"}}, \"type\": \"table\"}]}, \"layout\": {\"annotationdefaults\": {\"arrowcolor\": \"#2a3f5f\", \"arrowhead\": 0, \"arrowwidth\": 1}, \"autotypenumbers\": \"strict\", \"coloraxis\": {\"colorbar\": {\"outlinewidth\": 0, \"ticks\": \"\"}}, \"colorscale\": {\"diverging\": [[0, \"#8e0152\"], [0.1, \"#c51b7d\"], [0.2, \"#de77ae\"], [0.3, \"#f1b6da\"], [0.4, \"#fde0ef\"], [0.5, \"#f7f7f7\"], [0.6, \"#e6f5d0\"], [0.7, \"#b8e186\"], [0.8, \"#7fbc41\"], [0.9, \"#4d9221\"], [1, \"#276419\"]], \"sequential\": [[0.0, \"#0d0887\"], [0.1111111111111111, \"#46039f\"], [0.2222222222222222, \"#7201a8\"], [0.3333333333333333, \"#9c179e\"], [0.4444444444444444, \"#bd3786\"], [0.5555555555555556, \"#d8576b\"], [0.6666666666666666, \"#ed7953\"], [0.7777777777777778, \"#fb9f3a\"], [0.8888888888888888, \"#fdca26\"], [1.0, \"#f0f921\"]], \"sequentialminus\": [[0.0, \"#0d0887\"], [0.1111111111111111, \"#46039f\"], [0.2222222222222222, \"#7201a8\"], [0.3333333333333333, \"#9c179e\"], [0.4444444444444444, \"#bd3786\"], [0.5555555555555556, \"#d8576b\"], [0.6666666666666666, \"#ed7953\"], [0.7777777777777778, \"#fb9f3a\"], [0.8888888888888888, \"#fdca26\"], [1.0, \"#f0f921\"]]}, \"colorway\": [\"#636efa\", \"#EF553B\", \"#00cc96\", \"#ab63fa\", \"#FFA15A\", \"#19d3f3\", \"#FF6692\", \"#B6E880\", \"#FF97FF\", \"#FECB52\"], \"font\": {\"color\": \"#2a3f5f\"}, \"geo\": {\"bgcolor\": \"white\", \"lakecolor\": \"white\", \"landcolor\": \"#E5ECF6\", \"showlakes\": true, \"showland\": true, \"subunitcolor\": \"white\"}, \"hoverlabel\": {\"align\": \"left\"}, \"hovermode\": \"closest\", \"mapbox\": {\"style\": \"light\"}, \"paper_bgcolor\": \"white\", \"plot_bgcolor\": \"#E5ECF6\", \"polar\": {\"angularaxis\": {\"gridcolor\": \"white\", \"linecolor\": \"white\", \"ticks\": \"\"}, \"bgcolor\": \"#E5ECF6\", \"radialaxis\": {\"gridcolor\": \"white\", \"linecolor\": \"white\", \"ticks\": \"\"}}, \"scene\": {\"xaxis\": {\"backgroundcolor\": \"#E5ECF6\", \"gridcolor\": \"white\", \"gridwidth\": 2, \"linecolor\": \"white\", \"showbackground\": true, \"ticks\": \"\", \"zerolinecolor\": \"white\"}, \"yaxis\": {\"backgroundcolor\": \"#E5ECF6\", \"gridcolor\": \"white\", \"gridwidth\": 2, \"linecolor\": \"white\", \"showbackground\": true, \"ticks\": \"\", \"zerolinecolor\": \"white\"}, \"zaxis\": {\"backgroundcolor\": \"#E5ECF6\", \"gridcolor\": \"white\", \"gridwidth\": 2, \"linecolor\": \"white\", \"showbackground\": true, \"ticks\": \"\", \"zerolinecolor\": \"white\"}}, \"shapedefaults\": {\"line\": {\"color\": \"#2a3f5f\"}}, \"ternary\": {\"aaxis\": {\"gridcolor\": \"white\", \"linecolor\": \"white\", \"ticks\": \"\"}, \"baxis\": {\"gridcolor\": \"white\", \"linecolor\": \"white\", \"ticks\": \"\"}, \"bgcolor\": \"#E5ECF6\", \"caxis\": {\"gridcolor\": \"white\", \"linecolor\": \"white\", \"ticks\": \"\"}}, \"title\": {\"x\": 0.05}, \"xaxis\": {\"automargin\": true, \"gridcolor\": \"white\", \"linecolor\": \"white\", \"ticks\": \"\", \"title\": {\"standoff\": 15}, \"zerolinecolor\": \"white\", \"zerolinewidth\": 2}, \"yaxis\": {\"automargin\": true, \"gridcolor\": \"white\", \"linecolor\": \"white\", \"ticks\": \"\", \"title\": {\"standoff\": 15}, \"zerolinecolor\": \"white\", \"zerolinewidth\": 2}}}, \"width\": 800},                        {\"showLink\": true, \"linkText\": \"Export to plot.ly\", \"plotlyServerURL\": \"https://plot.ly\", \"responsive\": true}                    ).then(function(){\n",
       "                            \n",
       "var gd = document.getElementById('2f300aab-5622-4d29-9d58-1616e7e88fc8');\n",
       "var x = new MutationObserver(function (mutations, observer) {{\n",
       "        var display = window.getComputedStyle(gd).display;\n",
       "        if (!display || display === 'none') {{\n",
       "            console.log([gd, 'removed!']);\n",
       "            Plotly.purge(gd);\n",
       "            observer.disconnect();\n",
       "        }}\n",
       "}});\n",
       "\n",
       "// Listen for the removal of the full notebook cells\n",
       "var notebookContainer = gd.closest('#notebook-container');\n",
       "if (notebookContainer) {{\n",
       "    x.observe(notebookContainer, {childList: true});\n",
       "}}\n",
       "\n",
       "// Listen for the clearing of the current output cell\n",
       "var outputEl = gd.closest('.output');\n",
       "if (outputEl) {{\n",
       "    x.observe(outputEl, {childList: true});\n",
       "}}\n",
       "\n",
       "                        })                };                });            </script>        </div>"
      ]
     },
     "metadata": {},
     "output_type": "display_data"
    },
    {
     "data": {
      "application/vnd.plotly.v1+json": {
       "config": {
        "linkText": "Export to plot.ly",
        "plotlyServerURL": "https://plot.ly",
        "showLink": true
       },
       "data": [
        {
         "marker": {
          "color": "rgba(255, 153, 51, 0.6)",
          "line": {
           "color": "rgba(255, 153, 51, 1.0)",
           "width": 1
          }
         },
         "name": "INVESTMENT",
         "orientation": "v",
         "text": "",
         "type": "bar",
         "x": [
          "AMARAJABAT",
          "BARBEQUE",
          "ENDURANCE",
          "HAL",
          "HDFCBANK",
          "HDFCLIFE",
          "IRCON",
          "JKLAKSHMI",
          "LICHSGFIN",
          "PNB",
          "PVR",
          "RECLTD",
          "SJVN",
          "SWSOLAR",
          "UNITECH",
          "WIPRO"
         ],
         "y": [
          11718,
          8906,
          10268,
          4785,
          21818.25,
          20973,
          8806,
          10846,
          14326.7,
          7815,
          12564,
          7198.15,
          7643.7,
          11506.25,
          9260.2,
          23465.95
         ]
        },
        {
         "marker": {
          "color": "rgba(55, 128, 191, 0.6)",
          "line": {
           "color": "rgba(55, 128, 191, 1.0)",
           "width": 1
          }
         },
         "name": "MKT_VALUE",
         "orientation": "v",
         "text": "",
         "type": "bar",
         "x": [
          "AMARAJABAT",
          "BARBEQUE",
          "ENDURANCE",
          "HAL",
          "HDFCBANK",
          "HDFCLIFE",
          "IRCON",
          "JKLAKSHMI",
          "LICHSGFIN",
          "PNB",
          "PVR",
          "RECLTD",
          "SJVN",
          "SWSOLAR",
          "UNITECH",
          "WIPRO"
         ],
         "y": [
          8215.2,
          10011.5,
          8249.15,
          7753.25,
          20115.75,
          16776,
          7950,
          7930,
          11107.2,
          6659.999999999999,
          15950.25,
          6017.5,
          8280,
          8362.5,
          760,
          21494.25
         ]
        },
        {
         "marker": {
          "color": "rgba(50, 171, 96, 0.6)",
          "line": {
           "color": "rgba(50, 171, 96, 1.0)",
           "width": 1
          }
         },
         "name": "REAL",
         "orientation": "v",
         "text": "",
         "type": "bar",
         "x": [
          "AMARAJABAT",
          "BARBEQUE",
          "ENDURANCE",
          "HAL",
          "HDFCBANK",
          "HDFCLIFE",
          "IRCON",
          "JKLAKSHMI",
          "LICHSGFIN",
          "PNB",
          "PVR",
          "RECLTD",
          "SJVN",
          "SWSOLAR",
          "UNITECH",
          "WIPRO"
         ],
         "y": [
          0,
          0,
          0,
          69.38,
          0,
          0,
          0,
          0,
          0,
          0,
          0,
          250,
          499.5,
          0,
          0,
          9.25
         ]
        }
       ],
       "layout": {
        "height": 400,
        "hovermode": "x",
        "template": {
         "data": {
          "bar": [
           {
            "error_x": {
             "color": "#2a3f5f"
            },
            "error_y": {
             "color": "#2a3f5f"
            },
            "marker": {
             "line": {
              "color": "#E5ECF6",
              "width": 0.5
             }
            },
            "type": "bar"
           }
          ],
          "barpolar": [
           {
            "marker": {
             "line": {
              "color": "#E5ECF6",
              "width": 0.5
             }
            },
            "type": "barpolar"
           }
          ],
          "carpet": [
           {
            "aaxis": {
             "endlinecolor": "#2a3f5f",
             "gridcolor": "white",
             "linecolor": "white",
             "minorgridcolor": "white",
             "startlinecolor": "#2a3f5f"
            },
            "baxis": {
             "endlinecolor": "#2a3f5f",
             "gridcolor": "white",
             "linecolor": "white",
             "minorgridcolor": "white",
             "startlinecolor": "#2a3f5f"
            },
            "type": "carpet"
           }
          ],
          "choropleth": [
           {
            "colorbar": {
             "outlinewidth": 0,
             "ticks": ""
            },
            "type": "choropleth"
           }
          ],
          "contour": [
           {
            "colorbar": {
             "outlinewidth": 0,
             "ticks": ""
            },
            "colorscale": [
             [
              0,
              "#0d0887"
             ],
             [
              0.1111111111111111,
              "#46039f"
             ],
             [
              0.2222222222222222,
              "#7201a8"
             ],
             [
              0.3333333333333333,
              "#9c179e"
             ],
             [
              0.4444444444444444,
              "#bd3786"
             ],
             [
              0.5555555555555556,
              "#d8576b"
             ],
             [
              0.6666666666666666,
              "#ed7953"
             ],
             [
              0.7777777777777778,
              "#fb9f3a"
             ],
             [
              0.8888888888888888,
              "#fdca26"
             ],
             [
              1,
              "#f0f921"
             ]
            ],
            "type": "contour"
           }
          ],
          "contourcarpet": [
           {
            "colorbar": {
             "outlinewidth": 0,
             "ticks": ""
            },
            "type": "contourcarpet"
           }
          ],
          "heatmap": [
           {
            "colorbar": {
             "outlinewidth": 0,
             "ticks": ""
            },
            "colorscale": [
             [
              0,
              "#0d0887"
             ],
             [
              0.1111111111111111,
              "#46039f"
             ],
             [
              0.2222222222222222,
              "#7201a8"
             ],
             [
              0.3333333333333333,
              "#9c179e"
             ],
             [
              0.4444444444444444,
              "#bd3786"
             ],
             [
              0.5555555555555556,
              "#d8576b"
             ],
             [
              0.6666666666666666,
              "#ed7953"
             ],
             [
              0.7777777777777778,
              "#fb9f3a"
             ],
             [
              0.8888888888888888,
              "#fdca26"
             ],
             [
              1,
              "#f0f921"
             ]
            ],
            "type": "heatmap"
           }
          ],
          "heatmapgl": [
           {
            "colorbar": {
             "outlinewidth": 0,
             "ticks": ""
            },
            "colorscale": [
             [
              0,
              "#0d0887"
             ],
             [
              0.1111111111111111,
              "#46039f"
             ],
             [
              0.2222222222222222,
              "#7201a8"
             ],
             [
              0.3333333333333333,
              "#9c179e"
             ],
             [
              0.4444444444444444,
              "#bd3786"
             ],
             [
              0.5555555555555556,
              "#d8576b"
             ],
             [
              0.6666666666666666,
              "#ed7953"
             ],
             [
              0.7777777777777778,
              "#fb9f3a"
             ],
             [
              0.8888888888888888,
              "#fdca26"
             ],
             [
              1,
              "#f0f921"
             ]
            ],
            "type": "heatmapgl"
           }
          ],
          "histogram": [
           {
            "marker": {
             "colorbar": {
              "outlinewidth": 0,
              "ticks": ""
             }
            },
            "type": "histogram"
           }
          ],
          "histogram2d": [
           {
            "colorbar": {
             "outlinewidth": 0,
             "ticks": ""
            },
            "colorscale": [
             [
              0,
              "#0d0887"
             ],
             [
              0.1111111111111111,
              "#46039f"
             ],
             [
              0.2222222222222222,
              "#7201a8"
             ],
             [
              0.3333333333333333,
              "#9c179e"
             ],
             [
              0.4444444444444444,
              "#bd3786"
             ],
             [
              0.5555555555555556,
              "#d8576b"
             ],
             [
              0.6666666666666666,
              "#ed7953"
             ],
             [
              0.7777777777777778,
              "#fb9f3a"
             ],
             [
              0.8888888888888888,
              "#fdca26"
             ],
             [
              1,
              "#f0f921"
             ]
            ],
            "type": "histogram2d"
           }
          ],
          "histogram2dcontour": [
           {
            "colorbar": {
             "outlinewidth": 0,
             "ticks": ""
            },
            "colorscale": [
             [
              0,
              "#0d0887"
             ],
             [
              0.1111111111111111,
              "#46039f"
             ],
             [
              0.2222222222222222,
              "#7201a8"
             ],
             [
              0.3333333333333333,
              "#9c179e"
             ],
             [
              0.4444444444444444,
              "#bd3786"
             ],
             [
              0.5555555555555556,
              "#d8576b"
             ],
             [
              0.6666666666666666,
              "#ed7953"
             ],
             [
              0.7777777777777778,
              "#fb9f3a"
             ],
             [
              0.8888888888888888,
              "#fdca26"
             ],
             [
              1,
              "#f0f921"
             ]
            ],
            "type": "histogram2dcontour"
           }
          ],
          "mesh3d": [
           {
            "colorbar": {
             "outlinewidth": 0,
             "ticks": ""
            },
            "type": "mesh3d"
           }
          ],
          "parcoords": [
           {
            "line": {
             "colorbar": {
              "outlinewidth": 0,
              "ticks": ""
             }
            },
            "type": "parcoords"
           }
          ],
          "pie": [
           {
            "automargin": true,
            "type": "pie"
           }
          ],
          "scatter": [
           {
            "marker": {
             "colorbar": {
              "outlinewidth": 0,
              "ticks": ""
             }
            },
            "type": "scatter"
           }
          ],
          "scatter3d": [
           {
            "line": {
             "colorbar": {
              "outlinewidth": 0,
              "ticks": ""
             }
            },
            "marker": {
             "colorbar": {
              "outlinewidth": 0,
              "ticks": ""
             }
            },
            "type": "scatter3d"
           }
          ],
          "scattercarpet": [
           {
            "marker": {
             "colorbar": {
              "outlinewidth": 0,
              "ticks": ""
             }
            },
            "type": "scattercarpet"
           }
          ],
          "scattergeo": [
           {
            "marker": {
             "colorbar": {
              "outlinewidth": 0,
              "ticks": ""
             }
            },
            "type": "scattergeo"
           }
          ],
          "scattergl": [
           {
            "marker": {
             "colorbar": {
              "outlinewidth": 0,
              "ticks": ""
             }
            },
            "type": "scattergl"
           }
          ],
          "scattermapbox": [
           {
            "marker": {
             "colorbar": {
              "outlinewidth": 0,
              "ticks": ""
             }
            },
            "type": "scattermapbox"
           }
          ],
          "scatterpolar": [
           {
            "marker": {
             "colorbar": {
              "outlinewidth": 0,
              "ticks": ""
             }
            },
            "type": "scatterpolar"
           }
          ],
          "scatterpolargl": [
           {
            "marker": {
             "colorbar": {
              "outlinewidth": 0,
              "ticks": ""
             }
            },
            "type": "scatterpolargl"
           }
          ],
          "scatterternary": [
           {
            "marker": {
             "colorbar": {
              "outlinewidth": 0,
              "ticks": ""
             }
            },
            "type": "scatterternary"
           }
          ],
          "surface": [
           {
            "colorbar": {
             "outlinewidth": 0,
             "ticks": ""
            },
            "colorscale": [
             [
              0,
              "#0d0887"
             ],
             [
              0.1111111111111111,
              "#46039f"
             ],
             [
              0.2222222222222222,
              "#7201a8"
             ],
             [
              0.3333333333333333,
              "#9c179e"
             ],
             [
              0.4444444444444444,
              "#bd3786"
             ],
             [
              0.5555555555555556,
              "#d8576b"
             ],
             [
              0.6666666666666666,
              "#ed7953"
             ],
             [
              0.7777777777777778,
              "#fb9f3a"
             ],
             [
              0.8888888888888888,
              "#fdca26"
             ],
             [
              1,
              "#f0f921"
             ]
            ],
            "type": "surface"
           }
          ],
          "table": [
           {
            "cells": {
             "fill": {
              "color": "#EBF0F8"
             },
             "line": {
              "color": "white"
             }
            },
            "header": {
             "fill": {
              "color": "#C8D4E3"
             },
             "line": {
              "color": "white"
             }
            },
            "type": "table"
           }
          ]
         },
         "layout": {
          "annotationdefaults": {
           "arrowcolor": "#2a3f5f",
           "arrowhead": 0,
           "arrowwidth": 1
          },
          "autotypenumbers": "strict",
          "coloraxis": {
           "colorbar": {
            "outlinewidth": 0,
            "ticks": ""
           }
          },
          "colorscale": {
           "diverging": [
            [
             0,
             "#8e0152"
            ],
            [
             0.1,
             "#c51b7d"
            ],
            [
             0.2,
             "#de77ae"
            ],
            [
             0.3,
             "#f1b6da"
            ],
            [
             0.4,
             "#fde0ef"
            ],
            [
             0.5,
             "#f7f7f7"
            ],
            [
             0.6,
             "#e6f5d0"
            ],
            [
             0.7,
             "#b8e186"
            ],
            [
             0.8,
             "#7fbc41"
            ],
            [
             0.9,
             "#4d9221"
            ],
            [
             1,
             "#276419"
            ]
           ],
           "sequential": [
            [
             0,
             "#0d0887"
            ],
            [
             0.1111111111111111,
             "#46039f"
            ],
            [
             0.2222222222222222,
             "#7201a8"
            ],
            [
             0.3333333333333333,
             "#9c179e"
            ],
            [
             0.4444444444444444,
             "#bd3786"
            ],
            [
             0.5555555555555556,
             "#d8576b"
            ],
            [
             0.6666666666666666,
             "#ed7953"
            ],
            [
             0.7777777777777778,
             "#fb9f3a"
            ],
            [
             0.8888888888888888,
             "#fdca26"
            ],
            [
             1,
             "#f0f921"
            ]
           ],
           "sequentialminus": [
            [
             0,
             "#0d0887"
            ],
            [
             0.1111111111111111,
             "#46039f"
            ],
            [
             0.2222222222222222,
             "#7201a8"
            ],
            [
             0.3333333333333333,
             "#9c179e"
            ],
            [
             0.4444444444444444,
             "#bd3786"
            ],
            [
             0.5555555555555556,
             "#d8576b"
            ],
            [
             0.6666666666666666,
             "#ed7953"
            ],
            [
             0.7777777777777778,
             "#fb9f3a"
            ],
            [
             0.8888888888888888,
             "#fdca26"
            ],
            [
             1,
             "#f0f921"
            ]
           ]
          },
          "colorway": [
           "#636efa",
           "#EF553B",
           "#00cc96",
           "#ab63fa",
           "#FFA15A",
           "#19d3f3",
           "#FF6692",
           "#B6E880",
           "#FF97FF",
           "#FECB52"
          ],
          "font": {
           "color": "#2a3f5f"
          },
          "geo": {
           "bgcolor": "white",
           "lakecolor": "white",
           "landcolor": "#E5ECF6",
           "showlakes": true,
           "showland": true,
           "subunitcolor": "white"
          },
          "hoverlabel": {
           "align": "left"
          },
          "hovermode": "closest",
          "mapbox": {
           "style": "light"
          },
          "paper_bgcolor": "white",
          "plot_bgcolor": "#E5ECF6",
          "polar": {
           "angularaxis": {
            "gridcolor": "white",
            "linecolor": "white",
            "ticks": ""
           },
           "bgcolor": "#E5ECF6",
           "radialaxis": {
            "gridcolor": "white",
            "linecolor": "white",
            "ticks": ""
           }
          },
          "scene": {
           "xaxis": {
            "backgroundcolor": "#E5ECF6",
            "gridcolor": "white",
            "gridwidth": 2,
            "linecolor": "white",
            "showbackground": true,
            "ticks": "",
            "zerolinecolor": "white"
           },
           "yaxis": {
            "backgroundcolor": "#E5ECF6",
            "gridcolor": "white",
            "gridwidth": 2,
            "linecolor": "white",
            "showbackground": true,
            "ticks": "",
            "zerolinecolor": "white"
           },
           "zaxis": {
            "backgroundcolor": "#E5ECF6",
            "gridcolor": "white",
            "gridwidth": 2,
            "linecolor": "white",
            "showbackground": true,
            "ticks": "",
            "zerolinecolor": "white"
           }
          },
          "shapedefaults": {
           "line": {
            "color": "#2a3f5f"
           }
          },
          "ternary": {
           "aaxis": {
            "gridcolor": "white",
            "linecolor": "white",
            "ticks": ""
           },
           "baxis": {
            "gridcolor": "white",
            "linecolor": "white",
            "ticks": ""
           },
           "bgcolor": "#E5ECF6",
           "caxis": {
            "gridcolor": "white",
            "linecolor": "white",
            "ticks": ""
           }
          },
          "title": {
           "x": 0.05
          },
          "xaxis": {
           "automargin": true,
           "gridcolor": "white",
           "linecolor": "white",
           "ticks": "",
           "title": {
            "standoff": 15
           },
           "zerolinecolor": "white",
           "zerolinewidth": 2
          },
          "yaxis": {
           "automargin": true,
           "gridcolor": "white",
           "linecolor": "white",
           "ticks": "",
           "title": {
            "standoff": 15
           },
           "zerolinecolor": "white",
           "zerolinewidth": 2
          }
         }
        },
        "width": 800
       }
      },
      "text/html": [
       "<div>                            <div id=\"28506d11-ed41-41a9-a4bb-0471d9890520\" class=\"plotly-graph-div\" style=\"height:400px; width:800px;\"></div>            <script type=\"text/javascript\">                require([\"plotly\"], function(Plotly) {                    window.PLOTLYENV=window.PLOTLYENV || {};\n",
       "                    window.PLOTLYENV.BASE_URL='https://plot.ly';                                    if (document.getElementById(\"28506d11-ed41-41a9-a4bb-0471d9890520\")) {                    Plotly.newPlot(                        \"28506d11-ed41-41a9-a4bb-0471d9890520\",                        [{\"marker\": {\"color\": \"rgba(255, 153, 51, 0.6)\", \"line\": {\"color\": \"rgba(255, 153, 51, 1.0)\", \"width\": 1}}, \"name\": \"INVESTMENT\", \"orientation\": \"v\", \"text\": \"\", \"type\": \"bar\", \"x\": [\"AMARAJABAT\", \"BARBEQUE\", \"ENDURANCE\", \"HAL\", \"HDFCBANK\", \"HDFCLIFE\", \"IRCON\", \"JKLAKSHMI\", \"LICHSGFIN\", \"PNB\", \"PVR\", \"RECLTD\", \"SJVN\", \"SWSOLAR\", \"UNITECH\", \"WIPRO\"], \"y\": [11718.0, 8906.0, 10268.0, 4785.0, 21818.25, 20973.0, 8806.0, 10846.0, 14326.7, 7815.0, 12564.0, 7198.15, 7643.7, 11506.25, 9260.2, 23465.95]}, {\"marker\": {\"color\": \"rgba(55, 128, 191, 0.6)\", \"line\": {\"color\": \"rgba(55, 128, 191, 1.0)\", \"width\": 1}}, \"name\": \"MKT_VALUE\", \"orientation\": \"v\", \"text\": \"\", \"type\": \"bar\", \"x\": [\"AMARAJABAT\", \"BARBEQUE\", \"ENDURANCE\", \"HAL\", \"HDFCBANK\", \"HDFCLIFE\", \"IRCON\", \"JKLAKSHMI\", \"LICHSGFIN\", \"PNB\", \"PVR\", \"RECLTD\", \"SJVN\", \"SWSOLAR\", \"UNITECH\", \"WIPRO\"], \"y\": [8215.2, 10011.5, 8249.15, 7753.25, 20115.75, 16776.0, 7950.0, 7930.0, 11107.2, 6659.999999999999, 15950.25, 6017.5, 8280.0, 8362.5, 760.0, 21494.25]}, {\"marker\": {\"color\": \"rgba(50, 171, 96, 0.6)\", \"line\": {\"color\": \"rgba(50, 171, 96, 1.0)\", \"width\": 1}}, \"name\": \"REAL\", \"orientation\": \"v\", \"text\": \"\", \"type\": \"bar\", \"x\": [\"AMARAJABAT\", \"BARBEQUE\", \"ENDURANCE\", \"HAL\", \"HDFCBANK\", \"HDFCLIFE\", \"IRCON\", \"JKLAKSHMI\", \"LICHSGFIN\", \"PNB\", \"PVR\", \"RECLTD\", \"SJVN\", \"SWSOLAR\", \"UNITECH\", \"WIPRO\"], \"y\": [0.0, 0.0, 0.0, 69.38, 0.0, 0.0, 0.0, 0.0, 0.0, 0.0, 0.0, 250.0, 499.5, 0.0, 0.0, 9.25]}],                        {\"height\": 400, \"hovermode\": \"x\", \"template\": {\"data\": {\"bar\": [{\"error_x\": {\"color\": \"#2a3f5f\"}, \"error_y\": {\"color\": \"#2a3f5f\"}, \"marker\": {\"line\": {\"color\": \"#E5ECF6\", \"width\": 0.5}}, \"type\": \"bar\"}], \"barpolar\": [{\"marker\": {\"line\": {\"color\": \"#E5ECF6\", \"width\": 0.5}}, \"type\": \"barpolar\"}], \"carpet\": [{\"aaxis\": {\"endlinecolor\": \"#2a3f5f\", \"gridcolor\": \"white\", \"linecolor\": \"white\", \"minorgridcolor\": \"white\", \"startlinecolor\": \"#2a3f5f\"}, \"baxis\": {\"endlinecolor\": \"#2a3f5f\", \"gridcolor\": \"white\", \"linecolor\": \"white\", \"minorgridcolor\": \"white\", \"startlinecolor\": \"#2a3f5f\"}, \"type\": \"carpet\"}], \"choropleth\": [{\"colorbar\": {\"outlinewidth\": 0, \"ticks\": \"\"}, \"type\": \"choropleth\"}], \"contour\": [{\"colorbar\": {\"outlinewidth\": 0, \"ticks\": \"\"}, \"colorscale\": [[0.0, \"#0d0887\"], [0.1111111111111111, \"#46039f\"], [0.2222222222222222, \"#7201a8\"], [0.3333333333333333, \"#9c179e\"], [0.4444444444444444, \"#bd3786\"], [0.5555555555555556, \"#d8576b\"], [0.6666666666666666, \"#ed7953\"], [0.7777777777777778, \"#fb9f3a\"], [0.8888888888888888, \"#fdca26\"], [1.0, \"#f0f921\"]], \"type\": \"contour\"}], \"contourcarpet\": [{\"colorbar\": {\"outlinewidth\": 0, \"ticks\": \"\"}, \"type\": \"contourcarpet\"}], \"heatmap\": [{\"colorbar\": {\"outlinewidth\": 0, \"ticks\": \"\"}, \"colorscale\": [[0.0, \"#0d0887\"], [0.1111111111111111, \"#46039f\"], [0.2222222222222222, \"#7201a8\"], [0.3333333333333333, \"#9c179e\"], [0.4444444444444444, \"#bd3786\"], [0.5555555555555556, \"#d8576b\"], [0.6666666666666666, \"#ed7953\"], [0.7777777777777778, \"#fb9f3a\"], [0.8888888888888888, \"#fdca26\"], [1.0, \"#f0f921\"]], \"type\": \"heatmap\"}], \"heatmapgl\": [{\"colorbar\": {\"outlinewidth\": 0, \"ticks\": \"\"}, \"colorscale\": [[0.0, \"#0d0887\"], [0.1111111111111111, \"#46039f\"], [0.2222222222222222, \"#7201a8\"], [0.3333333333333333, \"#9c179e\"], [0.4444444444444444, \"#bd3786\"], [0.5555555555555556, \"#d8576b\"], [0.6666666666666666, \"#ed7953\"], [0.7777777777777778, \"#fb9f3a\"], [0.8888888888888888, \"#fdca26\"], [1.0, \"#f0f921\"]], \"type\": \"heatmapgl\"}], \"histogram\": [{\"marker\": {\"colorbar\": {\"outlinewidth\": 0, \"ticks\": \"\"}}, \"type\": \"histogram\"}], \"histogram2d\": [{\"colorbar\": {\"outlinewidth\": 0, \"ticks\": \"\"}, \"colorscale\": [[0.0, \"#0d0887\"], [0.1111111111111111, \"#46039f\"], [0.2222222222222222, \"#7201a8\"], [0.3333333333333333, \"#9c179e\"], [0.4444444444444444, \"#bd3786\"], [0.5555555555555556, \"#d8576b\"], [0.6666666666666666, \"#ed7953\"], [0.7777777777777778, \"#fb9f3a\"], [0.8888888888888888, \"#fdca26\"], [1.0, \"#f0f921\"]], \"type\": \"histogram2d\"}], \"histogram2dcontour\": [{\"colorbar\": {\"outlinewidth\": 0, \"ticks\": \"\"}, \"colorscale\": [[0.0, \"#0d0887\"], [0.1111111111111111, \"#46039f\"], [0.2222222222222222, \"#7201a8\"], [0.3333333333333333, \"#9c179e\"], [0.4444444444444444, \"#bd3786\"], [0.5555555555555556, \"#d8576b\"], [0.6666666666666666, \"#ed7953\"], [0.7777777777777778, \"#fb9f3a\"], [0.8888888888888888, \"#fdca26\"], [1.0, \"#f0f921\"]], \"type\": \"histogram2dcontour\"}], \"mesh3d\": [{\"colorbar\": {\"outlinewidth\": 0, \"ticks\": \"\"}, \"type\": \"mesh3d\"}], \"parcoords\": [{\"line\": {\"colorbar\": {\"outlinewidth\": 0, \"ticks\": \"\"}}, \"type\": \"parcoords\"}], \"pie\": [{\"automargin\": true, \"type\": \"pie\"}], \"scatter\": [{\"marker\": {\"colorbar\": {\"outlinewidth\": 0, \"ticks\": \"\"}}, \"type\": \"scatter\"}], \"scatter3d\": [{\"line\": {\"colorbar\": {\"outlinewidth\": 0, \"ticks\": \"\"}}, \"marker\": {\"colorbar\": {\"outlinewidth\": 0, \"ticks\": \"\"}}, \"type\": \"scatter3d\"}], \"scattercarpet\": [{\"marker\": {\"colorbar\": {\"outlinewidth\": 0, \"ticks\": \"\"}}, \"type\": \"scattercarpet\"}], \"scattergeo\": [{\"marker\": {\"colorbar\": {\"outlinewidth\": 0, \"ticks\": \"\"}}, \"type\": \"scattergeo\"}], \"scattergl\": [{\"marker\": {\"colorbar\": {\"outlinewidth\": 0, \"ticks\": \"\"}}, \"type\": \"scattergl\"}], \"scattermapbox\": [{\"marker\": {\"colorbar\": {\"outlinewidth\": 0, \"ticks\": \"\"}}, \"type\": \"scattermapbox\"}], \"scatterpolar\": [{\"marker\": {\"colorbar\": {\"outlinewidth\": 0, \"ticks\": \"\"}}, \"type\": \"scatterpolar\"}], \"scatterpolargl\": [{\"marker\": {\"colorbar\": {\"outlinewidth\": 0, \"ticks\": \"\"}}, \"type\": \"scatterpolargl\"}], \"scatterternary\": [{\"marker\": {\"colorbar\": {\"outlinewidth\": 0, \"ticks\": \"\"}}, \"type\": \"scatterternary\"}], \"surface\": [{\"colorbar\": {\"outlinewidth\": 0, \"ticks\": \"\"}, \"colorscale\": [[0.0, \"#0d0887\"], [0.1111111111111111, \"#46039f\"], [0.2222222222222222, \"#7201a8\"], [0.3333333333333333, \"#9c179e\"], [0.4444444444444444, \"#bd3786\"], [0.5555555555555556, \"#d8576b\"], [0.6666666666666666, \"#ed7953\"], [0.7777777777777778, \"#fb9f3a\"], [0.8888888888888888, \"#fdca26\"], [1.0, \"#f0f921\"]], \"type\": \"surface\"}], \"table\": [{\"cells\": {\"fill\": {\"color\": \"#EBF0F8\"}, \"line\": {\"color\": \"white\"}}, \"header\": {\"fill\": {\"color\": \"#C8D4E3\"}, \"line\": {\"color\": \"white\"}}, \"type\": \"table\"}]}, \"layout\": {\"annotationdefaults\": {\"arrowcolor\": \"#2a3f5f\", \"arrowhead\": 0, \"arrowwidth\": 1}, \"autotypenumbers\": \"strict\", \"coloraxis\": {\"colorbar\": {\"outlinewidth\": 0, \"ticks\": \"\"}}, \"colorscale\": {\"diverging\": [[0, \"#8e0152\"], [0.1, \"#c51b7d\"], [0.2, \"#de77ae\"], [0.3, \"#f1b6da\"], [0.4, \"#fde0ef\"], [0.5, \"#f7f7f7\"], [0.6, \"#e6f5d0\"], [0.7, \"#b8e186\"], [0.8, \"#7fbc41\"], [0.9, \"#4d9221\"], [1, \"#276419\"]], \"sequential\": [[0.0, \"#0d0887\"], [0.1111111111111111, \"#46039f\"], [0.2222222222222222, \"#7201a8\"], [0.3333333333333333, \"#9c179e\"], [0.4444444444444444, \"#bd3786\"], [0.5555555555555556, \"#d8576b\"], [0.6666666666666666, \"#ed7953\"], [0.7777777777777778, \"#fb9f3a\"], [0.8888888888888888, \"#fdca26\"], [1.0, \"#f0f921\"]], \"sequentialminus\": [[0.0, \"#0d0887\"], [0.1111111111111111, \"#46039f\"], [0.2222222222222222, \"#7201a8\"], [0.3333333333333333, \"#9c179e\"], [0.4444444444444444, \"#bd3786\"], [0.5555555555555556, \"#d8576b\"], [0.6666666666666666, \"#ed7953\"], [0.7777777777777778, \"#fb9f3a\"], [0.8888888888888888, \"#fdca26\"], [1.0, \"#f0f921\"]]}, \"colorway\": [\"#636efa\", \"#EF553B\", \"#00cc96\", \"#ab63fa\", \"#FFA15A\", \"#19d3f3\", \"#FF6692\", \"#B6E880\", \"#FF97FF\", \"#FECB52\"], \"font\": {\"color\": \"#2a3f5f\"}, \"geo\": {\"bgcolor\": \"white\", \"lakecolor\": \"white\", \"landcolor\": \"#E5ECF6\", \"showlakes\": true, \"showland\": true, \"subunitcolor\": \"white\"}, \"hoverlabel\": {\"align\": \"left\"}, \"hovermode\": \"closest\", \"mapbox\": {\"style\": \"light\"}, \"paper_bgcolor\": \"white\", \"plot_bgcolor\": \"#E5ECF6\", \"polar\": {\"angularaxis\": {\"gridcolor\": \"white\", \"linecolor\": \"white\", \"ticks\": \"\"}, \"bgcolor\": \"#E5ECF6\", \"radialaxis\": {\"gridcolor\": \"white\", \"linecolor\": \"white\", \"ticks\": \"\"}}, \"scene\": {\"xaxis\": {\"backgroundcolor\": \"#E5ECF6\", \"gridcolor\": \"white\", \"gridwidth\": 2, \"linecolor\": \"white\", \"showbackground\": true, \"ticks\": \"\", \"zerolinecolor\": \"white\"}, \"yaxis\": {\"backgroundcolor\": \"#E5ECF6\", \"gridcolor\": \"white\", \"gridwidth\": 2, \"linecolor\": \"white\", \"showbackground\": true, \"ticks\": \"\", \"zerolinecolor\": \"white\"}, \"zaxis\": {\"backgroundcolor\": \"#E5ECF6\", \"gridcolor\": \"white\", \"gridwidth\": 2, \"linecolor\": \"white\", \"showbackground\": true, \"ticks\": \"\", \"zerolinecolor\": \"white\"}}, \"shapedefaults\": {\"line\": {\"color\": \"#2a3f5f\"}}, \"ternary\": {\"aaxis\": {\"gridcolor\": \"white\", \"linecolor\": \"white\", \"ticks\": \"\"}, \"baxis\": {\"gridcolor\": \"white\", \"linecolor\": \"white\", \"ticks\": \"\"}, \"bgcolor\": \"#E5ECF6\", \"caxis\": {\"gridcolor\": \"white\", \"linecolor\": \"white\", \"ticks\": \"\"}}, \"title\": {\"x\": 0.05}, \"xaxis\": {\"automargin\": true, \"gridcolor\": \"white\", \"linecolor\": \"white\", \"ticks\": \"\", \"title\": {\"standoff\": 15}, \"zerolinecolor\": \"white\", \"zerolinewidth\": 2}, \"yaxis\": {\"automargin\": true, \"gridcolor\": \"white\", \"linecolor\": \"white\", \"ticks\": \"\", \"title\": {\"standoff\": 15}, \"zerolinecolor\": \"white\", \"zerolinewidth\": 2}}}, \"width\": 800},                        {\"showLink\": true, \"linkText\": \"Export to plot.ly\", \"plotlyServerURL\": \"https://plot.ly\", \"responsive\": true}                    ).then(function(){\n",
       "                            \n",
       "var gd = document.getElementById('28506d11-ed41-41a9-a4bb-0471d9890520');\n",
       "var x = new MutationObserver(function (mutations, observer) {{\n",
       "        var display = window.getComputedStyle(gd).display;\n",
       "        if (!display || display === 'none') {{\n",
       "            console.log([gd, 'removed!']);\n",
       "            Plotly.purge(gd);\n",
       "            observer.disconnect();\n",
       "        }}\n",
       "}});\n",
       "\n",
       "// Listen for the removal of the full notebook cells\n",
       "var notebookContainer = gd.closest('#notebook-container');\n",
       "if (notebookContainer) {{\n",
       "    x.observe(notebookContainer, {childList: true});\n",
       "}}\n",
       "\n",
       "// Listen for the clearing of the current output cell\n",
       "var outputEl = gd.closest('.output');\n",
       "if (outputEl) {{\n",
       "    x.observe(outputEl, {childList: true});\n",
       "}}\n",
       "\n",
       "                        })                };                });            </script>        </div>"
      ]
     },
     "metadata": {},
     "output_type": "display_data"
    },
    {
     "data": {
      "text/html": [
       "<div>\n",
       "<style scoped>\n",
       "    .dataframe tbody tr th:only-of-type {\n",
       "        vertical-align: middle;\n",
       "    }\n",
       "\n",
       "    .dataframe tbody tr th {\n",
       "        vertical-align: top;\n",
       "    }\n",
       "\n",
       "    .dataframe thead th {\n",
       "        text-align: right;\n",
       "    }\n",
       "</style>\n",
       "<table border=\"1\" class=\"dataframe\">\n",
       "  <thead>\n",
       "    <tr style=\"text-align: right;\">\n",
       "      <th></th>\n",
       "      <th>INVESTMENT</th>\n",
       "      <th>REAL</th>\n",
       "      <th>MKT_VALUE</th>\n",
       "      <th>CHANGE</th>\n",
       "      <th>UNREAL</th>\n",
       "      <th>SYMBOL</th>\n",
       "    </tr>\n",
       "    <tr>\n",
       "      <th>m_industry</th>\n",
       "      <th></th>\n",
       "      <th></th>\n",
       "      <th></th>\n",
       "      <th></th>\n",
       "      <th></th>\n",
       "      <th></th>\n",
       "    </tr>\n",
       "  </thead>\n",
       "  <tbody>\n",
       "    <tr>\n",
       "      <th>Aerospace &amp; Defense</th>\n",
       "      <td>4,785.00</td>\n",
       "      <td>69.38</td>\n",
       "      <td>7,753.25</td>\n",
       "      <td>-80.00</td>\n",
       "      <td>2,968.25</td>\n",
       "      <td>HAL</td>\n",
       "    </tr>\n",
       "    <tr>\n",
       "      <th>Auto Components &amp; Equipments</th>\n",
       "      <td>10,268.00</td>\n",
       "      <td>0.00</td>\n",
       "      <td>8,249.15</td>\n",
       "      <td>0.35</td>\n",
       "      <td>-2,018.85</td>\n",
       "      <td>ENDURANCE</td>\n",
       "    </tr>\n",
       "    <tr>\n",
       "      <th>Batteries - Automobile</th>\n",
       "      <td>11,718.00</td>\n",
       "      <td>0.00</td>\n",
       "      <td>8,215.20</td>\n",
       "      <td>-116.00</td>\n",
       "      <td>-3,502.80</td>\n",
       "      <td>AMARAJABAT</td>\n",
       "    </tr>\n",
       "    <tr>\n",
       "      <th>Cement &amp; Cement Products</th>\n",
       "      <td>10,846.00</td>\n",
       "      <td>0.00</td>\n",
       "      <td>7,930.00</td>\n",
       "      <td>-170.00</td>\n",
       "      <td>-2,916.00</td>\n",
       "      <td>JKLAKSHMI</td>\n",
       "    </tr>\n",
       "    <tr>\n",
       "      <th>Computers - Software &amp; Consulting</th>\n",
       "      <td>23,465.95</td>\n",
       "      <td>9.25</td>\n",
       "      <td>21,494.25</td>\n",
       "      <td>-247.50</td>\n",
       "      <td>-1,971.70</td>\n",
       "      <td>WIPRO</td>\n",
       "    </tr>\n",
       "    <tr>\n",
       "      <th>Electric Utilities</th>\n",
       "      <td>7,643.70</td>\n",
       "      <td>499.50</td>\n",
       "      <td>8,280.00</td>\n",
       "      <td>-105.00</td>\n",
       "      <td>636.30</td>\n",
       "      <td>SJVN</td>\n",
       "    </tr>\n",
       "    <tr>\n",
       "      <th>Engineering Designing &amp; Construction</th>\n",
       "      <td>20,312.25</td>\n",
       "      <td>0.00</td>\n",
       "      <td>16,312.50</td>\n",
       "      <td>-203.75</td>\n",
       "      <td>-3,999.75</td>\n",
       "      <td>IRCON SWSOLAR</td>\n",
       "    </tr>\n",
       "    <tr>\n",
       "      <th>Film Production Distribution &amp; Exhibition</th>\n",
       "      <td>12,564.00</td>\n",
       "      <td>0.00</td>\n",
       "      <td>15,950.25</td>\n",
       "      <td>597.15</td>\n",
       "      <td>3,386.25</td>\n",
       "      <td>PVR</td>\n",
       "    </tr>\n",
       "    <tr>\n",
       "      <th>Financial Institution</th>\n",
       "      <td>7,198.15</td>\n",
       "      <td>250.00</td>\n",
       "      <td>6,017.50</td>\n",
       "      <td>-80.00</td>\n",
       "      <td>-1,180.65</td>\n",
       "      <td>RECLTD</td>\n",
       "    </tr>\n",
       "    <tr>\n",
       "      <th>Housing Finance Company</th>\n",
       "      <td>14,326.70</td>\n",
       "      <td>0.00</td>\n",
       "      <td>11,107.20</td>\n",
       "      <td>-97.60</td>\n",
       "      <td>-3,219.50</td>\n",
       "      <td>LICHSGFIN</td>\n",
       "    </tr>\n",
       "    <tr>\n",
       "      <th>Life Insurance</th>\n",
       "      <td>20,973.00</td>\n",
       "      <td>0.00</td>\n",
       "      <td>16,776.00</td>\n",
       "      <td>-139.50</td>\n",
       "      <td>-4,197.00</td>\n",
       "      <td>HDFCLIFE</td>\n",
       "    </tr>\n",
       "    <tr>\n",
       "      <th>Private Sector Bank</th>\n",
       "      <td>21,818.25</td>\n",
       "      <td>0.00</td>\n",
       "      <td>20,115.75</td>\n",
       "      <td>318.00</td>\n",
       "      <td>-1,702.50</td>\n",
       "      <td>HDFCBANK</td>\n",
       "    </tr>\n",
       "    <tr>\n",
       "      <th>Public Sector Bank</th>\n",
       "      <td>7,815.00</td>\n",
       "      <td>0.00</td>\n",
       "      <td>6,660.00</td>\n",
       "      <td>-40.00</td>\n",
       "      <td>-1,155.00</td>\n",
       "      <td>PNB</td>\n",
       "    </tr>\n",
       "    <tr>\n",
       "      <th>Residential Commercial Projects</th>\n",
       "      <td>9,260.20</td>\n",
       "      <td>0.00</td>\n",
       "      <td>760.00</td>\n",
       "      <td>-20.00</td>\n",
       "      <td>-8,500.20</td>\n",
       "      <td>UNITECH</td>\n",
       "    </tr>\n",
       "    <tr>\n",
       "      <th>Restaurants</th>\n",
       "      <td>8,906.00</td>\n",
       "      <td>0.00</td>\n",
       "      <td>10,011.50</td>\n",
       "      <td>-620.00</td>\n",
       "      <td>1,105.50</td>\n",
       "      <td>BARBEQUE</td>\n",
       "    </tr>\n",
       "  </tbody>\n",
       "</table>\n",
       "</div>"
      ],
      "text/plain": [
       "                                           INVESTMENT   REAL  MKT_VALUE  \\\n",
       "m_industry                                                                \n",
       "Aerospace & Defense                          4,785.00  69.38   7,753.25   \n",
       "Auto Components & Equipments                10,268.00   0.00   8,249.15   \n",
       "Batteries - Automobile                      11,718.00   0.00   8,215.20   \n",
       "Cement & Cement Products                    10,846.00   0.00   7,930.00   \n",
       "Computers - Software & Consulting           23,465.95   9.25  21,494.25   \n",
       "Electric Utilities                           7,643.70 499.50   8,280.00   \n",
       "Engineering Designing & Construction        20,312.25   0.00  16,312.50   \n",
       "Film Production Distribution & Exhibition   12,564.00   0.00  15,950.25   \n",
       "Financial Institution                        7,198.15 250.00   6,017.50   \n",
       "Housing Finance Company                     14,326.70   0.00  11,107.20   \n",
       "Life Insurance                              20,973.00   0.00  16,776.00   \n",
       "Private Sector Bank                         21,818.25   0.00  20,115.75   \n",
       "Public Sector Bank                           7,815.00   0.00   6,660.00   \n",
       "Residential Commercial Projects              9,260.20   0.00     760.00   \n",
       "Restaurants                                  8,906.00   0.00  10,011.50   \n",
       "\n",
       "                                           CHANGE    UNREAL         SYMBOL  \n",
       "m_industry                                                                  \n",
       "Aerospace & Defense                        -80.00  2,968.25            HAL  \n",
       "Auto Components & Equipments                 0.35 -2,018.85      ENDURANCE  \n",
       "Batteries - Automobile                    -116.00 -3,502.80     AMARAJABAT  \n",
       "Cement & Cement Products                  -170.00 -2,916.00      JKLAKSHMI  \n",
       "Computers - Software & Consulting         -247.50 -1,971.70          WIPRO  \n",
       "Electric Utilities                        -105.00    636.30           SJVN  \n",
       "Engineering Designing & Construction      -203.75 -3,999.75  IRCON SWSOLAR  \n",
       "Film Production Distribution & Exhibition  597.15  3,386.25            PVR  \n",
       "Financial Institution                      -80.00 -1,180.65         RECLTD  \n",
       "Housing Finance Company                    -97.60 -3,219.50      LICHSGFIN  \n",
       "Life Insurance                            -139.50 -4,197.00       HDFCLIFE  \n",
       "Private Sector Bank                        318.00 -1,702.50       HDFCBANK  \n",
       "Public Sector Bank                         -40.00 -1,155.00            PNB  \n",
       "Residential Commercial Projects            -20.00 -8,500.20        UNITECH  \n",
       "Restaurants                               -620.00  1,105.50       BARBEQUE  "
      ]
     },
     "metadata": {},
     "output_type": "display_data"
    },
    {
     "data": {
      "text/html": [
       "<div>\n",
       "<style scoped>\n",
       "    .dataframe tbody tr th:only-of-type {\n",
       "        vertical-align: middle;\n",
       "    }\n",
       "\n",
       "    .dataframe tbody tr th {\n",
       "        vertical-align: top;\n",
       "    }\n",
       "\n",
       "    .dataframe thead th {\n",
       "        text-align: right;\n",
       "    }\n",
       "</style>\n",
       "<table border=\"1\" class=\"dataframe\">\n",
       "  <thead>\n",
       "    <tr style=\"text-align: right;\">\n",
       "      <th></th>\n",
       "      <th>INVESTMENT</th>\n",
       "      <th>REAL</th>\n",
       "      <th>MKT_VALUE</th>\n",
       "      <th>CHANGE</th>\n",
       "      <th>UNREAL</th>\n",
       "    </tr>\n",
       "    <tr>\n",
       "      <th>CATEGORY</th>\n",
       "      <th></th>\n",
       "      <th></th>\n",
       "      <th></th>\n",
       "      <th></th>\n",
       "      <th></th>\n",
       "    </tr>\n",
       "  </thead>\n",
       "  <tbody>\n",
       "    <tr>\n",
       "      <th>&lt; 1 Year</th>\n",
       "      <td>128,120.95</td>\n",
       "      <td>0.00</td>\n",
       "      <td>111,576.30</td>\n",
       "      <td>-533.60</td>\n",
       "      <td>-16,544.65</td>\n",
       "    </tr>\n",
       "    <tr>\n",
       "      <th>&gt; 1 Year</th>\n",
       "      <td>54,519.05</td>\n",
       "      <td>828.13</td>\n",
       "      <td>53,296.25</td>\n",
       "      <td>-450.25</td>\n",
       "      <td>-1,222.80</td>\n",
       "    </tr>\n",
       "    <tr>\n",
       "      <th>&gt; 5 Year</th>\n",
       "      <td>9,260.20</td>\n",
       "      <td>0.00</td>\n",
       "      <td>760.00</td>\n",
       "      <td>-20.00</td>\n",
       "      <td>-8,500.20</td>\n",
       "    </tr>\n",
       "  </tbody>\n",
       "</table>\n",
       "</div>"
      ],
      "text/plain": [
       "          INVESTMENT   REAL  MKT_VALUE  CHANGE     UNREAL\n",
       "CATEGORY                                                 \n",
       "< 1 Year  128,120.95   0.00 111,576.30 -533.60 -16,544.65\n",
       "> 1 Year   54,519.05 828.13  53,296.25 -450.25  -1,222.80\n",
       "> 5 Year    9,260.20   0.00     760.00  -20.00  -8,500.20"
      ]
     },
     "metadata": {},
     "output_type": "display_data"
    },
    {
     "data": {
      "text/html": [
       "<div>\n",
       "<style scoped>\n",
       "    .dataframe tbody tr th:only-of-type {\n",
       "        vertical-align: middle;\n",
       "    }\n",
       "\n",
       "    .dataframe tbody tr th {\n",
       "        vertical-align: top;\n",
       "    }\n",
       "\n",
       "    .dataframe thead th {\n",
       "        text-align: right;\n",
       "    }\n",
       "</style>\n",
       "<table border=\"1\" class=\"dataframe\">\n",
       "  <thead>\n",
       "    <tr style=\"text-align: right;\">\n",
       "      <th></th>\n",
       "      <th>INVESTMENT</th>\n",
       "      <th>REAL</th>\n",
       "      <th>MKT_VALUE</th>\n",
       "      <th>CHANGE</th>\n",
       "      <th>UNREAL</th>\n",
       "    </tr>\n",
       "  </thead>\n",
       "  <tbody>\n",
       "    <tr>\n",
       "      <th>sum</th>\n",
       "      <td>191,900.20</td>\n",
       "      <td>828.13</td>\n",
       "      <td>165,632.55</td>\n",
       "      <td>-1,003.85</td>\n",
       "      <td>-26,267.65</td>\n",
       "    </tr>\n",
       "  </tbody>\n",
       "</table>\n",
       "</div>"
      ],
      "text/plain": [
       "     INVESTMENT   REAL  MKT_VALUE    CHANGE     UNREAL\n",
       "sum  191,900.20 828.13 165,632.55 -1,003.85 -26,267.65"
      ]
     },
     "metadata": {},
     "output_type": "display_data"
    }
   ],
   "source": [
    "basic_port_info(portfolio_df)   "
   ]
  },
  {
   "cell_type": "code",
   "execution_count": 753,
   "metadata": {},
   "outputs": [
    {
     "data": {
      "application/vnd.plotly.v1+json": {
       "config": {
        "plotlyServerURL": "https://plot.ly"
       },
       "data": [
        {
         "mode": "lines",
         "name": "PNB",
         "type": "scatter",
         "x": [
          "2022-05-10T11:13:14.762558",
          "2022-05-10T11:14:19.342269",
          "2022-05-10T11:22:37.943811",
          "2022-05-10T11:23:42.444221",
          "2022-05-10T11:24:46.718897",
          "2022-05-10T11:25:51.184320",
          "2022-05-10T11:26:55.719656",
          "2022-05-10T11:28:00.270737",
          "2022-05-10T11:29:05.070881",
          "2022-05-10T11:30:10.270252",
          "2022-05-10T14:42:32.664593",
          "2022-05-10T14:43:36.898971",
          "2022-05-10T14:44:41.315689",
          "2022-05-10T14:45:45.578694",
          "2022-05-10T14:46:49.732855",
          "2022-05-10T14:47:53.929201",
          "2022-05-10T14:48:58.165982",
          "2022-05-10T14:50:02.354285",
          "2022-05-10T14:51:13.201614",
          "2022-05-10T14:52:18.556854",
          "2022-05-10T14:53:22.884115",
          "2022-05-10T14:54:27.776254",
          "2022-05-10T14:55:32.383735",
          "2022-05-10T14:56:36.557819",
          "2022-05-10T14:57:40.777528",
          "2022-05-10T14:58:45.055561",
          "2022-05-10T14:59:49.160547",
          "2022-05-10T15:00:53.207745",
          "2022-05-10T15:01:57.723282",
          "2022-05-10T15:03:01.826530",
          "2022-05-10T15:04:06.153297",
          "2022-05-10T15:05:10.362052",
          "2022-05-10T15:06:15.224527",
          "2022-05-10T15:07:19.600637",
          "2022-05-10T15:08:23.695148",
          "2022-05-10T15:09:27.722250",
          "2022-05-10T15:10:38.713563",
          "2022-05-10T15:11:42.971886",
          "2022-05-10T15:12:47.058765",
          "2022-05-10T15:13:51.824681",
          "2022-05-10T15:14:56.402917",
          "2022-05-10T15:16:00.798661",
          "2022-05-10T15:17:05.210242",
          "2022-05-10T15:18:11.263113",
          "2022-05-10T15:19:15.783566",
          "2022-05-10T15:20:19.976353",
          "2022-05-10T15:21:24.919616",
          "2022-05-10T15:22:30.147188",
          "2022-05-10T15:23:34.273455",
          "2022-05-10T15:24:38.378227",
          "2022-05-10T15:25:42.600220",
          "2022-05-10T15:26:46.596404",
          "2022-05-10T15:27:50.778444",
          "2022-05-10T15:28:55.043600",
          "2022-05-10T15:29:59.721707",
          "2022-05-10T15:31:04.248684",
          "2022-05-10T15:32:08.952879",
          "2022-05-10T15:33:13.786181"
         ],
         "y": [
          59.99999999999909,
          59.99999999999909,
          40.00000000000091,
          40.00000000000091,
          40.00000000000091,
          40.00000000000091,
          20,
          9.99999999999909,
          9.99999999999909,
          20,
          20,
          30,
          30,
          30,
          30,
          20,
          9.99999999999909,
          9.99999999999909,
          9.99999999999909,
          0,
          0,
          -9.99999999999909,
          0,
          0,
          -20,
          -9.99999999999909,
          -9.99999999999909,
          -20,
          -20,
          -20,
          -30,
          -30,
          -30,
          -30,
          -40.00000000000091,
          -30,
          -20,
          -30,
          -30,
          -30,
          -30,
          -20,
          -20,
          -30,
          -30,
          -30,
          -40.00000000000091,
          -50,
          -40.00000000000091,
          -50,
          -59.99999999999909,
          -70,
          -80,
          -80,
          -80,
          -70,
          -40.00000000000091,
          -40.00000000000091
         ]
        },
        {
         "mode": "lines",
         "name": "WIPRO",
         "type": "scatter",
         "x": [
          "2022-05-10T11:13:14.762558",
          "2022-05-10T11:14:19.342269",
          "2022-05-10T11:22:37.943811",
          "2022-05-10T11:23:42.444221",
          "2022-05-10T11:24:46.718897",
          "2022-05-10T11:25:51.184320",
          "2022-05-10T11:26:55.719656",
          "2022-05-10T11:28:00.270737",
          "2022-05-10T11:29:05.070881",
          "2022-05-10T11:30:10.270252",
          "2022-05-10T14:42:32.664593",
          "2022-05-10T14:43:36.898971",
          "2022-05-10T14:44:41.315689",
          "2022-05-10T14:45:45.578694",
          "2022-05-10T14:46:49.732855",
          "2022-05-10T14:47:53.929201",
          "2022-05-10T14:48:58.165982",
          "2022-05-10T14:50:02.354285",
          "2022-05-10T14:51:13.201614",
          "2022-05-10T14:52:18.556854",
          "2022-05-10T14:53:22.884115",
          "2022-05-10T14:54:27.776254",
          "2022-05-10T14:55:32.383735",
          "2022-05-10T14:56:36.557819",
          "2022-05-10T14:57:40.777528",
          "2022-05-10T14:58:45.055561",
          "2022-05-10T14:59:49.160547",
          "2022-05-10T15:00:53.207745",
          "2022-05-10T15:01:57.723282",
          "2022-05-10T15:03:01.826530",
          "2022-05-10T15:04:06.153297",
          "2022-05-10T15:05:10.362052",
          "2022-05-10T15:06:15.224527",
          "2022-05-10T15:07:19.600637",
          "2022-05-10T15:08:23.695148",
          "2022-05-10T15:09:27.722250",
          "2022-05-10T15:10:38.713563",
          "2022-05-10T15:11:42.971886",
          "2022-05-10T15:12:47.058765",
          "2022-05-10T15:13:51.824681",
          "2022-05-10T15:14:56.402917",
          "2022-05-10T15:16:00.798661",
          "2022-05-10T15:17:05.210242",
          "2022-05-10T15:18:11.263113",
          "2022-05-10T15:19:15.783566",
          "2022-05-10T15:20:19.976353",
          "2022-05-10T15:21:24.919616",
          "2022-05-10T15:22:30.147188",
          "2022-05-10T15:23:34.273455",
          "2022-05-10T15:24:38.378227",
          "2022-05-10T15:25:42.600220",
          "2022-05-10T15:26:46.596404",
          "2022-05-10T15:27:50.778444",
          "2022-05-10T15:28:55.043600",
          "2022-05-10T15:29:59.721707",
          "2022-05-10T15:31:04.248684",
          "2022-05-10T15:32:08.952879",
          "2022-05-10T15:33:13.786181"
         ],
         "y": [
          -168.75,
          -159.75,
          -105.75,
          -119.25,
          -121.5,
          -132.75,
          -128.25,
          -130.5,
          -130.5,
          -119.25,
          -139.5,
          -135,
          -135,
          -150.75,
          -135,
          -148.5,
          -141.75,
          -150.75,
          -141.75,
          -139.5,
          -146.25,
          -144,
          -184.5,
          -189,
          -198,
          -171,
          -180,
          -164.25,
          -218.25,
          -211.5,
          -218.25,
          -229.5,
          -258.75,
          -267.75,
          -225,
          -218.25,
          -227.25,
          -222.75,
          -240.75,
          -245.25,
          -243,
          -243,
          -249.75,
          -240.75,
          -252,
          -240.75,
          -249.75,
          -256.5,
          -247.5,
          -272.25,
          -265.5,
          -252,
          -267.75,
          -254.25,
          -267.75,
          -272.25,
          -247.5,
          -247.5
         ]
        },
        {
         "mode": "lines",
         "name": "UNITECH",
         "type": "scatter",
         "x": [
          "2022-05-10T11:13:14.762558",
          "2022-05-10T11:14:19.342269",
          "2022-05-10T11:22:37.943811",
          "2022-05-10T11:23:42.444221",
          "2022-05-10T11:24:46.718897",
          "2022-05-10T11:25:51.184320",
          "2022-05-10T11:26:55.719656",
          "2022-05-10T11:28:00.270737",
          "2022-05-10T11:29:05.070881",
          "2022-05-10T11:30:10.270252",
          "2022-05-10T14:42:32.664593",
          "2022-05-10T14:43:36.898971",
          "2022-05-10T14:44:41.315689",
          "2022-05-10T14:45:45.578694",
          "2022-05-10T14:46:49.732855",
          "2022-05-10T14:47:53.929201",
          "2022-05-10T14:48:58.165982",
          "2022-05-10T14:50:02.354285",
          "2022-05-10T14:51:13.201614",
          "2022-05-10T14:52:18.556854",
          "2022-05-10T14:53:22.884115",
          "2022-05-10T14:54:27.776254",
          "2022-05-10T14:55:32.383735",
          "2022-05-10T14:56:36.557819",
          "2022-05-10T14:57:40.777528",
          "2022-05-10T14:58:45.055561",
          "2022-05-10T14:59:49.160547",
          "2022-05-10T15:00:53.207745",
          "2022-05-10T15:01:57.723282",
          "2022-05-10T15:03:01.826530",
          "2022-05-10T15:04:06.153297",
          "2022-05-10T15:05:10.362052",
          "2022-05-10T15:06:15.224527",
          "2022-05-10T15:07:19.600637",
          "2022-05-10T15:08:23.695148",
          "2022-05-10T15:09:27.722250",
          "2022-05-10T15:10:38.713563",
          "2022-05-10T15:11:42.971886",
          "2022-05-10T15:12:47.058765",
          "2022-05-10T15:13:51.824681",
          "2022-05-10T15:14:56.402917",
          "2022-05-10T15:16:00.798661",
          "2022-05-10T15:17:05.210242",
          "2022-05-10T15:18:11.263113",
          "2022-05-10T15:19:15.783566",
          "2022-05-10T15:20:19.976353",
          "2022-05-10T15:21:24.919616",
          "2022-05-10T15:22:30.147188",
          "2022-05-10T15:23:34.273455",
          "2022-05-10T15:24:38.378227",
          "2022-05-10T15:25:42.600220",
          "2022-05-10T15:26:46.596404",
          "2022-05-10T15:27:50.778444",
          "2022-05-10T15:28:55.043600",
          "2022-05-10T15:29:59.721707",
          "2022-05-10T15:31:04.248684",
          "2022-05-10T15:32:08.952879",
          "2022-05-10T15:33:13.786181"
         ],
         "y": [
          -20,
          0,
          0,
          0,
          0,
          0,
          0,
          0,
          0,
          0,
          -20,
          -20,
          -20,
          -20,
          -20,
          -20,
          -20,
          -20,
          -20,
          0,
          0,
          -20,
          -20,
          -20,
          -20,
          -20,
          -20,
          -20,
          -20,
          -20,
          -20,
          -20,
          -20,
          -20,
          -20,
          -20,
          -20,
          -20,
          -20,
          -20,
          -20,
          -20,
          -20,
          -20,
          -20,
          -20,
          -20,
          -20,
          -20,
          -20,
          -20,
          -20,
          -20,
          -20,
          -20,
          -20,
          -20,
          -20
         ]
        },
        {
         "mode": "lines",
         "name": "SJVN",
         "type": "scatter",
         "x": [
          "2022-05-10T11:13:14.762558",
          "2022-05-10T11:14:19.342269",
          "2022-05-10T11:22:37.943811",
          "2022-05-10T11:23:42.444221",
          "2022-05-10T11:24:46.718897",
          "2022-05-10T11:25:51.184320",
          "2022-05-10T11:26:55.719656",
          "2022-05-10T11:28:00.270737",
          "2022-05-10T11:29:05.070881",
          "2022-05-10T11:30:10.270252",
          "2022-05-10T14:42:32.664593",
          "2022-05-10T14:43:36.898971",
          "2022-05-10T14:44:41.315689",
          "2022-05-10T14:45:45.578694",
          "2022-05-10T14:46:49.732855",
          "2022-05-10T14:47:53.929201",
          "2022-05-10T14:48:58.165982",
          "2022-05-10T14:50:02.354285",
          "2022-05-10T14:51:13.201614",
          "2022-05-10T14:52:18.556854",
          "2022-05-10T14:53:22.884115",
          "2022-05-10T14:54:27.776254",
          "2022-05-10T14:55:32.383735",
          "2022-05-10T14:56:36.557819",
          "2022-05-10T14:57:40.777528",
          "2022-05-10T14:58:45.055561",
          "2022-05-10T14:59:49.160547",
          "2022-05-10T15:00:53.207745",
          "2022-05-10T15:01:57.723282",
          "2022-05-10T15:03:01.826530",
          "2022-05-10T15:04:06.153297",
          "2022-05-10T15:05:10.362052",
          "2022-05-10T15:06:15.224527",
          "2022-05-10T15:07:19.600637",
          "2022-05-10T15:08:23.695148",
          "2022-05-10T15:09:27.722250",
          "2022-05-10T15:10:38.713563",
          "2022-05-10T15:11:42.971886",
          "2022-05-10T15:12:47.058765",
          "2022-05-10T15:13:51.824681",
          "2022-05-10T15:14:56.402917",
          "2022-05-10T15:16:00.798661",
          "2022-05-10T15:17:05.210242",
          "2022-05-10T15:18:11.263113",
          "2022-05-10T15:19:15.783566",
          "2022-05-10T15:20:19.976353",
          "2022-05-10T15:21:24.919616",
          "2022-05-10T15:22:30.147188",
          "2022-05-10T15:23:34.273455",
          "2022-05-10T15:24:38.378227",
          "2022-05-10T15:25:42.600220",
          "2022-05-10T15:26:46.596404",
          "2022-05-10T15:27:50.778444",
          "2022-05-10T15:28:55.043600",
          "2022-05-10T15:29:59.721707",
          "2022-05-10T15:31:04.248684",
          "2022-05-10T15:32:08.952879",
          "2022-05-10T15:33:13.786181"
         ],
         "y": [
          0,
          0,
          15,
          15,
          0,
          0,
          0,
          0,
          0,
          0,
          -105,
          -105,
          -105,
          -105,
          -105,
          -105,
          -90,
          -105,
          -105,
          -90,
          -90,
          -105,
          -105,
          -105,
          -105,
          -105,
          -105,
          -105,
          -105,
          -105,
          -105,
          -90,
          -75,
          -45,
          -60,
          -60,
          -75,
          -105,
          -105,
          -105,
          -105,
          -105,
          -105,
          -105,
          -105,
          -105,
          -105,
          -105,
          -120,
          -120,
          -120,
          -120,
          -120,
          -135,
          -135,
          -135,
          -105,
          -105
         ]
        },
        {
         "mode": "lines",
         "name": "HAL",
         "type": "scatter",
         "x": [
          "2022-05-10T11:13:14.762558",
          "2022-05-10T11:14:19.342269",
          "2022-05-10T11:22:37.943811",
          "2022-05-10T11:23:42.444221",
          "2022-05-10T11:24:46.718897",
          "2022-05-10T11:25:51.184320",
          "2022-05-10T11:26:55.719656",
          "2022-05-10T11:28:00.270737",
          "2022-05-10T11:29:05.070881",
          "2022-05-10T11:30:10.270252",
          "2022-05-10T14:42:32.664593",
          "2022-05-10T14:43:36.898971",
          "2022-05-10T14:44:41.315689",
          "2022-05-10T14:45:45.578694",
          "2022-05-10T14:46:49.732855",
          "2022-05-10T14:47:53.929201",
          "2022-05-10T14:48:58.165982",
          "2022-05-10T14:50:02.354285",
          "2022-05-10T14:51:13.201614",
          "2022-05-10T14:52:18.556854",
          "2022-05-10T14:53:22.884115",
          "2022-05-10T14:54:27.776254",
          "2022-05-10T14:55:32.383735",
          "2022-05-10T14:56:36.557819",
          "2022-05-10T14:57:40.777528",
          "2022-05-10T14:58:45.055561",
          "2022-05-10T14:59:49.160547",
          "2022-05-10T15:00:53.207745",
          "2022-05-10T15:01:57.723282",
          "2022-05-10T15:03:01.826530",
          "2022-05-10T15:04:06.153297",
          "2022-05-10T15:05:10.362052",
          "2022-05-10T15:06:15.224527",
          "2022-05-10T15:07:19.600637",
          "2022-05-10T15:08:23.695148",
          "2022-05-10T15:09:27.722250",
          "2022-05-10T15:10:38.713563",
          "2022-05-10T15:11:42.971886",
          "2022-05-10T15:12:47.058765",
          "2022-05-10T15:13:51.824681",
          "2022-05-10T15:14:56.402917",
          "2022-05-10T15:16:00.798661",
          "2022-05-10T15:17:05.210242",
          "2022-05-10T15:18:11.263113",
          "2022-05-10T15:19:15.783566",
          "2022-05-10T15:20:19.976353",
          "2022-05-10T15:21:24.919616",
          "2022-05-10T15:22:30.147188",
          "2022-05-10T15:23:34.273455",
          "2022-05-10T15:24:38.378227",
          "2022-05-10T15:25:42.600220",
          "2022-05-10T15:26:46.596404",
          "2022-05-10T15:27:50.778444",
          "2022-05-10T15:28:55.043600",
          "2022-05-10T15:29:59.721707",
          "2022-05-10T15:31:04.248684",
          "2022-05-10T15:32:08.952879",
          "2022-05-10T15:33:13.786181"
         ],
         "y": [
          -50.25,
          -44,
          -43.5,
          -49.25,
          -52.25,
          -75.25,
          -83.25,
          -94.25,
          -97.75,
          -84.5,
          -14.5,
          -12,
          -11,
          -16.75,
          -13.75,
          -31.75,
          -33.25,
          -33,
          -37.25,
          -35.25,
          -33.25,
          -38.25,
          -39.5,
          -51,
          -55.25,
          -57.25,
          -51.5,
          -52.25,
          -64.5,
          -71,
          -69.5,
          -78.5,
          -85.25,
          -100.5,
          -97.25,
          -78.5,
          -83.25,
          -84.75,
          -88.75,
          -93.25,
          -82.25,
          -76.25,
          -68.5,
          -71.5,
          -76,
          -74.75,
          -83.75,
          -88.25,
          -69.25,
          -73.25,
          -68.25,
          -68.25,
          -90.5,
          -104,
          -93.75,
          -93.75,
          -80,
          -80
         ]
        },
        {
         "mode": "lines",
         "name": "RECLTD",
         "type": "scatter",
         "x": [
          "2022-05-10T11:13:14.762558",
          "2022-05-10T11:14:19.342269",
          "2022-05-10T11:22:37.943811",
          "2022-05-10T11:23:42.444221",
          "2022-05-10T11:24:46.718897",
          "2022-05-10T11:25:51.184320",
          "2022-05-10T11:26:55.719656",
          "2022-05-10T11:28:00.270737",
          "2022-05-10T11:29:05.070881",
          "2022-05-10T11:30:10.270252",
          "2022-05-10T14:42:32.664593",
          "2022-05-10T14:43:36.898971",
          "2022-05-10T14:44:41.315689",
          "2022-05-10T14:45:45.578694",
          "2022-05-10T14:46:49.732855",
          "2022-05-10T14:47:53.929201",
          "2022-05-10T14:48:58.165982",
          "2022-05-10T14:50:02.354285",
          "2022-05-10T14:51:13.201614",
          "2022-05-10T14:52:18.556854",
          "2022-05-10T14:53:22.884115",
          "2022-05-10T14:54:27.776254",
          "2022-05-10T14:55:32.383735",
          "2022-05-10T14:56:36.557819",
          "2022-05-10T14:57:40.777528",
          "2022-05-10T14:58:45.055561",
          "2022-05-10T14:59:49.160547",
          "2022-05-10T15:00:53.207745",
          "2022-05-10T15:01:57.723282",
          "2022-05-10T15:03:01.826530",
          "2022-05-10T15:04:06.153297",
          "2022-05-10T15:05:10.362052",
          "2022-05-10T15:06:15.224527",
          "2022-05-10T15:07:19.600637",
          "2022-05-10T15:08:23.695148",
          "2022-05-10T15:09:27.722250",
          "2022-05-10T15:10:38.713563",
          "2022-05-10T15:11:42.971886",
          "2022-05-10T15:12:47.058765",
          "2022-05-10T15:13:51.824681",
          "2022-05-10T15:14:56.402917",
          "2022-05-10T15:16:00.798661",
          "2022-05-10T15:17:05.210242",
          "2022-05-10T15:18:11.263113",
          "2022-05-10T15:19:15.783566",
          "2022-05-10T15:20:19.976353",
          "2022-05-10T15:21:24.919616",
          "2022-05-10T15:22:30.147188",
          "2022-05-10T15:23:34.273455",
          "2022-05-10T15:24:38.378227",
          "2022-05-10T15:25:42.600220",
          "2022-05-10T15:26:46.596404",
          "2022-05-10T15:27:50.778444",
          "2022-05-10T15:28:55.043600",
          "2022-05-10T15:29:59.721707",
          "2022-05-10T15:31:04.248684",
          "2022-05-10T15:32:08.952879",
          "2022-05-10T15:33:13.786181"
         ],
         "y": [
          -7.5,
          -7.5,
          -5,
          -5,
          -2.5,
          -10,
          -15,
          -27.5,
          -17.5,
          -17.5,
          -27.5,
          -27.5,
          -32.5,
          -32.5,
          -32.5,
          -40,
          -40,
          -45,
          -45,
          -45,
          -42.5,
          -42.5,
          -55,
          -55,
          -65,
          -67.5,
          -65,
          -67.5,
          -72.5,
          -82.5,
          -77.5,
          -77.5,
          -82.5,
          -85,
          -85,
          -82.5,
          -77.5,
          -80,
          -82.5,
          -82.5,
          -82.5,
          -82.5,
          -85,
          -85,
          -82.5,
          -80,
          -85,
          -85,
          -85,
          -80,
          -75,
          -75,
          -77.5,
          -85,
          -72.5,
          -70,
          -80,
          -80
         ]
        },
        {
         "mode": "lines",
         "name": "LICHSGFIN",
         "type": "scatter",
         "x": [
          "2022-05-10T11:13:14.762558",
          "2022-05-10T11:14:19.342269",
          "2022-05-10T11:22:37.943811",
          "2022-05-10T11:23:42.444221",
          "2022-05-10T11:24:46.718897",
          "2022-05-10T11:25:51.184320",
          "2022-05-10T11:26:55.719656",
          "2022-05-10T11:28:00.270737",
          "2022-05-10T11:29:05.070881",
          "2022-05-10T11:30:10.270252",
          "2022-05-10T14:42:32.664593",
          "2022-05-10T14:43:36.898971",
          "2022-05-10T14:44:41.315689",
          "2022-05-10T14:45:45.578694",
          "2022-05-10T14:46:49.732855",
          "2022-05-10T14:47:53.929201",
          "2022-05-10T14:48:58.165982",
          "2022-05-10T14:50:02.354285",
          "2022-05-10T14:51:13.201614",
          "2022-05-10T14:52:18.556854",
          "2022-05-10T14:53:22.884115",
          "2022-05-10T14:54:27.776254",
          "2022-05-10T14:55:32.383735",
          "2022-05-10T14:56:36.557819",
          "2022-05-10T14:57:40.777528",
          "2022-05-10T14:58:45.055561",
          "2022-05-10T14:59:49.160547",
          "2022-05-10T15:00:53.207745",
          "2022-05-10T15:01:57.723282",
          "2022-05-10T15:03:01.826530",
          "2022-05-10T15:04:06.153297",
          "2022-05-10T15:05:10.362052",
          "2022-05-10T15:06:15.224527",
          "2022-05-10T15:07:19.600637",
          "2022-05-10T15:08:23.695148",
          "2022-05-10T15:09:27.722250",
          "2022-05-10T15:10:38.713563",
          "2022-05-10T15:11:42.971886",
          "2022-05-10T15:12:47.058765",
          "2022-05-10T15:13:51.824681",
          "2022-05-10T15:14:56.402917",
          "2022-05-10T15:16:00.798661",
          "2022-05-10T15:17:05.210242",
          "2022-05-10T15:18:11.263113",
          "2022-05-10T15:19:15.783566",
          "2022-05-10T15:20:19.976353",
          "2022-05-10T15:21:24.919616",
          "2022-05-10T15:22:30.147188",
          "2022-05-10T15:23:34.273455",
          "2022-05-10T15:24:38.378227",
          "2022-05-10T15:25:42.600220",
          "2022-05-10T15:26:46.596404",
          "2022-05-10T15:27:50.778444",
          "2022-05-10T15:28:55.043600",
          "2022-05-10T15:29:59.721707",
          "2022-05-10T15:31:04.248684",
          "2022-05-10T15:32:08.952879",
          "2022-05-10T15:33:13.786181"
         ],
         "y": [
          -128,
          -123.19999999999891,
          -9.599999999998545,
          -12.799999999999272,
          -27.19999999999891,
          -22.399999999999636,
          -43.19999999999891,
          -57.599999999998545,
          -46.399999999999636,
          -62.399999999999636,
          94.40000000000146,
          86.40000000000146,
          94.40000000000146,
          88,
          84.80000000000109,
          54.400000000001455,
          36.80000000000109,
          32,
          28.80000000000109,
          33.600000000000364,
          32,
          19.200000000000728,
          0,
          -20.799999999999272,
          -28.799999999999272,
          -33.599999999998545,
          -33.599999999998545,
          -44.79999999999927,
          -60.79999999999927,
          -70.39999999999964,
          -65.59999999999854,
          -67.19999999999891,
          -73.59999999999854,
          -96,
          -96,
          -67.19999999999891,
          -73.59999999999854,
          -70.39999999999964,
          -89.59999999999854,
          -89.59999999999854,
          -100.79999999999927,
          -99.19999999999891,
          -97.59999999999854,
          -110.39999999999964,
          -120,
          -123.19999999999891,
          -136,
          -136,
          -86.39999999999964,
          -112,
          -99.19999999999891,
          -126.39999999999964,
          -136,
          -131.1999999999989,
          -108.79999999999927,
          -116.79999999999927,
          -97.59999999999854,
          -97.59999999999854
         ]
        },
        {
         "mode": "lines",
         "name": "HDFCLIFE",
         "type": "scatter",
         "x": [
          "2022-05-10T11:13:14.762558",
          "2022-05-10T11:14:19.342269",
          "2022-05-10T11:22:37.943811",
          "2022-05-10T11:23:42.444221",
          "2022-05-10T11:24:46.718897",
          "2022-05-10T11:25:51.184320",
          "2022-05-10T11:26:55.719656",
          "2022-05-10T11:28:00.270737",
          "2022-05-10T11:29:05.070881",
          "2022-05-10T11:30:10.270252",
          "2022-05-10T14:42:32.664593",
          "2022-05-10T14:43:36.898971",
          "2022-05-10T14:44:41.315689",
          "2022-05-10T14:45:45.578694",
          "2022-05-10T14:46:49.732855",
          "2022-05-10T14:47:53.929201",
          "2022-05-10T14:48:58.165982",
          "2022-05-10T14:50:02.354285",
          "2022-05-10T14:51:13.201614",
          "2022-05-10T14:52:18.556854",
          "2022-05-10T14:53:22.884115",
          "2022-05-10T14:54:27.776254",
          "2022-05-10T14:55:32.383735",
          "2022-05-10T14:56:36.557819",
          "2022-05-10T14:57:40.777528",
          "2022-05-10T14:58:45.055561",
          "2022-05-10T14:59:49.160547",
          "2022-05-10T15:00:53.207745",
          "2022-05-10T15:01:57.723282",
          "2022-05-10T15:03:01.826530",
          "2022-05-10T15:04:06.153297",
          "2022-05-10T15:05:10.362052",
          "2022-05-10T15:06:15.224527",
          "2022-05-10T15:07:19.600637",
          "2022-05-10T15:08:23.695148",
          "2022-05-10T15:09:27.722250",
          "2022-05-10T15:10:38.713563",
          "2022-05-10T15:11:42.971886",
          "2022-05-10T15:12:47.058765",
          "2022-05-10T15:13:51.824681",
          "2022-05-10T15:14:56.402917",
          "2022-05-10T15:16:00.798661",
          "2022-05-10T15:17:05.210242",
          "2022-05-10T15:18:11.263113",
          "2022-05-10T15:19:15.783566",
          "2022-05-10T15:20:19.976353",
          "2022-05-10T15:21:24.919616",
          "2022-05-10T15:22:30.147188",
          "2022-05-10T15:23:34.273455",
          "2022-05-10T15:24:38.378227",
          "2022-05-10T15:25:42.600220",
          "2022-05-10T15:26:46.596404",
          "2022-05-10T15:27:50.778444",
          "2022-05-10T15:28:55.043600",
          "2022-05-10T15:29:59.721707",
          "2022-05-10T15:31:04.248684",
          "2022-05-10T15:32:08.952879",
          "2022-05-10T15:33:13.786181"
         ],
         "y": [
          127.5,
          133.5,
          124.5,
          111,
          111,
          78,
          66,
          72,
          85.5,
          76.5,
          -3,
          -6,
          12,
          0,
          -21,
          -37.5,
          -48,
          -57,
          -40.5,
          -27,
          -28.5,
          -63,
          -84,
          -76.5,
          -84,
          -67.5,
          -79.5,
          -79.5,
          -147,
          -138,
          -144,
          -147,
          -160.5,
          -156,
          -124.5,
          -108,
          -118.5,
          -124.5,
          -120,
          -130.5,
          -135,
          -153,
          -148.5,
          -126,
          -151.5,
          -148.5,
          -154.5,
          -157.5,
          -157.5,
          -150,
          -160.5,
          -168,
          -174,
          -159,
          -142.5,
          -130.5,
          -139.5,
          -139.5
         ]
        },
        {
         "mode": "lines",
         "name": "IRCON",
         "type": "scatter",
         "x": [
          "2022-05-10T11:13:14.762558",
          "2022-05-10T11:14:19.342269",
          "2022-05-10T11:22:37.943811",
          "2022-05-10T11:23:42.444221",
          "2022-05-10T11:24:46.718897",
          "2022-05-10T11:25:51.184320",
          "2022-05-10T11:26:55.719656",
          "2022-05-10T11:28:00.270737",
          "2022-05-10T11:29:05.070881",
          "2022-05-10T11:30:10.270252",
          "2022-05-10T14:42:32.664593",
          "2022-05-10T14:43:36.898971",
          "2022-05-10T14:44:41.315689",
          "2022-05-10T14:45:45.578694",
          "2022-05-10T14:46:49.732855",
          "2022-05-10T14:47:53.929201",
          "2022-05-10T14:48:58.165982",
          "2022-05-10T14:50:02.354285",
          "2022-05-10T14:51:13.201614",
          "2022-05-10T14:52:18.556854",
          "2022-05-10T14:53:22.884115",
          "2022-05-10T14:54:27.776254",
          "2022-05-10T14:55:32.383735",
          "2022-05-10T14:56:36.557819",
          "2022-05-10T14:57:40.777528",
          "2022-05-10T14:58:45.055561",
          "2022-05-10T14:59:49.160547",
          "2022-05-10T15:00:53.207745",
          "2022-05-10T15:01:57.723282",
          "2022-05-10T15:03:01.826530",
          "2022-05-10T15:04:06.153297",
          "2022-05-10T15:05:10.362052",
          "2022-05-10T15:06:15.224527",
          "2022-05-10T15:07:19.600637",
          "2022-05-10T15:08:23.695148",
          "2022-05-10T15:09:27.722250",
          "2022-05-10T15:10:38.713563",
          "2022-05-10T15:11:42.971886",
          "2022-05-10T15:12:47.058765",
          "2022-05-10T15:13:51.824681",
          "2022-05-10T15:14:56.402917",
          "2022-05-10T15:16:00.798661",
          "2022-05-10T15:17:05.210242",
          "2022-05-10T15:18:11.263113",
          "2022-05-10T15:19:15.783566",
          "2022-05-10T15:20:19.976353",
          "2022-05-10T15:21:24.919616",
          "2022-05-10T15:22:30.147188",
          "2022-05-10T15:23:34.273455",
          "2022-05-10T15:24:38.378227",
          "2022-05-10T15:25:42.600220",
          "2022-05-10T15:26:46.596404",
          "2022-05-10T15:27:50.778444",
          "2022-05-10T15:28:55.043600",
          "2022-05-10T15:29:59.721707",
          "2022-05-10T15:31:04.248684",
          "2022-05-10T15:32:08.952879",
          "2022-05-10T15:33:13.786181"
         ],
         "y": [
          50,
          39.99999999999909,
          59.99999999999909,
          59.99999999999909,
          59.99999999999909,
          59.99999999999909,
          39.99999999999909,
          59.99999999999909,
          50,
          50,
          29.99999999999909,
          29.99999999999909,
          29.99999999999909,
          39.99999999999909,
          9.99999999999909,
          19.99999999999818,
          19.99999999999818,
          9.99999999999909,
          29.99999999999909,
          39.99999999999909,
          39.99999999999909,
          39.99999999999909,
          29.99999999999909,
          29.99999999999909,
          29.99999999999909,
          9.99999999999909,
          0,
          -10.00000000000091,
          0,
          -10.00000000000091,
          -10.00000000000091,
          9.99999999999909,
          29.99999999999909,
          9.99999999999909,
          19.99999999999818,
          19.99999999999818,
          19.99999999999818,
          29.99999999999909,
          29.99999999999909,
          19.99999999999818,
          19.99999999999818,
          29.99999999999909,
          19.99999999999818,
          50,
          19.99999999999818,
          29.99999999999909,
          19.99999999999818,
          29.99999999999909,
          29.99999999999909,
          9.99999999999909,
          9.99999999999909,
          9.99999999999909,
          19.99999999999818,
          -10.00000000000091,
          9.99999999999909,
          0,
          9.99999999999909,
          9.99999999999909
         ]
        },
        {
         "mode": "lines",
         "name": "AMARAJABAT",
         "type": "scatter",
         "x": [
          "2022-05-10T11:13:14.762558",
          "2022-05-10T11:14:19.342269",
          "2022-05-10T11:22:37.943811",
          "2022-05-10T11:23:42.444221",
          "2022-05-10T11:24:46.718897",
          "2022-05-10T11:25:51.184320",
          "2022-05-10T11:26:55.719656",
          "2022-05-10T11:28:00.270737",
          "2022-05-10T11:29:05.070881",
          "2022-05-10T11:30:10.270252",
          "2022-05-10T14:42:32.664593",
          "2022-05-10T14:43:36.898971",
          "2022-05-10T14:44:41.315689",
          "2022-05-10T14:45:45.578694",
          "2022-05-10T14:46:49.732855",
          "2022-05-10T14:47:53.929201",
          "2022-05-10T14:48:58.165982",
          "2022-05-10T14:50:02.354285",
          "2022-05-10T14:51:13.201614",
          "2022-05-10T14:52:18.556854",
          "2022-05-10T14:53:22.884115",
          "2022-05-10T14:54:27.776254",
          "2022-05-10T14:55:32.383735",
          "2022-05-10T14:56:36.557819",
          "2022-05-10T14:57:40.777528",
          "2022-05-10T14:58:45.055561",
          "2022-05-10T14:59:49.160547",
          "2022-05-10T15:00:53.207745",
          "2022-05-10T15:01:57.723282",
          "2022-05-10T15:03:01.826530",
          "2022-05-10T15:04:06.153297",
          "2022-05-10T15:05:10.362052",
          "2022-05-10T15:06:15.224527",
          "2022-05-10T15:07:19.600637",
          "2022-05-10T15:08:23.695148",
          "2022-05-10T15:09:27.722250",
          "2022-05-10T15:10:38.713563",
          "2022-05-10T15:11:42.971886",
          "2022-05-10T15:12:47.058765",
          "2022-05-10T15:13:51.824681",
          "2022-05-10T15:14:56.402917",
          "2022-05-10T15:16:00.798661",
          "2022-05-10T15:17:05.210242",
          "2022-05-10T15:18:11.263113",
          "2022-05-10T15:19:15.783566",
          "2022-05-10T15:20:19.976353",
          "2022-05-10T15:21:24.919616",
          "2022-05-10T15:22:30.147188",
          "2022-05-10T15:23:34.273455",
          "2022-05-10T15:24:38.378227",
          "2022-05-10T15:25:42.600220",
          "2022-05-10T15:26:46.596404",
          "2022-05-10T15:27:50.778444",
          "2022-05-10T15:28:55.043600",
          "2022-05-10T15:29:59.721707",
          "2022-05-10T15:31:04.248684",
          "2022-05-10T15:32:08.952879",
          "2022-05-10T15:33:13.786181"
         ],
         "y": [
          36.79999999999927,
          39.19999999999891,
          39.19999999999891,
          32,
          28,
          21.599999999998545,
          16,
          8,
          4.799999999999272,
          5.599999999998545,
          -31.200000000000728,
          -40.80000000000109,
          -43.20000000000073,
          -43.20000000000073,
          -45.600000000000364,
          -60.80000000000109,
          -67.20000000000073,
          -71.20000000000073,
          -62.400000000001455,
          -67.20000000000073,
          -66.40000000000146,
          -67.20000000000073,
          -86.40000000000146,
          -96.80000000000109,
          -91.20000000000073,
          -99.20000000000073,
          -104.80000000000109,
          -91.20000000000073,
          -107.20000000000073,
          -111.20000000000073,
          -108.80000000000109,
          -104,
          -118.40000000000146,
          -130.40000000000146,
          -123.20000000000073,
          -119.20000000000073,
          -118.40000000000146,
          -121.60000000000036,
          -118.40000000000146,
          -120.80000000000109,
          -116,
          -108.80000000000109,
          -101.60000000000036,
          -105.60000000000036,
          -107.20000000000073,
          -105.60000000000036,
          -107.20000000000073,
          -111.20000000000073,
          -115.20000000000073,
          -122.40000000000146,
          -134.40000000000146,
          -130.40000000000146,
          -125.60000000000036,
          -124,
          -126.40000000000146,
          -124.80000000000109,
          -116,
          -116
         ]
        },
        {
         "mode": "lines",
         "name": "ENDURANCE",
         "type": "scatter",
         "x": [
          "2022-05-10T11:13:14.762558",
          "2022-05-10T11:14:19.342269",
          "2022-05-10T11:22:37.943811",
          "2022-05-10T11:23:42.444221",
          "2022-05-10T11:24:46.718897",
          "2022-05-10T11:25:51.184320",
          "2022-05-10T11:26:55.719656",
          "2022-05-10T11:28:00.270737",
          "2022-05-10T11:29:05.070881",
          "2022-05-10T11:30:10.270252",
          "2022-05-10T14:42:32.664593",
          "2022-05-10T14:43:36.898971",
          "2022-05-10T14:44:41.315689",
          "2022-05-10T14:45:45.578694",
          "2022-05-10T14:46:49.732855",
          "2022-05-10T14:47:53.929201",
          "2022-05-10T14:48:58.165982",
          "2022-05-10T14:50:02.354285",
          "2022-05-10T14:51:13.201614",
          "2022-05-10T14:52:18.556854",
          "2022-05-10T14:53:22.884115",
          "2022-05-10T14:54:27.776254",
          "2022-05-10T14:55:32.383735",
          "2022-05-10T14:56:36.557819",
          "2022-05-10T14:57:40.777528",
          "2022-05-10T14:58:45.055561",
          "2022-05-10T14:59:49.160547",
          "2022-05-10T15:00:53.207745",
          "2022-05-10T15:01:57.723282",
          "2022-05-10T15:03:01.826530",
          "2022-05-10T15:04:06.153297",
          "2022-05-10T15:05:10.362052",
          "2022-05-10T15:06:15.224527",
          "2022-05-10T15:07:19.600637",
          "2022-05-10T15:08:23.695148",
          "2022-05-10T15:09:27.722250",
          "2022-05-10T15:10:38.713563",
          "2022-05-10T15:11:42.971886",
          "2022-05-10T15:12:47.058765",
          "2022-05-10T15:13:51.824681",
          "2022-05-10T15:14:56.402917",
          "2022-05-10T15:16:00.798661",
          "2022-05-10T15:17:05.210242",
          "2022-05-10T15:18:11.263113",
          "2022-05-10T15:19:15.783566",
          "2022-05-10T15:20:19.976353",
          "2022-05-10T15:21:24.919616",
          "2022-05-10T15:22:30.147188",
          "2022-05-10T15:23:34.273455",
          "2022-05-10T15:24:38.378227",
          "2022-05-10T15:25:42.600220",
          "2022-05-10T15:26:46.596404",
          "2022-05-10T15:27:50.778444",
          "2022-05-10T15:28:55.043600",
          "2022-05-10T15:29:59.721707",
          "2022-05-10T15:31:04.248684",
          "2022-05-10T15:32:08.952879",
          "2022-05-10T15:33:13.786181"
         ],
         "y": [
          -86.80000000000109,
          -89.25,
          -113.05000000000109,
          -116.20000000000164,
          -118.30000000000109,
          -79.45000000000164,
          -57.400000000000546,
          -81.20000000000164,
          -66.15000000000055,
          -72.80000000000109,
          44.099999999998545,
          15.049999999999272,
          23.44999999999891,
          11.199999999998909,
          11.199999999998909,
          11.199999999998909,
          11.199999999998909,
          20.649999999997817,
          23.44999999999891,
          41.64999999999782,
          27.649999999997817,
          16.44999999999891,
          11.199999999998909,
          8.75,
          -0.7000000000007276,
          -5.25,
          -16.450000000000728,
          9.449999999998909,
          -16.80000000000109,
          -1.4000000000014552,
          -3.150000000001455,
          -23.80000000000109,
          11.199999999998909,
          28.349999999998545,
          10.149999999997817,
          -5.25,
          11.199999999998909,
          10.5,
          -13.300000000001091,
          -16.80000000000109,
          18.19999999999891,
          25.899999999997817,
          11.199999999998909,
          9.799999999999272,
          -2.8000000000010914,
          11.199999999998909,
          16.099999999998545,
          17.849999999998545,
          5.599999999998545,
          14.699999999998909,
          11.199999999998909,
          11.199999999998909,
          11.199999999998909,
          11.199999999998909,
          24.849999999998545,
          24.849999999998545,
          0.3499999999985448,
          0.3499999999985448
         ]
        },
        {
         "mode": "lines",
         "name": "BARBEQUE",
         "type": "scatter",
         "x": [
          "2022-05-10T11:13:14.762558",
          "2022-05-10T11:14:19.342269",
          "2022-05-10T11:22:37.943811",
          "2022-05-10T11:23:42.444221",
          "2022-05-10T11:24:46.718897",
          "2022-05-10T11:25:51.184320",
          "2022-05-10T11:26:55.719656",
          "2022-05-10T11:28:00.270737",
          "2022-05-10T11:29:05.070881",
          "2022-05-10T11:30:10.270252",
          "2022-05-10T14:42:32.664593",
          "2022-05-10T14:43:36.898971",
          "2022-05-10T14:44:41.315689",
          "2022-05-10T14:45:45.578694",
          "2022-05-10T14:46:49.732855",
          "2022-05-10T14:47:53.929201",
          "2022-05-10T14:48:58.165982",
          "2022-05-10T14:50:02.354285",
          "2022-05-10T14:51:13.201614",
          "2022-05-10T14:52:18.556854",
          "2022-05-10T14:53:22.884115",
          "2022-05-10T14:54:27.776254",
          "2022-05-10T14:55:32.383735",
          "2022-05-10T14:56:36.557819",
          "2022-05-10T14:57:40.777528",
          "2022-05-10T14:58:45.055561",
          "2022-05-10T14:59:49.160547",
          "2022-05-10T15:00:53.207745",
          "2022-05-10T15:01:57.723282",
          "2022-05-10T15:03:01.826530",
          "2022-05-10T15:04:06.153297",
          "2022-05-10T15:05:10.362052",
          "2022-05-10T15:06:15.224527",
          "2022-05-10T15:07:19.600637",
          "2022-05-10T15:08:23.695148",
          "2022-05-10T15:09:27.722250",
          "2022-05-10T15:10:38.713563",
          "2022-05-10T15:11:42.971886",
          "2022-05-10T15:12:47.058765",
          "2022-05-10T15:13:51.824681",
          "2022-05-10T15:14:56.402917",
          "2022-05-10T15:16:00.798661",
          "2022-05-10T15:17:05.210242",
          "2022-05-10T15:18:11.263113",
          "2022-05-10T15:19:15.783566",
          "2022-05-10T15:20:19.976353",
          "2022-05-10T15:21:24.919616",
          "2022-05-10T15:22:30.147188",
          "2022-05-10T15:23:34.273455",
          "2022-05-10T15:24:38.378227",
          "2022-05-10T15:25:42.600220",
          "2022-05-10T15:26:46.596404",
          "2022-05-10T15:27:50.778444",
          "2022-05-10T15:28:55.043600",
          "2022-05-10T15:29:59.721707",
          "2022-05-10T15:31:04.248684",
          "2022-05-10T15:32:08.952879",
          "2022-05-10T15:33:13.786181"
         ],
         "y": [
          -367,
          -381.5,
          -352.5,
          -354,
          -364,
          -362.5,
          -364,
          -358,
          -371.5,
          -363.5,
          -612,
          -611,
          -611,
          -616,
          -609.5,
          -619,
          -612,
          -613,
          -616.5,
          -611,
          -611.5,
          -620,
          -611.5,
          -612.5,
          -611.5,
          -611,
          -582.5,
          -586.5,
          -602,
          -611.5,
          -601.5,
          -611.5,
          -620,
          -631,
          -631.5,
          -620.5,
          -621.5,
          -621.5,
          -613,
          -630,
          -631.5,
          -616,
          -621,
          -601.5,
          -621,
          -621,
          -621.5,
          -615.5,
          -621,
          -498,
          -717,
          -630.5,
          -595.5,
          -603,
          -600,
          -605,
          -620,
          -620
         ]
        },
        {
         "mode": "lines",
         "name": "JKLAKSHMI",
         "type": "scatter",
         "x": [
          "2022-05-10T11:13:14.762558",
          "2022-05-10T11:14:19.342269",
          "2022-05-10T11:22:37.943811",
          "2022-05-10T11:23:42.444221",
          "2022-05-10T11:24:46.718897",
          "2022-05-10T11:25:51.184320",
          "2022-05-10T11:26:55.719656",
          "2022-05-10T11:28:00.270737",
          "2022-05-10T11:29:05.070881",
          "2022-05-10T11:30:10.270252",
          "2022-05-10T14:42:32.664593",
          "2022-05-10T14:43:36.898971",
          "2022-05-10T14:44:41.315689",
          "2022-05-10T14:45:45.578694",
          "2022-05-10T14:46:49.732855",
          "2022-05-10T14:47:53.929201",
          "2022-05-10T14:48:58.165982",
          "2022-05-10T14:50:02.354285",
          "2022-05-10T14:51:13.201614",
          "2022-05-10T14:52:18.556854",
          "2022-05-10T14:53:22.884115",
          "2022-05-10T14:54:27.776254",
          "2022-05-10T14:55:32.383735",
          "2022-05-10T14:56:36.557819",
          "2022-05-10T14:57:40.777528",
          "2022-05-10T14:58:45.055561",
          "2022-05-10T14:59:49.160547",
          "2022-05-10T15:00:53.207745",
          "2022-05-10T15:01:57.723282",
          "2022-05-10T15:03:01.826530",
          "2022-05-10T15:04:06.153297",
          "2022-05-10T15:05:10.362052",
          "2022-05-10T15:06:15.224527",
          "2022-05-10T15:07:19.600637",
          "2022-05-10T15:08:23.695148",
          "2022-05-10T15:09:27.722250",
          "2022-05-10T15:10:38.713563",
          "2022-05-10T15:11:42.971886",
          "2022-05-10T15:12:47.058765",
          "2022-05-10T15:13:51.824681",
          "2022-05-10T15:14:56.402917",
          "2022-05-10T15:16:00.798661",
          "2022-05-10T15:17:05.210242",
          "2022-05-10T15:18:11.263113",
          "2022-05-10T15:19:15.783566",
          "2022-05-10T15:20:19.976353",
          "2022-05-10T15:21:24.919616",
          "2022-05-10T15:22:30.147188",
          "2022-05-10T15:23:34.273455",
          "2022-05-10T15:24:38.378227",
          "2022-05-10T15:25:42.600220",
          "2022-05-10T15:26:46.596404",
          "2022-05-10T15:27:50.778444",
          "2022-05-10T15:28:55.043600",
          "2022-05-10T15:29:59.721707",
          "2022-05-10T15:31:04.248684",
          "2022-05-10T15:32:08.952879",
          "2022-05-10T15:33:13.786181"
         ],
         "y": [
          -8,
          -8,
          -10,
          -16,
          -19,
          -12,
          -12,
          -19,
          -19,
          -19,
          -57,
          -45,
          -45,
          -57,
          -57,
          -57,
          -58,
          -57,
          -58,
          -71,
          -75,
          -74,
          -70,
          -80,
          -86,
          -90,
          -98,
          -79,
          -76,
          -82,
          -79,
          -34,
          -54,
          -82,
          -97,
          -80,
          -91,
          -99,
          -96,
          -96,
          -97,
          -82,
          -82,
          -89,
          -100,
          -98,
          -224,
          -203,
          -220,
          -230,
          -205,
          -240,
          -256,
          -246,
          -180,
          -180,
          -170,
          -170
         ]
        },
        {
         "mode": "lines",
         "name": "HDFCBANK",
         "type": "scatter",
         "x": [
          "2022-05-10T11:13:14.762558",
          "2022-05-10T11:14:19.342269",
          "2022-05-10T11:22:37.943811",
          "2022-05-10T11:23:42.444221",
          "2022-05-10T11:24:46.718897",
          "2022-05-10T11:25:51.184320",
          "2022-05-10T11:26:55.719656",
          "2022-05-10T11:28:00.270737",
          "2022-05-10T11:29:05.070881",
          "2022-05-10T11:30:10.270252",
          "2022-05-10T14:42:32.664593",
          "2022-05-10T14:43:36.898971",
          "2022-05-10T14:44:41.315689",
          "2022-05-10T14:45:45.578694",
          "2022-05-10T14:46:49.732855",
          "2022-05-10T14:47:53.929201",
          "2022-05-10T14:48:58.165982",
          "2022-05-10T14:50:02.354285",
          "2022-05-10T14:51:13.201614",
          "2022-05-10T14:52:18.556854",
          "2022-05-10T14:53:22.884115",
          "2022-05-10T14:54:27.776254",
          "2022-05-10T14:55:32.383735",
          "2022-05-10T14:56:36.557819",
          "2022-05-10T14:57:40.777528",
          "2022-05-10T14:58:45.055561",
          "2022-05-10T14:59:49.160547",
          "2022-05-10T15:00:53.207745",
          "2022-05-10T15:01:57.723282",
          "2022-05-10T15:03:01.826530",
          "2022-05-10T15:04:06.153297",
          "2022-05-10T15:05:10.362052",
          "2022-05-10T15:06:15.224527",
          "2022-05-10T15:07:19.600637",
          "2022-05-10T15:08:23.695148",
          "2022-05-10T15:09:27.722250",
          "2022-05-10T15:10:38.713563",
          "2022-05-10T15:11:42.971886",
          "2022-05-10T15:12:47.058765",
          "2022-05-10T15:13:51.824681",
          "2022-05-10T15:14:56.402917",
          "2022-05-10T15:16:00.798661",
          "2022-05-10T15:17:05.210242",
          "2022-05-10T15:18:11.263113",
          "2022-05-10T15:19:15.783566",
          "2022-05-10T15:20:19.976353",
          "2022-05-10T15:21:24.919616",
          "2022-05-10T15:22:30.147188",
          "2022-05-10T15:23:34.273455",
          "2022-05-10T15:24:38.378227",
          "2022-05-10T15:25:42.600220",
          "2022-05-10T15:26:46.596404",
          "2022-05-10T15:27:50.778444",
          "2022-05-10T15:28:55.043600",
          "2022-05-10T15:29:59.721707",
          "2022-05-10T15:31:04.248684",
          "2022-05-10T15:32:08.952879",
          "2022-05-10T15:33:13.786181"
         ],
         "y": [
          132,
          129,
          162,
          136.5,
          156,
          152.25,
          154.5,
          155.25,
          159.75,
          144,
          423.75,
          435,
          435,
          427.5,
          423,
          404.25,
          399,
          399,
          408.75,
          409.5,
          411,
          396.75,
          345,
          363.75,
          348.75,
          355.5,
          354,
          361.5,
          303.75,
          318,
          328.5,
          320.25,
          311.25,
          287.25,
          333,
          354,
          333,
          329.25,
          334.5,
          323.25,
          302.25,
          306.75,
          303,
          303.75,
          310.5,
          317.25,
          312,
          330,
          317.25,
          331.5,
          323.25,
          307.5,
          308.25,
          293.25,
          287.25,
          287.25,
          318,
          318
         ]
        },
        {
         "mode": "lines",
         "name": "PVR",
         "type": "scatter",
         "x": [
          "2022-05-10T11:13:14.762558",
          "2022-05-10T11:14:19.342269",
          "2022-05-10T11:22:37.943811",
          "2022-05-10T11:23:42.444221",
          "2022-05-10T11:24:46.718897",
          "2022-05-10T11:25:51.184320",
          "2022-05-10T11:26:55.719656",
          "2022-05-10T11:28:00.270737",
          "2022-05-10T11:29:05.070881",
          "2022-05-10T11:30:10.270252",
          "2022-05-10T14:42:32.664593",
          "2022-05-10T14:43:36.898971",
          "2022-05-10T14:44:41.315689",
          "2022-05-10T14:45:45.578694",
          "2022-05-10T14:46:49.732855",
          "2022-05-10T14:47:53.929201",
          "2022-05-10T14:48:58.165982",
          "2022-05-10T14:50:02.354285",
          "2022-05-10T14:51:13.201614",
          "2022-05-10T14:52:18.556854",
          "2022-05-10T14:53:22.884115",
          "2022-05-10T14:54:27.776254",
          "2022-05-10T14:55:32.383735",
          "2022-05-10T14:56:36.557819",
          "2022-05-10T14:57:40.777528",
          "2022-05-10T14:58:45.055561",
          "2022-05-10T14:59:49.160547",
          "2022-05-10T15:00:53.207745",
          "2022-05-10T15:01:57.723282",
          "2022-05-10T15:03:01.826530",
          "2022-05-10T15:04:06.153297",
          "2022-05-10T15:05:10.362052",
          "2022-05-10T15:06:15.224527",
          "2022-05-10T15:07:19.600637",
          "2022-05-10T15:08:23.695148",
          "2022-05-10T15:09:27.722250",
          "2022-05-10T15:10:38.713563",
          "2022-05-10T15:11:42.971886",
          "2022-05-10T15:12:47.058765",
          "2022-05-10T15:13:51.824681",
          "2022-05-10T15:14:56.402917",
          "2022-05-10T15:16:00.798661",
          "2022-05-10T15:17:05.210242",
          "2022-05-10T15:18:11.263113",
          "2022-05-10T15:19:15.783566",
          "2022-05-10T15:20:19.976353",
          "2022-05-10T15:21:24.919616",
          "2022-05-10T15:22:30.147188",
          "2022-05-10T15:23:34.273455",
          "2022-05-10T15:24:38.378227",
          "2022-05-10T15:25:42.600220",
          "2022-05-10T15:26:46.596404",
          "2022-05-10T15:27:50.778444",
          "2022-05-10T15:28:55.043600",
          "2022-05-10T15:29:59.721707",
          "2022-05-10T15:31:04.248684",
          "2022-05-10T15:32:08.952879",
          "2022-05-10T15:33:13.786181"
         ],
         "y": [
          688.0499999999993,
          662.3999999999996,
          566.0999999999985,
          542.25,
          544.0499999999993,
          549,
          531.8999999999996,
          527.8499999999985,
          531.8999999999996,
          540.8999999999996,
          662.3999999999996,
          666,
          657.8999999999996,
          650.7000000000007,
          646.6499999999996,
          641.25,
          630.8999999999996,
          602.0999999999985,
          639.8999999999996,
          655.2000000000007,
          652.9500000000007,
          641.7000000000007,
          625.5,
          643.5,
          603.8999999999996,
          603.8999999999996,
          619.2000000000007,
          603.8999999999996,
          583.2000000000007,
          593.0999999999985,
          587.7000000000007,
          576.8999999999996,
          563.8499999999985,
          552.1499999999996,
          565.2000000000007,
          597.1499999999996,
          608.8499999999985,
          612.8999999999996,
          558,
          531.8999999999996,
          603.8999999999996,
          608.8499999999985,
          595.3499999999985,
          634.5,
          646.2000000000007,
          625.9500000000007,
          639.4500000000007,
          629.5499999999993,
          589.0499999999993,
          585,
          596.25,
          566.5499999999993,
          573.75,
          602.0999999999985,
          612.8999999999996,
          594.8999999999996,
          597.1499999999996,
          597.1499999999996
         ]
        },
        {
         "mode": "lines",
         "name": "SWSOLAR",
         "type": "scatter",
         "x": [
          "2022-05-10T11:13:14.762558",
          "2022-05-10T11:14:19.342269",
          "2022-05-10T11:22:37.943811",
          "2022-05-10T11:23:42.444221",
          "2022-05-10T11:24:46.718897",
          "2022-05-10T11:25:51.184320",
          "2022-05-10T11:26:55.719656",
          "2022-05-10T11:28:00.270737",
          "2022-05-10T11:29:05.070881",
          "2022-05-10T11:30:10.270252",
          "2022-05-10T14:42:32.664593",
          "2022-05-10T14:43:36.898971",
          "2022-05-10T14:44:41.315689",
          "2022-05-10T14:45:45.578694",
          "2022-05-10T14:46:49.732855",
          "2022-05-10T14:47:53.929201",
          "2022-05-10T14:48:58.165982",
          "2022-05-10T14:50:02.354285",
          "2022-05-10T14:51:13.201614",
          "2022-05-10T14:52:18.556854",
          "2022-05-10T14:53:22.884115",
          "2022-05-10T14:54:27.776254",
          "2022-05-10T14:55:32.383735",
          "2022-05-10T14:56:36.557819",
          "2022-05-10T14:57:40.777528",
          "2022-05-10T14:58:45.055561",
          "2022-05-10T14:59:49.160547",
          "2022-05-10T15:00:53.207745",
          "2022-05-10T15:01:57.723282",
          "2022-05-10T15:03:01.826530",
          "2022-05-10T15:04:06.153297",
          "2022-05-10T15:05:10.362052",
          "2022-05-10T15:06:15.224527",
          "2022-05-10T15:07:19.600637",
          "2022-05-10T15:08:23.695148",
          "2022-05-10T15:09:27.722250",
          "2022-05-10T15:10:38.713563",
          "2022-05-10T15:11:42.971886",
          "2022-05-10T15:12:47.058765",
          "2022-05-10T15:13:51.824681",
          "2022-05-10T15:14:56.402917",
          "2022-05-10T15:16:00.798661",
          "2022-05-10T15:17:05.210242",
          "2022-05-10T15:18:11.263113",
          "2022-05-10T15:19:15.783566",
          "2022-05-10T15:20:19.976353",
          "2022-05-10T15:21:24.919616",
          "2022-05-10T15:22:30.147188",
          "2022-05-10T15:23:34.273455",
          "2022-05-10T15:24:38.378227",
          "2022-05-10T15:25:42.600220",
          "2022-05-10T15:26:46.596404",
          "2022-05-10T15:27:50.778444",
          "2022-05-10T15:28:55.043600",
          "2022-05-10T15:29:59.721707",
          "2022-05-10T15:31:04.248684",
          "2022-05-10T15:32:08.952879",
          "2022-05-10T15:33:13.786181"
         ],
         "y": [
          -53.75,
          -53.75,
          -40,
          -40,
          -47.5,
          -48.75,
          -45,
          -45,
          -41.25,
          -32.5,
          -95,
          -95,
          -95,
          -88.75,
          -91.25,
          -91.25,
          -113.75,
          -125,
          -126.25,
          -126.25,
          -146.25,
          -151.25,
          -143.75,
          -142.5,
          -162.5,
          -150,
          -176.25,
          -175,
          -176.25,
          -195,
          -188.75,
          -197.5,
          -198.75,
          -200,
          -200,
          -195,
          -138.75,
          -152.5,
          -152.5,
          -162.5,
          -187.5,
          -176.25,
          -175,
          -176.25,
          -178.75,
          -200,
          -193.75,
          -200,
          -285,
          -310,
          -288.75,
          -275,
          -291.25,
          -301.25,
          -307.5,
          -310,
          -213.75,
          -213.75
         ]
        },
        {
         "marker": {
          "color": "indianred"
         },
         "name": "--Today--",
         "type": "bar",
         "x": [
          "2022-05-10T11:13:14.762558",
          "2022-05-10T11:14:19.342269",
          "2022-05-10T15:28:55.043600",
          "2022-05-10T15:29:59.721707",
          "2022-05-10T15:31:04.248684",
          "2022-05-10T15:32:08.952879",
          "2022-05-10T15:33:13.786181"
         ],
         "y": [
          204.29999999999654,
          197.14999999999782,
          -1346.1500000000024,
          -1199.2000000000035,
          -1221.1000000000022,
          -1003.8500000000022,
          -1003.8500000000022
         ]
        }
       ],
       "layout": {
        "template": {
         "data": {
          "bar": [
           {
            "error_x": {
             "color": "#2a3f5f"
            },
            "error_y": {
             "color": "#2a3f5f"
            },
            "marker": {
             "line": {
              "color": "#E5ECF6",
              "width": 0.5
             }
            },
            "type": "bar"
           }
          ],
          "barpolar": [
           {
            "marker": {
             "line": {
              "color": "#E5ECF6",
              "width": 0.5
             }
            },
            "type": "barpolar"
           }
          ],
          "carpet": [
           {
            "aaxis": {
             "endlinecolor": "#2a3f5f",
             "gridcolor": "white",
             "linecolor": "white",
             "minorgridcolor": "white",
             "startlinecolor": "#2a3f5f"
            },
            "baxis": {
             "endlinecolor": "#2a3f5f",
             "gridcolor": "white",
             "linecolor": "white",
             "minorgridcolor": "white",
             "startlinecolor": "#2a3f5f"
            },
            "type": "carpet"
           }
          ],
          "choropleth": [
           {
            "colorbar": {
             "outlinewidth": 0,
             "ticks": ""
            },
            "type": "choropleth"
           }
          ],
          "contour": [
           {
            "colorbar": {
             "outlinewidth": 0,
             "ticks": ""
            },
            "colorscale": [
             [
              0,
              "#0d0887"
             ],
             [
              0.1111111111111111,
              "#46039f"
             ],
             [
              0.2222222222222222,
              "#7201a8"
             ],
             [
              0.3333333333333333,
              "#9c179e"
             ],
             [
              0.4444444444444444,
              "#bd3786"
             ],
             [
              0.5555555555555556,
              "#d8576b"
             ],
             [
              0.6666666666666666,
              "#ed7953"
             ],
             [
              0.7777777777777778,
              "#fb9f3a"
             ],
             [
              0.8888888888888888,
              "#fdca26"
             ],
             [
              1,
              "#f0f921"
             ]
            ],
            "type": "contour"
           }
          ],
          "contourcarpet": [
           {
            "colorbar": {
             "outlinewidth": 0,
             "ticks": ""
            },
            "type": "contourcarpet"
           }
          ],
          "heatmap": [
           {
            "colorbar": {
             "outlinewidth": 0,
             "ticks": ""
            },
            "colorscale": [
             [
              0,
              "#0d0887"
             ],
             [
              0.1111111111111111,
              "#46039f"
             ],
             [
              0.2222222222222222,
              "#7201a8"
             ],
             [
              0.3333333333333333,
              "#9c179e"
             ],
             [
              0.4444444444444444,
              "#bd3786"
             ],
             [
              0.5555555555555556,
              "#d8576b"
             ],
             [
              0.6666666666666666,
              "#ed7953"
             ],
             [
              0.7777777777777778,
              "#fb9f3a"
             ],
             [
              0.8888888888888888,
              "#fdca26"
             ],
             [
              1,
              "#f0f921"
             ]
            ],
            "type": "heatmap"
           }
          ],
          "heatmapgl": [
           {
            "colorbar": {
             "outlinewidth": 0,
             "ticks": ""
            },
            "colorscale": [
             [
              0,
              "#0d0887"
             ],
             [
              0.1111111111111111,
              "#46039f"
             ],
             [
              0.2222222222222222,
              "#7201a8"
             ],
             [
              0.3333333333333333,
              "#9c179e"
             ],
             [
              0.4444444444444444,
              "#bd3786"
             ],
             [
              0.5555555555555556,
              "#d8576b"
             ],
             [
              0.6666666666666666,
              "#ed7953"
             ],
             [
              0.7777777777777778,
              "#fb9f3a"
             ],
             [
              0.8888888888888888,
              "#fdca26"
             ],
             [
              1,
              "#f0f921"
             ]
            ],
            "type": "heatmapgl"
           }
          ],
          "histogram": [
           {
            "marker": {
             "colorbar": {
              "outlinewidth": 0,
              "ticks": ""
             }
            },
            "type": "histogram"
           }
          ],
          "histogram2d": [
           {
            "colorbar": {
             "outlinewidth": 0,
             "ticks": ""
            },
            "colorscale": [
             [
              0,
              "#0d0887"
             ],
             [
              0.1111111111111111,
              "#46039f"
             ],
             [
              0.2222222222222222,
              "#7201a8"
             ],
             [
              0.3333333333333333,
              "#9c179e"
             ],
             [
              0.4444444444444444,
              "#bd3786"
             ],
             [
              0.5555555555555556,
              "#d8576b"
             ],
             [
              0.6666666666666666,
              "#ed7953"
             ],
             [
              0.7777777777777778,
              "#fb9f3a"
             ],
             [
              0.8888888888888888,
              "#fdca26"
             ],
             [
              1,
              "#f0f921"
             ]
            ],
            "type": "histogram2d"
           }
          ],
          "histogram2dcontour": [
           {
            "colorbar": {
             "outlinewidth": 0,
             "ticks": ""
            },
            "colorscale": [
             [
              0,
              "#0d0887"
             ],
             [
              0.1111111111111111,
              "#46039f"
             ],
             [
              0.2222222222222222,
              "#7201a8"
             ],
             [
              0.3333333333333333,
              "#9c179e"
             ],
             [
              0.4444444444444444,
              "#bd3786"
             ],
             [
              0.5555555555555556,
              "#d8576b"
             ],
             [
              0.6666666666666666,
              "#ed7953"
             ],
             [
              0.7777777777777778,
              "#fb9f3a"
             ],
             [
              0.8888888888888888,
              "#fdca26"
             ],
             [
              1,
              "#f0f921"
             ]
            ],
            "type": "histogram2dcontour"
           }
          ],
          "mesh3d": [
           {
            "colorbar": {
             "outlinewidth": 0,
             "ticks": ""
            },
            "type": "mesh3d"
           }
          ],
          "parcoords": [
           {
            "line": {
             "colorbar": {
              "outlinewidth": 0,
              "ticks": ""
             }
            },
            "type": "parcoords"
           }
          ],
          "pie": [
           {
            "automargin": true,
            "type": "pie"
           }
          ],
          "scatter": [
           {
            "marker": {
             "colorbar": {
              "outlinewidth": 0,
              "ticks": ""
             }
            },
            "type": "scatter"
           }
          ],
          "scatter3d": [
           {
            "line": {
             "colorbar": {
              "outlinewidth": 0,
              "ticks": ""
             }
            },
            "marker": {
             "colorbar": {
              "outlinewidth": 0,
              "ticks": ""
             }
            },
            "type": "scatter3d"
           }
          ],
          "scattercarpet": [
           {
            "marker": {
             "colorbar": {
              "outlinewidth": 0,
              "ticks": ""
             }
            },
            "type": "scattercarpet"
           }
          ],
          "scattergeo": [
           {
            "marker": {
             "colorbar": {
              "outlinewidth": 0,
              "ticks": ""
             }
            },
            "type": "scattergeo"
           }
          ],
          "scattergl": [
           {
            "marker": {
             "colorbar": {
              "outlinewidth": 0,
              "ticks": ""
             }
            },
            "type": "scattergl"
           }
          ],
          "scattermapbox": [
           {
            "marker": {
             "colorbar": {
              "outlinewidth": 0,
              "ticks": ""
             }
            },
            "type": "scattermapbox"
           }
          ],
          "scatterpolar": [
           {
            "marker": {
             "colorbar": {
              "outlinewidth": 0,
              "ticks": ""
             }
            },
            "type": "scatterpolar"
           }
          ],
          "scatterpolargl": [
           {
            "marker": {
             "colorbar": {
              "outlinewidth": 0,
              "ticks": ""
             }
            },
            "type": "scatterpolargl"
           }
          ],
          "scatterternary": [
           {
            "marker": {
             "colorbar": {
              "outlinewidth": 0,
              "ticks": ""
             }
            },
            "type": "scatterternary"
           }
          ],
          "surface": [
           {
            "colorbar": {
             "outlinewidth": 0,
             "ticks": ""
            },
            "colorscale": [
             [
              0,
              "#0d0887"
             ],
             [
              0.1111111111111111,
              "#46039f"
             ],
             [
              0.2222222222222222,
              "#7201a8"
             ],
             [
              0.3333333333333333,
              "#9c179e"
             ],
             [
              0.4444444444444444,
              "#bd3786"
             ],
             [
              0.5555555555555556,
              "#d8576b"
             ],
             [
              0.6666666666666666,
              "#ed7953"
             ],
             [
              0.7777777777777778,
              "#fb9f3a"
             ],
             [
              0.8888888888888888,
              "#fdca26"
             ],
             [
              1,
              "#f0f921"
             ]
            ],
            "type": "surface"
           }
          ],
          "table": [
           {
            "cells": {
             "fill": {
              "color": "#EBF0F8"
             },
             "line": {
              "color": "white"
             }
            },
            "header": {
             "fill": {
              "color": "#C8D4E3"
             },
             "line": {
              "color": "white"
             }
            },
            "type": "table"
           }
          ]
         },
         "layout": {
          "annotationdefaults": {
           "arrowcolor": "#2a3f5f",
           "arrowhead": 0,
           "arrowwidth": 1
          },
          "autotypenumbers": "strict",
          "coloraxis": {
           "colorbar": {
            "outlinewidth": 0,
            "ticks": ""
           }
          },
          "colorscale": {
           "diverging": [
            [
             0,
             "#8e0152"
            ],
            [
             0.1,
             "#c51b7d"
            ],
            [
             0.2,
             "#de77ae"
            ],
            [
             0.3,
             "#f1b6da"
            ],
            [
             0.4,
             "#fde0ef"
            ],
            [
             0.5,
             "#f7f7f7"
            ],
            [
             0.6,
             "#e6f5d0"
            ],
            [
             0.7,
             "#b8e186"
            ],
            [
             0.8,
             "#7fbc41"
            ],
            [
             0.9,
             "#4d9221"
            ],
            [
             1,
             "#276419"
            ]
           ],
           "sequential": [
            [
             0,
             "#0d0887"
            ],
            [
             0.1111111111111111,
             "#46039f"
            ],
            [
             0.2222222222222222,
             "#7201a8"
            ],
            [
             0.3333333333333333,
             "#9c179e"
            ],
            [
             0.4444444444444444,
             "#bd3786"
            ],
            [
             0.5555555555555556,
             "#d8576b"
            ],
            [
             0.6666666666666666,
             "#ed7953"
            ],
            [
             0.7777777777777778,
             "#fb9f3a"
            ],
            [
             0.8888888888888888,
             "#fdca26"
            ],
            [
             1,
             "#f0f921"
            ]
           ],
           "sequentialminus": [
            [
             0,
             "#0d0887"
            ],
            [
             0.1111111111111111,
             "#46039f"
            ],
            [
             0.2222222222222222,
             "#7201a8"
            ],
            [
             0.3333333333333333,
             "#9c179e"
            ],
            [
             0.4444444444444444,
             "#bd3786"
            ],
            [
             0.5555555555555556,
             "#d8576b"
            ],
            [
             0.6666666666666666,
             "#ed7953"
            ],
            [
             0.7777777777777778,
             "#fb9f3a"
            ],
            [
             0.8888888888888888,
             "#fdca26"
            ],
            [
             1,
             "#f0f921"
            ]
           ]
          },
          "colorway": [
           "#636efa",
           "#EF553B",
           "#00cc96",
           "#ab63fa",
           "#FFA15A",
           "#19d3f3",
           "#FF6692",
           "#B6E880",
           "#FF97FF",
           "#FECB52"
          ],
          "font": {
           "color": "#2a3f5f"
          },
          "geo": {
           "bgcolor": "white",
           "lakecolor": "white",
           "landcolor": "#E5ECF6",
           "showlakes": true,
           "showland": true,
           "subunitcolor": "white"
          },
          "hoverlabel": {
           "align": "left"
          },
          "hovermode": "closest",
          "mapbox": {
           "style": "light"
          },
          "paper_bgcolor": "white",
          "plot_bgcolor": "#E5ECF6",
          "polar": {
           "angularaxis": {
            "gridcolor": "white",
            "linecolor": "white",
            "ticks": ""
           },
           "bgcolor": "#E5ECF6",
           "radialaxis": {
            "gridcolor": "white",
            "linecolor": "white",
            "ticks": ""
           }
          },
          "scene": {
           "xaxis": {
            "backgroundcolor": "#E5ECF6",
            "gridcolor": "white",
            "gridwidth": 2,
            "linecolor": "white",
            "showbackground": true,
            "ticks": "",
            "zerolinecolor": "white"
           },
           "yaxis": {
            "backgroundcolor": "#E5ECF6",
            "gridcolor": "white",
            "gridwidth": 2,
            "linecolor": "white",
            "showbackground": true,
            "ticks": "",
            "zerolinecolor": "white"
           },
           "zaxis": {
            "backgroundcolor": "#E5ECF6",
            "gridcolor": "white",
            "gridwidth": 2,
            "linecolor": "white",
            "showbackground": true,
            "ticks": "",
            "zerolinecolor": "white"
           }
          },
          "shapedefaults": {
           "line": {
            "color": "#2a3f5f"
           }
          },
          "ternary": {
           "aaxis": {
            "gridcolor": "white",
            "linecolor": "white",
            "ticks": ""
           },
           "baxis": {
            "gridcolor": "white",
            "linecolor": "white",
            "ticks": ""
           },
           "bgcolor": "#E5ECF6",
           "caxis": {
            "gridcolor": "white",
            "linecolor": "white",
            "ticks": ""
           }
          },
          "title": {
           "x": 0.05
          },
          "xaxis": {
           "automargin": true,
           "gridcolor": "white",
           "linecolor": "white",
           "ticks": "",
           "title": {
            "standoff": 15
           },
           "zerolinecolor": "white",
           "zerolinewidth": 2
          },
          "yaxis": {
           "automargin": true,
           "gridcolor": "white",
           "linecolor": "white",
           "ticks": "",
           "title": {
            "standoff": 15
           },
           "zerolinecolor": "white",
           "zerolinewidth": 2
          }
         }
        }
       }
      },
      "text/html": [
       "<div>                            <div id=\"89432e18-b582-489c-9eb0-40e5bc094c2e\" class=\"plotly-graph-div\" style=\"height:525px; width:100%;\"></div>            <script type=\"text/javascript\">                require([\"plotly\"], function(Plotly) {                    window.PLOTLYENV=window.PLOTLYENV || {};                                    if (document.getElementById(\"89432e18-b582-489c-9eb0-40e5bc094c2e\")) {                    Plotly.newPlot(                        \"89432e18-b582-489c-9eb0-40e5bc094c2e\",                        [{\"mode\": \"lines\", \"name\": \"PNB\", \"type\": \"scatter\", \"x\": [\"2022-05-10T11:13:14.762558\", \"2022-05-10T11:14:19.342269\", \"2022-05-10T11:22:37.943811\", \"2022-05-10T11:23:42.444221\", \"2022-05-10T11:24:46.718897\", \"2022-05-10T11:25:51.184320\", \"2022-05-10T11:26:55.719656\", \"2022-05-10T11:28:00.270737\", \"2022-05-10T11:29:05.070881\", \"2022-05-10T11:30:10.270252\", \"2022-05-10T14:42:32.664593\", \"2022-05-10T14:43:36.898971\", \"2022-05-10T14:44:41.315689\", \"2022-05-10T14:45:45.578694\", \"2022-05-10T14:46:49.732855\", \"2022-05-10T14:47:53.929201\", \"2022-05-10T14:48:58.165982\", \"2022-05-10T14:50:02.354285\", \"2022-05-10T14:51:13.201614\", \"2022-05-10T14:52:18.556854\", \"2022-05-10T14:53:22.884115\", \"2022-05-10T14:54:27.776254\", \"2022-05-10T14:55:32.383735\", \"2022-05-10T14:56:36.557819\", \"2022-05-10T14:57:40.777528\", \"2022-05-10T14:58:45.055561\", \"2022-05-10T14:59:49.160547\", \"2022-05-10T15:00:53.207745\", \"2022-05-10T15:01:57.723282\", \"2022-05-10T15:03:01.826530\", \"2022-05-10T15:04:06.153297\", \"2022-05-10T15:05:10.362052\", \"2022-05-10T15:06:15.224527\", \"2022-05-10T15:07:19.600637\", \"2022-05-10T15:08:23.695148\", \"2022-05-10T15:09:27.722250\", \"2022-05-10T15:10:38.713563\", \"2022-05-10T15:11:42.971886\", \"2022-05-10T15:12:47.058765\", \"2022-05-10T15:13:51.824681\", \"2022-05-10T15:14:56.402917\", \"2022-05-10T15:16:00.798661\", \"2022-05-10T15:17:05.210242\", \"2022-05-10T15:18:11.263113\", \"2022-05-10T15:19:15.783566\", \"2022-05-10T15:20:19.976353\", \"2022-05-10T15:21:24.919616\", \"2022-05-10T15:22:30.147188\", \"2022-05-10T15:23:34.273455\", \"2022-05-10T15:24:38.378227\", \"2022-05-10T15:25:42.600220\", \"2022-05-10T15:26:46.596404\", \"2022-05-10T15:27:50.778444\", \"2022-05-10T15:28:55.043600\", \"2022-05-10T15:29:59.721707\", \"2022-05-10T15:31:04.248684\", \"2022-05-10T15:32:08.952879\", \"2022-05-10T15:33:13.786181\"], \"y\": [59.99999999999909, 59.99999999999909, 40.00000000000091, 40.00000000000091, 40.00000000000091, 40.00000000000091, 20.0, 9.99999999999909, 9.99999999999909, 20.0, 20.0, 30.0, 30.0, 30.0, 30.0, 20.0, 9.99999999999909, 9.99999999999909, 9.99999999999909, 0.0, 0.0, -9.99999999999909, 0.0, 0.0, -20.0, -9.99999999999909, -9.99999999999909, -20.0, -20.0, -20.0, -30.0, -30.0, -30.0, -30.0, -40.00000000000091, -30.0, -20.0, -30.0, -30.0, -30.0, -30.0, -20.0, -20.0, -30.0, -30.0, -30.0, -40.00000000000091, -50.0, -40.00000000000091, -50.0, -59.99999999999909, -70.0, -80.0, -80.0, -80.0, -70.0, -40.00000000000091, -40.00000000000091]}, {\"mode\": \"lines\", \"name\": \"WIPRO\", \"type\": \"scatter\", \"x\": [\"2022-05-10T11:13:14.762558\", \"2022-05-10T11:14:19.342269\", \"2022-05-10T11:22:37.943811\", \"2022-05-10T11:23:42.444221\", \"2022-05-10T11:24:46.718897\", \"2022-05-10T11:25:51.184320\", \"2022-05-10T11:26:55.719656\", \"2022-05-10T11:28:00.270737\", \"2022-05-10T11:29:05.070881\", \"2022-05-10T11:30:10.270252\", \"2022-05-10T14:42:32.664593\", \"2022-05-10T14:43:36.898971\", \"2022-05-10T14:44:41.315689\", \"2022-05-10T14:45:45.578694\", \"2022-05-10T14:46:49.732855\", \"2022-05-10T14:47:53.929201\", \"2022-05-10T14:48:58.165982\", \"2022-05-10T14:50:02.354285\", \"2022-05-10T14:51:13.201614\", \"2022-05-10T14:52:18.556854\", \"2022-05-10T14:53:22.884115\", \"2022-05-10T14:54:27.776254\", \"2022-05-10T14:55:32.383735\", \"2022-05-10T14:56:36.557819\", \"2022-05-10T14:57:40.777528\", \"2022-05-10T14:58:45.055561\", \"2022-05-10T14:59:49.160547\", \"2022-05-10T15:00:53.207745\", \"2022-05-10T15:01:57.723282\", \"2022-05-10T15:03:01.826530\", \"2022-05-10T15:04:06.153297\", \"2022-05-10T15:05:10.362052\", \"2022-05-10T15:06:15.224527\", \"2022-05-10T15:07:19.600637\", \"2022-05-10T15:08:23.695148\", \"2022-05-10T15:09:27.722250\", \"2022-05-10T15:10:38.713563\", \"2022-05-10T15:11:42.971886\", \"2022-05-10T15:12:47.058765\", \"2022-05-10T15:13:51.824681\", \"2022-05-10T15:14:56.402917\", \"2022-05-10T15:16:00.798661\", \"2022-05-10T15:17:05.210242\", \"2022-05-10T15:18:11.263113\", \"2022-05-10T15:19:15.783566\", \"2022-05-10T15:20:19.976353\", \"2022-05-10T15:21:24.919616\", \"2022-05-10T15:22:30.147188\", \"2022-05-10T15:23:34.273455\", \"2022-05-10T15:24:38.378227\", \"2022-05-10T15:25:42.600220\", \"2022-05-10T15:26:46.596404\", \"2022-05-10T15:27:50.778444\", \"2022-05-10T15:28:55.043600\", \"2022-05-10T15:29:59.721707\", \"2022-05-10T15:31:04.248684\", \"2022-05-10T15:32:08.952879\", \"2022-05-10T15:33:13.786181\"], \"y\": [-168.75, -159.75, -105.75, -119.25, -121.5, -132.75, -128.25, -130.5, -130.5, -119.25, -139.5, -135.0, -135.0, -150.75, -135.0, -148.5, -141.75, -150.75, -141.75, -139.5, -146.25, -144.0, -184.5, -189.0, -198.0, -171.0, -180.0, -164.25, -218.25, -211.5, -218.25, -229.5, -258.75, -267.75, -225.0, -218.25, -227.25, -222.75, -240.75, -245.25, -243.0, -243.0, -249.75, -240.75, -252.0, -240.75, -249.75, -256.5, -247.5, -272.25, -265.5, -252.0, -267.75, -254.25, -267.75, -272.25, -247.5, -247.5]}, {\"mode\": \"lines\", \"name\": \"UNITECH\", \"type\": \"scatter\", \"x\": [\"2022-05-10T11:13:14.762558\", \"2022-05-10T11:14:19.342269\", \"2022-05-10T11:22:37.943811\", \"2022-05-10T11:23:42.444221\", \"2022-05-10T11:24:46.718897\", \"2022-05-10T11:25:51.184320\", \"2022-05-10T11:26:55.719656\", \"2022-05-10T11:28:00.270737\", \"2022-05-10T11:29:05.070881\", \"2022-05-10T11:30:10.270252\", \"2022-05-10T14:42:32.664593\", \"2022-05-10T14:43:36.898971\", \"2022-05-10T14:44:41.315689\", \"2022-05-10T14:45:45.578694\", \"2022-05-10T14:46:49.732855\", \"2022-05-10T14:47:53.929201\", \"2022-05-10T14:48:58.165982\", \"2022-05-10T14:50:02.354285\", \"2022-05-10T14:51:13.201614\", \"2022-05-10T14:52:18.556854\", \"2022-05-10T14:53:22.884115\", \"2022-05-10T14:54:27.776254\", \"2022-05-10T14:55:32.383735\", \"2022-05-10T14:56:36.557819\", \"2022-05-10T14:57:40.777528\", \"2022-05-10T14:58:45.055561\", \"2022-05-10T14:59:49.160547\", \"2022-05-10T15:00:53.207745\", \"2022-05-10T15:01:57.723282\", \"2022-05-10T15:03:01.826530\", \"2022-05-10T15:04:06.153297\", \"2022-05-10T15:05:10.362052\", \"2022-05-10T15:06:15.224527\", \"2022-05-10T15:07:19.600637\", \"2022-05-10T15:08:23.695148\", \"2022-05-10T15:09:27.722250\", \"2022-05-10T15:10:38.713563\", \"2022-05-10T15:11:42.971886\", \"2022-05-10T15:12:47.058765\", \"2022-05-10T15:13:51.824681\", \"2022-05-10T15:14:56.402917\", \"2022-05-10T15:16:00.798661\", \"2022-05-10T15:17:05.210242\", \"2022-05-10T15:18:11.263113\", \"2022-05-10T15:19:15.783566\", \"2022-05-10T15:20:19.976353\", \"2022-05-10T15:21:24.919616\", \"2022-05-10T15:22:30.147188\", \"2022-05-10T15:23:34.273455\", \"2022-05-10T15:24:38.378227\", \"2022-05-10T15:25:42.600220\", \"2022-05-10T15:26:46.596404\", \"2022-05-10T15:27:50.778444\", \"2022-05-10T15:28:55.043600\", \"2022-05-10T15:29:59.721707\", \"2022-05-10T15:31:04.248684\", \"2022-05-10T15:32:08.952879\", \"2022-05-10T15:33:13.786181\"], \"y\": [-20.0, 0.0, 0.0, 0.0, 0.0, 0.0, 0.0, 0.0, 0.0, 0.0, -20.0, -20.0, -20.0, -20.0, -20.0, -20.0, -20.0, -20.0, -20.0, 0.0, 0.0, -20.0, -20.0, -20.0, -20.0, -20.0, -20.0, -20.0, -20.0, -20.0, -20.0, -20.0, -20.0, -20.0, -20.0, -20.0, -20.0, -20.0, -20.0, -20.0, -20.0, -20.0, -20.0, -20.0, -20.0, -20.0, -20.0, -20.0, -20.0, -20.0, -20.0, -20.0, -20.0, -20.0, -20.0, -20.0, -20.0, -20.0]}, {\"mode\": \"lines\", \"name\": \"SJVN\", \"type\": \"scatter\", \"x\": [\"2022-05-10T11:13:14.762558\", \"2022-05-10T11:14:19.342269\", \"2022-05-10T11:22:37.943811\", \"2022-05-10T11:23:42.444221\", \"2022-05-10T11:24:46.718897\", \"2022-05-10T11:25:51.184320\", \"2022-05-10T11:26:55.719656\", \"2022-05-10T11:28:00.270737\", \"2022-05-10T11:29:05.070881\", \"2022-05-10T11:30:10.270252\", \"2022-05-10T14:42:32.664593\", \"2022-05-10T14:43:36.898971\", \"2022-05-10T14:44:41.315689\", \"2022-05-10T14:45:45.578694\", \"2022-05-10T14:46:49.732855\", \"2022-05-10T14:47:53.929201\", \"2022-05-10T14:48:58.165982\", \"2022-05-10T14:50:02.354285\", \"2022-05-10T14:51:13.201614\", \"2022-05-10T14:52:18.556854\", \"2022-05-10T14:53:22.884115\", \"2022-05-10T14:54:27.776254\", \"2022-05-10T14:55:32.383735\", \"2022-05-10T14:56:36.557819\", \"2022-05-10T14:57:40.777528\", \"2022-05-10T14:58:45.055561\", \"2022-05-10T14:59:49.160547\", \"2022-05-10T15:00:53.207745\", \"2022-05-10T15:01:57.723282\", \"2022-05-10T15:03:01.826530\", \"2022-05-10T15:04:06.153297\", \"2022-05-10T15:05:10.362052\", \"2022-05-10T15:06:15.224527\", \"2022-05-10T15:07:19.600637\", \"2022-05-10T15:08:23.695148\", \"2022-05-10T15:09:27.722250\", \"2022-05-10T15:10:38.713563\", \"2022-05-10T15:11:42.971886\", \"2022-05-10T15:12:47.058765\", \"2022-05-10T15:13:51.824681\", \"2022-05-10T15:14:56.402917\", \"2022-05-10T15:16:00.798661\", \"2022-05-10T15:17:05.210242\", \"2022-05-10T15:18:11.263113\", \"2022-05-10T15:19:15.783566\", \"2022-05-10T15:20:19.976353\", \"2022-05-10T15:21:24.919616\", \"2022-05-10T15:22:30.147188\", \"2022-05-10T15:23:34.273455\", \"2022-05-10T15:24:38.378227\", \"2022-05-10T15:25:42.600220\", \"2022-05-10T15:26:46.596404\", \"2022-05-10T15:27:50.778444\", \"2022-05-10T15:28:55.043600\", \"2022-05-10T15:29:59.721707\", \"2022-05-10T15:31:04.248684\", \"2022-05-10T15:32:08.952879\", \"2022-05-10T15:33:13.786181\"], \"y\": [0.0, 0.0, 15.0, 15.0, 0.0, 0.0, 0.0, 0.0, 0.0, 0.0, -105.0, -105.0, -105.0, -105.0, -105.0, -105.0, -90.0, -105.0, -105.0, -90.0, -90.0, -105.0, -105.0, -105.0, -105.0, -105.0, -105.0, -105.0, -105.0, -105.0, -105.0, -90.0, -75.0, -45.0, -60.0, -60.0, -75.0, -105.0, -105.0, -105.0, -105.0, -105.0, -105.0, -105.0, -105.0, -105.0, -105.0, -105.0, -120.0, -120.0, -120.0, -120.0, -120.0, -135.0, -135.0, -135.0, -105.0, -105.0]}, {\"mode\": \"lines\", \"name\": \"HAL\", \"type\": \"scatter\", \"x\": [\"2022-05-10T11:13:14.762558\", \"2022-05-10T11:14:19.342269\", \"2022-05-10T11:22:37.943811\", \"2022-05-10T11:23:42.444221\", \"2022-05-10T11:24:46.718897\", \"2022-05-10T11:25:51.184320\", \"2022-05-10T11:26:55.719656\", \"2022-05-10T11:28:00.270737\", \"2022-05-10T11:29:05.070881\", \"2022-05-10T11:30:10.270252\", \"2022-05-10T14:42:32.664593\", \"2022-05-10T14:43:36.898971\", \"2022-05-10T14:44:41.315689\", \"2022-05-10T14:45:45.578694\", \"2022-05-10T14:46:49.732855\", \"2022-05-10T14:47:53.929201\", \"2022-05-10T14:48:58.165982\", \"2022-05-10T14:50:02.354285\", \"2022-05-10T14:51:13.201614\", \"2022-05-10T14:52:18.556854\", \"2022-05-10T14:53:22.884115\", \"2022-05-10T14:54:27.776254\", \"2022-05-10T14:55:32.383735\", \"2022-05-10T14:56:36.557819\", \"2022-05-10T14:57:40.777528\", \"2022-05-10T14:58:45.055561\", \"2022-05-10T14:59:49.160547\", \"2022-05-10T15:00:53.207745\", \"2022-05-10T15:01:57.723282\", \"2022-05-10T15:03:01.826530\", \"2022-05-10T15:04:06.153297\", \"2022-05-10T15:05:10.362052\", \"2022-05-10T15:06:15.224527\", \"2022-05-10T15:07:19.600637\", \"2022-05-10T15:08:23.695148\", \"2022-05-10T15:09:27.722250\", \"2022-05-10T15:10:38.713563\", \"2022-05-10T15:11:42.971886\", \"2022-05-10T15:12:47.058765\", \"2022-05-10T15:13:51.824681\", \"2022-05-10T15:14:56.402917\", \"2022-05-10T15:16:00.798661\", \"2022-05-10T15:17:05.210242\", \"2022-05-10T15:18:11.263113\", \"2022-05-10T15:19:15.783566\", \"2022-05-10T15:20:19.976353\", \"2022-05-10T15:21:24.919616\", \"2022-05-10T15:22:30.147188\", \"2022-05-10T15:23:34.273455\", \"2022-05-10T15:24:38.378227\", \"2022-05-10T15:25:42.600220\", \"2022-05-10T15:26:46.596404\", \"2022-05-10T15:27:50.778444\", \"2022-05-10T15:28:55.043600\", \"2022-05-10T15:29:59.721707\", \"2022-05-10T15:31:04.248684\", \"2022-05-10T15:32:08.952879\", \"2022-05-10T15:33:13.786181\"], \"y\": [-50.25, -44.0, -43.5, -49.25, -52.25, -75.25, -83.25, -94.25, -97.75, -84.5, -14.5, -12.0, -11.0, -16.75, -13.75, -31.75, -33.25, -33.0, -37.25, -35.25, -33.25, -38.25, -39.5, -51.0, -55.25, -57.25, -51.5, -52.25, -64.5, -71.0, -69.5, -78.5, -85.25, -100.5, -97.25, -78.5, -83.25, -84.75, -88.75, -93.25, -82.25, -76.25, -68.5, -71.5, -76.0, -74.75, -83.75, -88.25, -69.25, -73.25, -68.25, -68.25, -90.5, -104.0, -93.75, -93.75, -80.0, -80.0]}, {\"mode\": \"lines\", \"name\": \"RECLTD\", \"type\": \"scatter\", \"x\": [\"2022-05-10T11:13:14.762558\", \"2022-05-10T11:14:19.342269\", \"2022-05-10T11:22:37.943811\", \"2022-05-10T11:23:42.444221\", \"2022-05-10T11:24:46.718897\", \"2022-05-10T11:25:51.184320\", \"2022-05-10T11:26:55.719656\", \"2022-05-10T11:28:00.270737\", \"2022-05-10T11:29:05.070881\", \"2022-05-10T11:30:10.270252\", \"2022-05-10T14:42:32.664593\", \"2022-05-10T14:43:36.898971\", \"2022-05-10T14:44:41.315689\", \"2022-05-10T14:45:45.578694\", \"2022-05-10T14:46:49.732855\", \"2022-05-10T14:47:53.929201\", \"2022-05-10T14:48:58.165982\", \"2022-05-10T14:50:02.354285\", \"2022-05-10T14:51:13.201614\", \"2022-05-10T14:52:18.556854\", \"2022-05-10T14:53:22.884115\", \"2022-05-10T14:54:27.776254\", \"2022-05-10T14:55:32.383735\", \"2022-05-10T14:56:36.557819\", \"2022-05-10T14:57:40.777528\", \"2022-05-10T14:58:45.055561\", \"2022-05-10T14:59:49.160547\", \"2022-05-10T15:00:53.207745\", \"2022-05-10T15:01:57.723282\", \"2022-05-10T15:03:01.826530\", \"2022-05-10T15:04:06.153297\", \"2022-05-10T15:05:10.362052\", \"2022-05-10T15:06:15.224527\", \"2022-05-10T15:07:19.600637\", \"2022-05-10T15:08:23.695148\", \"2022-05-10T15:09:27.722250\", \"2022-05-10T15:10:38.713563\", \"2022-05-10T15:11:42.971886\", \"2022-05-10T15:12:47.058765\", \"2022-05-10T15:13:51.824681\", \"2022-05-10T15:14:56.402917\", \"2022-05-10T15:16:00.798661\", \"2022-05-10T15:17:05.210242\", \"2022-05-10T15:18:11.263113\", \"2022-05-10T15:19:15.783566\", \"2022-05-10T15:20:19.976353\", \"2022-05-10T15:21:24.919616\", \"2022-05-10T15:22:30.147188\", \"2022-05-10T15:23:34.273455\", \"2022-05-10T15:24:38.378227\", \"2022-05-10T15:25:42.600220\", \"2022-05-10T15:26:46.596404\", \"2022-05-10T15:27:50.778444\", \"2022-05-10T15:28:55.043600\", \"2022-05-10T15:29:59.721707\", \"2022-05-10T15:31:04.248684\", \"2022-05-10T15:32:08.952879\", \"2022-05-10T15:33:13.786181\"], \"y\": [-7.5, -7.5, -5.0, -5.0, -2.5, -10.0, -15.0, -27.5, -17.5, -17.5, -27.5, -27.5, -32.5, -32.5, -32.5, -40.0, -40.0, -45.0, -45.0, -45.0, -42.5, -42.5, -55.0, -55.0, -65.0, -67.5, -65.0, -67.5, -72.5, -82.5, -77.5, -77.5, -82.5, -85.0, -85.0, -82.5, -77.5, -80.0, -82.5, -82.5, -82.5, -82.5, -85.0, -85.0, -82.5, -80.0, -85.0, -85.0, -85.0, -80.0, -75.0, -75.0, -77.5, -85.0, -72.5, -70.0, -80.0, -80.0]}, {\"mode\": \"lines\", \"name\": \"LICHSGFIN\", \"type\": \"scatter\", \"x\": [\"2022-05-10T11:13:14.762558\", \"2022-05-10T11:14:19.342269\", \"2022-05-10T11:22:37.943811\", \"2022-05-10T11:23:42.444221\", \"2022-05-10T11:24:46.718897\", \"2022-05-10T11:25:51.184320\", \"2022-05-10T11:26:55.719656\", \"2022-05-10T11:28:00.270737\", \"2022-05-10T11:29:05.070881\", \"2022-05-10T11:30:10.270252\", \"2022-05-10T14:42:32.664593\", \"2022-05-10T14:43:36.898971\", \"2022-05-10T14:44:41.315689\", \"2022-05-10T14:45:45.578694\", \"2022-05-10T14:46:49.732855\", \"2022-05-10T14:47:53.929201\", \"2022-05-10T14:48:58.165982\", \"2022-05-10T14:50:02.354285\", \"2022-05-10T14:51:13.201614\", \"2022-05-10T14:52:18.556854\", \"2022-05-10T14:53:22.884115\", \"2022-05-10T14:54:27.776254\", \"2022-05-10T14:55:32.383735\", \"2022-05-10T14:56:36.557819\", \"2022-05-10T14:57:40.777528\", \"2022-05-10T14:58:45.055561\", \"2022-05-10T14:59:49.160547\", \"2022-05-10T15:00:53.207745\", \"2022-05-10T15:01:57.723282\", \"2022-05-10T15:03:01.826530\", \"2022-05-10T15:04:06.153297\", \"2022-05-10T15:05:10.362052\", \"2022-05-10T15:06:15.224527\", \"2022-05-10T15:07:19.600637\", \"2022-05-10T15:08:23.695148\", \"2022-05-10T15:09:27.722250\", \"2022-05-10T15:10:38.713563\", \"2022-05-10T15:11:42.971886\", \"2022-05-10T15:12:47.058765\", \"2022-05-10T15:13:51.824681\", \"2022-05-10T15:14:56.402917\", \"2022-05-10T15:16:00.798661\", \"2022-05-10T15:17:05.210242\", \"2022-05-10T15:18:11.263113\", \"2022-05-10T15:19:15.783566\", \"2022-05-10T15:20:19.976353\", \"2022-05-10T15:21:24.919616\", \"2022-05-10T15:22:30.147188\", \"2022-05-10T15:23:34.273455\", \"2022-05-10T15:24:38.378227\", \"2022-05-10T15:25:42.600220\", \"2022-05-10T15:26:46.596404\", \"2022-05-10T15:27:50.778444\", \"2022-05-10T15:28:55.043600\", \"2022-05-10T15:29:59.721707\", \"2022-05-10T15:31:04.248684\", \"2022-05-10T15:32:08.952879\", \"2022-05-10T15:33:13.786181\"], \"y\": [-128.0, -123.19999999999891, -9.599999999998545, -12.799999999999272, -27.19999999999891, -22.399999999999636, -43.19999999999891, -57.599999999998545, -46.399999999999636, -62.399999999999636, 94.40000000000146, 86.40000000000146, 94.40000000000146, 88.0, 84.80000000000109, 54.400000000001455, 36.80000000000109, 32.0, 28.80000000000109, 33.600000000000364, 32.0, 19.200000000000728, 0.0, -20.799999999999272, -28.799999999999272, -33.599999999998545, -33.599999999998545, -44.79999999999927, -60.79999999999927, -70.39999999999964, -65.59999999999854, -67.19999999999891, -73.59999999999854, -96.0, -96.0, -67.19999999999891, -73.59999999999854, -70.39999999999964, -89.59999999999854, -89.59999999999854, -100.79999999999927, -99.19999999999891, -97.59999999999854, -110.39999999999964, -120.0, -123.19999999999891, -136.0, -136.0, -86.39999999999964, -112.0, -99.19999999999891, -126.39999999999964, -136.0, -131.1999999999989, -108.79999999999927, -116.79999999999927, -97.59999999999854, -97.59999999999854]}, {\"mode\": \"lines\", \"name\": \"HDFCLIFE\", \"type\": \"scatter\", \"x\": [\"2022-05-10T11:13:14.762558\", \"2022-05-10T11:14:19.342269\", \"2022-05-10T11:22:37.943811\", \"2022-05-10T11:23:42.444221\", \"2022-05-10T11:24:46.718897\", \"2022-05-10T11:25:51.184320\", \"2022-05-10T11:26:55.719656\", \"2022-05-10T11:28:00.270737\", \"2022-05-10T11:29:05.070881\", \"2022-05-10T11:30:10.270252\", \"2022-05-10T14:42:32.664593\", \"2022-05-10T14:43:36.898971\", \"2022-05-10T14:44:41.315689\", \"2022-05-10T14:45:45.578694\", \"2022-05-10T14:46:49.732855\", \"2022-05-10T14:47:53.929201\", \"2022-05-10T14:48:58.165982\", \"2022-05-10T14:50:02.354285\", \"2022-05-10T14:51:13.201614\", \"2022-05-10T14:52:18.556854\", \"2022-05-10T14:53:22.884115\", \"2022-05-10T14:54:27.776254\", \"2022-05-10T14:55:32.383735\", \"2022-05-10T14:56:36.557819\", \"2022-05-10T14:57:40.777528\", \"2022-05-10T14:58:45.055561\", \"2022-05-10T14:59:49.160547\", \"2022-05-10T15:00:53.207745\", \"2022-05-10T15:01:57.723282\", \"2022-05-10T15:03:01.826530\", \"2022-05-10T15:04:06.153297\", \"2022-05-10T15:05:10.362052\", \"2022-05-10T15:06:15.224527\", \"2022-05-10T15:07:19.600637\", \"2022-05-10T15:08:23.695148\", \"2022-05-10T15:09:27.722250\", \"2022-05-10T15:10:38.713563\", \"2022-05-10T15:11:42.971886\", \"2022-05-10T15:12:47.058765\", \"2022-05-10T15:13:51.824681\", \"2022-05-10T15:14:56.402917\", \"2022-05-10T15:16:00.798661\", \"2022-05-10T15:17:05.210242\", \"2022-05-10T15:18:11.263113\", \"2022-05-10T15:19:15.783566\", \"2022-05-10T15:20:19.976353\", \"2022-05-10T15:21:24.919616\", \"2022-05-10T15:22:30.147188\", \"2022-05-10T15:23:34.273455\", \"2022-05-10T15:24:38.378227\", \"2022-05-10T15:25:42.600220\", \"2022-05-10T15:26:46.596404\", \"2022-05-10T15:27:50.778444\", \"2022-05-10T15:28:55.043600\", \"2022-05-10T15:29:59.721707\", \"2022-05-10T15:31:04.248684\", \"2022-05-10T15:32:08.952879\", \"2022-05-10T15:33:13.786181\"], \"y\": [127.5, 133.5, 124.5, 111.0, 111.0, 78.0, 66.0, 72.0, 85.5, 76.5, -3.0, -6.0, 12.0, 0.0, -21.0, -37.5, -48.0, -57.0, -40.5, -27.0, -28.5, -63.0, -84.0, -76.5, -84.0, -67.5, -79.5, -79.5, -147.0, -138.0, -144.0, -147.0, -160.5, -156.0, -124.5, -108.0, -118.5, -124.5, -120.0, -130.5, -135.0, -153.0, -148.5, -126.0, -151.5, -148.5, -154.5, -157.5, -157.5, -150.0, -160.5, -168.0, -174.0, -159.0, -142.5, -130.5, -139.5, -139.5]}, {\"mode\": \"lines\", \"name\": \"IRCON\", \"type\": \"scatter\", \"x\": [\"2022-05-10T11:13:14.762558\", \"2022-05-10T11:14:19.342269\", \"2022-05-10T11:22:37.943811\", \"2022-05-10T11:23:42.444221\", \"2022-05-10T11:24:46.718897\", \"2022-05-10T11:25:51.184320\", \"2022-05-10T11:26:55.719656\", \"2022-05-10T11:28:00.270737\", \"2022-05-10T11:29:05.070881\", \"2022-05-10T11:30:10.270252\", \"2022-05-10T14:42:32.664593\", \"2022-05-10T14:43:36.898971\", \"2022-05-10T14:44:41.315689\", \"2022-05-10T14:45:45.578694\", \"2022-05-10T14:46:49.732855\", \"2022-05-10T14:47:53.929201\", \"2022-05-10T14:48:58.165982\", \"2022-05-10T14:50:02.354285\", \"2022-05-10T14:51:13.201614\", \"2022-05-10T14:52:18.556854\", \"2022-05-10T14:53:22.884115\", \"2022-05-10T14:54:27.776254\", \"2022-05-10T14:55:32.383735\", \"2022-05-10T14:56:36.557819\", \"2022-05-10T14:57:40.777528\", \"2022-05-10T14:58:45.055561\", \"2022-05-10T14:59:49.160547\", \"2022-05-10T15:00:53.207745\", \"2022-05-10T15:01:57.723282\", \"2022-05-10T15:03:01.826530\", \"2022-05-10T15:04:06.153297\", \"2022-05-10T15:05:10.362052\", \"2022-05-10T15:06:15.224527\", \"2022-05-10T15:07:19.600637\", \"2022-05-10T15:08:23.695148\", \"2022-05-10T15:09:27.722250\", \"2022-05-10T15:10:38.713563\", \"2022-05-10T15:11:42.971886\", \"2022-05-10T15:12:47.058765\", \"2022-05-10T15:13:51.824681\", \"2022-05-10T15:14:56.402917\", \"2022-05-10T15:16:00.798661\", \"2022-05-10T15:17:05.210242\", \"2022-05-10T15:18:11.263113\", \"2022-05-10T15:19:15.783566\", \"2022-05-10T15:20:19.976353\", \"2022-05-10T15:21:24.919616\", \"2022-05-10T15:22:30.147188\", \"2022-05-10T15:23:34.273455\", \"2022-05-10T15:24:38.378227\", \"2022-05-10T15:25:42.600220\", \"2022-05-10T15:26:46.596404\", \"2022-05-10T15:27:50.778444\", \"2022-05-10T15:28:55.043600\", \"2022-05-10T15:29:59.721707\", \"2022-05-10T15:31:04.248684\", \"2022-05-10T15:32:08.952879\", \"2022-05-10T15:33:13.786181\"], \"y\": [50.0, 39.99999999999909, 59.99999999999909, 59.99999999999909, 59.99999999999909, 59.99999999999909, 39.99999999999909, 59.99999999999909, 50.0, 50.0, 29.99999999999909, 29.99999999999909, 29.99999999999909, 39.99999999999909, 9.99999999999909, 19.99999999999818, 19.99999999999818, 9.99999999999909, 29.99999999999909, 39.99999999999909, 39.99999999999909, 39.99999999999909, 29.99999999999909, 29.99999999999909, 29.99999999999909, 9.99999999999909, 0.0, -10.00000000000091, 0.0, -10.00000000000091, -10.00000000000091, 9.99999999999909, 29.99999999999909, 9.99999999999909, 19.99999999999818, 19.99999999999818, 19.99999999999818, 29.99999999999909, 29.99999999999909, 19.99999999999818, 19.99999999999818, 29.99999999999909, 19.99999999999818, 50.0, 19.99999999999818, 29.99999999999909, 19.99999999999818, 29.99999999999909, 29.99999999999909, 9.99999999999909, 9.99999999999909, 9.99999999999909, 19.99999999999818, -10.00000000000091, 9.99999999999909, 0.0, 9.99999999999909, 9.99999999999909]}, {\"mode\": \"lines\", \"name\": \"AMARAJABAT\", \"type\": \"scatter\", \"x\": [\"2022-05-10T11:13:14.762558\", \"2022-05-10T11:14:19.342269\", \"2022-05-10T11:22:37.943811\", \"2022-05-10T11:23:42.444221\", \"2022-05-10T11:24:46.718897\", \"2022-05-10T11:25:51.184320\", \"2022-05-10T11:26:55.719656\", \"2022-05-10T11:28:00.270737\", \"2022-05-10T11:29:05.070881\", \"2022-05-10T11:30:10.270252\", \"2022-05-10T14:42:32.664593\", \"2022-05-10T14:43:36.898971\", \"2022-05-10T14:44:41.315689\", \"2022-05-10T14:45:45.578694\", \"2022-05-10T14:46:49.732855\", \"2022-05-10T14:47:53.929201\", \"2022-05-10T14:48:58.165982\", \"2022-05-10T14:50:02.354285\", \"2022-05-10T14:51:13.201614\", \"2022-05-10T14:52:18.556854\", \"2022-05-10T14:53:22.884115\", \"2022-05-10T14:54:27.776254\", \"2022-05-10T14:55:32.383735\", \"2022-05-10T14:56:36.557819\", \"2022-05-10T14:57:40.777528\", \"2022-05-10T14:58:45.055561\", \"2022-05-10T14:59:49.160547\", \"2022-05-10T15:00:53.207745\", \"2022-05-10T15:01:57.723282\", \"2022-05-10T15:03:01.826530\", \"2022-05-10T15:04:06.153297\", \"2022-05-10T15:05:10.362052\", \"2022-05-10T15:06:15.224527\", \"2022-05-10T15:07:19.600637\", \"2022-05-10T15:08:23.695148\", \"2022-05-10T15:09:27.722250\", \"2022-05-10T15:10:38.713563\", \"2022-05-10T15:11:42.971886\", \"2022-05-10T15:12:47.058765\", \"2022-05-10T15:13:51.824681\", \"2022-05-10T15:14:56.402917\", \"2022-05-10T15:16:00.798661\", \"2022-05-10T15:17:05.210242\", \"2022-05-10T15:18:11.263113\", \"2022-05-10T15:19:15.783566\", \"2022-05-10T15:20:19.976353\", \"2022-05-10T15:21:24.919616\", \"2022-05-10T15:22:30.147188\", \"2022-05-10T15:23:34.273455\", \"2022-05-10T15:24:38.378227\", \"2022-05-10T15:25:42.600220\", \"2022-05-10T15:26:46.596404\", \"2022-05-10T15:27:50.778444\", \"2022-05-10T15:28:55.043600\", \"2022-05-10T15:29:59.721707\", \"2022-05-10T15:31:04.248684\", \"2022-05-10T15:32:08.952879\", \"2022-05-10T15:33:13.786181\"], \"y\": [36.79999999999927, 39.19999999999891, 39.19999999999891, 32.0, 28.0, 21.599999999998545, 16.0, 8.0, 4.799999999999272, 5.599999999998545, -31.200000000000728, -40.80000000000109, -43.20000000000073, -43.20000000000073, -45.600000000000364, -60.80000000000109, -67.20000000000073, -71.20000000000073, -62.400000000001455, -67.20000000000073, -66.40000000000146, -67.20000000000073, -86.40000000000146, -96.80000000000109, -91.20000000000073, -99.20000000000073, -104.80000000000109, -91.20000000000073, -107.20000000000073, -111.20000000000073, -108.80000000000109, -104.0, -118.40000000000146, -130.40000000000146, -123.20000000000073, -119.20000000000073, -118.40000000000146, -121.60000000000036, -118.40000000000146, -120.80000000000109, -116.0, -108.80000000000109, -101.60000000000036, -105.60000000000036, -107.20000000000073, -105.60000000000036, -107.20000000000073, -111.20000000000073, -115.20000000000073, -122.40000000000146, -134.40000000000146, -130.40000000000146, -125.60000000000036, -124.0, -126.40000000000146, -124.80000000000109, -116.0, -116.0]}, {\"mode\": \"lines\", \"name\": \"ENDURANCE\", \"type\": \"scatter\", \"x\": [\"2022-05-10T11:13:14.762558\", \"2022-05-10T11:14:19.342269\", \"2022-05-10T11:22:37.943811\", \"2022-05-10T11:23:42.444221\", \"2022-05-10T11:24:46.718897\", \"2022-05-10T11:25:51.184320\", \"2022-05-10T11:26:55.719656\", \"2022-05-10T11:28:00.270737\", \"2022-05-10T11:29:05.070881\", \"2022-05-10T11:30:10.270252\", \"2022-05-10T14:42:32.664593\", \"2022-05-10T14:43:36.898971\", \"2022-05-10T14:44:41.315689\", \"2022-05-10T14:45:45.578694\", \"2022-05-10T14:46:49.732855\", \"2022-05-10T14:47:53.929201\", \"2022-05-10T14:48:58.165982\", \"2022-05-10T14:50:02.354285\", \"2022-05-10T14:51:13.201614\", \"2022-05-10T14:52:18.556854\", \"2022-05-10T14:53:22.884115\", \"2022-05-10T14:54:27.776254\", \"2022-05-10T14:55:32.383735\", \"2022-05-10T14:56:36.557819\", \"2022-05-10T14:57:40.777528\", \"2022-05-10T14:58:45.055561\", \"2022-05-10T14:59:49.160547\", \"2022-05-10T15:00:53.207745\", \"2022-05-10T15:01:57.723282\", \"2022-05-10T15:03:01.826530\", \"2022-05-10T15:04:06.153297\", \"2022-05-10T15:05:10.362052\", \"2022-05-10T15:06:15.224527\", \"2022-05-10T15:07:19.600637\", \"2022-05-10T15:08:23.695148\", \"2022-05-10T15:09:27.722250\", \"2022-05-10T15:10:38.713563\", \"2022-05-10T15:11:42.971886\", \"2022-05-10T15:12:47.058765\", \"2022-05-10T15:13:51.824681\", \"2022-05-10T15:14:56.402917\", \"2022-05-10T15:16:00.798661\", \"2022-05-10T15:17:05.210242\", \"2022-05-10T15:18:11.263113\", \"2022-05-10T15:19:15.783566\", \"2022-05-10T15:20:19.976353\", \"2022-05-10T15:21:24.919616\", \"2022-05-10T15:22:30.147188\", \"2022-05-10T15:23:34.273455\", \"2022-05-10T15:24:38.378227\", \"2022-05-10T15:25:42.600220\", \"2022-05-10T15:26:46.596404\", \"2022-05-10T15:27:50.778444\", \"2022-05-10T15:28:55.043600\", \"2022-05-10T15:29:59.721707\", \"2022-05-10T15:31:04.248684\", \"2022-05-10T15:32:08.952879\", \"2022-05-10T15:33:13.786181\"], \"y\": [-86.80000000000109, -89.25, -113.05000000000109, -116.20000000000164, -118.30000000000109, -79.45000000000164, -57.400000000000546, -81.20000000000164, -66.15000000000055, -72.80000000000109, 44.099999999998545, 15.049999999999272, 23.44999999999891, 11.199999999998909, 11.199999999998909, 11.199999999998909, 11.199999999998909, 20.649999999997817, 23.44999999999891, 41.64999999999782, 27.649999999997817, 16.44999999999891, 11.199999999998909, 8.75, -0.7000000000007276, -5.25, -16.450000000000728, 9.449999999998909, -16.80000000000109, -1.4000000000014552, -3.150000000001455, -23.80000000000109, 11.199999999998909, 28.349999999998545, 10.149999999997817, -5.25, 11.199999999998909, 10.5, -13.300000000001091, -16.80000000000109, 18.19999999999891, 25.899999999997817, 11.199999999998909, 9.799999999999272, -2.8000000000010914, 11.199999999998909, 16.099999999998545, 17.849999999998545, 5.599999999998545, 14.699999999998909, 11.199999999998909, 11.199999999998909, 11.199999999998909, 11.199999999998909, 24.849999999998545, 24.849999999998545, 0.3499999999985448, 0.3499999999985448]}, {\"mode\": \"lines\", \"name\": \"BARBEQUE\", \"type\": \"scatter\", \"x\": [\"2022-05-10T11:13:14.762558\", \"2022-05-10T11:14:19.342269\", \"2022-05-10T11:22:37.943811\", \"2022-05-10T11:23:42.444221\", \"2022-05-10T11:24:46.718897\", \"2022-05-10T11:25:51.184320\", \"2022-05-10T11:26:55.719656\", \"2022-05-10T11:28:00.270737\", \"2022-05-10T11:29:05.070881\", \"2022-05-10T11:30:10.270252\", \"2022-05-10T14:42:32.664593\", \"2022-05-10T14:43:36.898971\", \"2022-05-10T14:44:41.315689\", \"2022-05-10T14:45:45.578694\", \"2022-05-10T14:46:49.732855\", \"2022-05-10T14:47:53.929201\", \"2022-05-10T14:48:58.165982\", \"2022-05-10T14:50:02.354285\", \"2022-05-10T14:51:13.201614\", \"2022-05-10T14:52:18.556854\", \"2022-05-10T14:53:22.884115\", \"2022-05-10T14:54:27.776254\", \"2022-05-10T14:55:32.383735\", \"2022-05-10T14:56:36.557819\", \"2022-05-10T14:57:40.777528\", \"2022-05-10T14:58:45.055561\", \"2022-05-10T14:59:49.160547\", \"2022-05-10T15:00:53.207745\", \"2022-05-10T15:01:57.723282\", \"2022-05-10T15:03:01.826530\", \"2022-05-10T15:04:06.153297\", \"2022-05-10T15:05:10.362052\", \"2022-05-10T15:06:15.224527\", \"2022-05-10T15:07:19.600637\", \"2022-05-10T15:08:23.695148\", \"2022-05-10T15:09:27.722250\", \"2022-05-10T15:10:38.713563\", \"2022-05-10T15:11:42.971886\", \"2022-05-10T15:12:47.058765\", \"2022-05-10T15:13:51.824681\", \"2022-05-10T15:14:56.402917\", \"2022-05-10T15:16:00.798661\", \"2022-05-10T15:17:05.210242\", \"2022-05-10T15:18:11.263113\", \"2022-05-10T15:19:15.783566\", \"2022-05-10T15:20:19.976353\", \"2022-05-10T15:21:24.919616\", \"2022-05-10T15:22:30.147188\", \"2022-05-10T15:23:34.273455\", \"2022-05-10T15:24:38.378227\", \"2022-05-10T15:25:42.600220\", \"2022-05-10T15:26:46.596404\", \"2022-05-10T15:27:50.778444\", \"2022-05-10T15:28:55.043600\", \"2022-05-10T15:29:59.721707\", \"2022-05-10T15:31:04.248684\", \"2022-05-10T15:32:08.952879\", \"2022-05-10T15:33:13.786181\"], \"y\": [-367.0, -381.5, -352.5, -354.0, -364.0, -362.5, -364.0, -358.0, -371.5, -363.5, -612.0, -611.0, -611.0, -616.0, -609.5, -619.0, -612.0, -613.0, -616.5, -611.0, -611.5, -620.0, -611.5, -612.5, -611.5, -611.0, -582.5, -586.5, -602.0, -611.5, -601.5, -611.5, -620.0, -631.0, -631.5, -620.5, -621.5, -621.5, -613.0, -630.0, -631.5, -616.0, -621.0, -601.5, -621.0, -621.0, -621.5, -615.5, -621.0, -498.0, -717.0, -630.5, -595.5, -603.0, -600.0, -605.0, -620.0, -620.0]}, {\"mode\": \"lines\", \"name\": \"JKLAKSHMI\", \"type\": \"scatter\", \"x\": [\"2022-05-10T11:13:14.762558\", \"2022-05-10T11:14:19.342269\", \"2022-05-10T11:22:37.943811\", \"2022-05-10T11:23:42.444221\", \"2022-05-10T11:24:46.718897\", \"2022-05-10T11:25:51.184320\", \"2022-05-10T11:26:55.719656\", \"2022-05-10T11:28:00.270737\", \"2022-05-10T11:29:05.070881\", \"2022-05-10T11:30:10.270252\", \"2022-05-10T14:42:32.664593\", \"2022-05-10T14:43:36.898971\", \"2022-05-10T14:44:41.315689\", \"2022-05-10T14:45:45.578694\", \"2022-05-10T14:46:49.732855\", \"2022-05-10T14:47:53.929201\", \"2022-05-10T14:48:58.165982\", \"2022-05-10T14:50:02.354285\", \"2022-05-10T14:51:13.201614\", \"2022-05-10T14:52:18.556854\", \"2022-05-10T14:53:22.884115\", \"2022-05-10T14:54:27.776254\", \"2022-05-10T14:55:32.383735\", \"2022-05-10T14:56:36.557819\", \"2022-05-10T14:57:40.777528\", \"2022-05-10T14:58:45.055561\", \"2022-05-10T14:59:49.160547\", \"2022-05-10T15:00:53.207745\", \"2022-05-10T15:01:57.723282\", \"2022-05-10T15:03:01.826530\", \"2022-05-10T15:04:06.153297\", \"2022-05-10T15:05:10.362052\", \"2022-05-10T15:06:15.224527\", \"2022-05-10T15:07:19.600637\", \"2022-05-10T15:08:23.695148\", \"2022-05-10T15:09:27.722250\", \"2022-05-10T15:10:38.713563\", \"2022-05-10T15:11:42.971886\", \"2022-05-10T15:12:47.058765\", \"2022-05-10T15:13:51.824681\", \"2022-05-10T15:14:56.402917\", \"2022-05-10T15:16:00.798661\", \"2022-05-10T15:17:05.210242\", \"2022-05-10T15:18:11.263113\", \"2022-05-10T15:19:15.783566\", \"2022-05-10T15:20:19.976353\", \"2022-05-10T15:21:24.919616\", \"2022-05-10T15:22:30.147188\", \"2022-05-10T15:23:34.273455\", \"2022-05-10T15:24:38.378227\", \"2022-05-10T15:25:42.600220\", \"2022-05-10T15:26:46.596404\", \"2022-05-10T15:27:50.778444\", \"2022-05-10T15:28:55.043600\", \"2022-05-10T15:29:59.721707\", \"2022-05-10T15:31:04.248684\", \"2022-05-10T15:32:08.952879\", \"2022-05-10T15:33:13.786181\"], \"y\": [-8.0, -8.0, -10.0, -16.0, -19.0, -12.0, -12.0, -19.0, -19.0, -19.0, -57.0, -45.0, -45.0, -57.0, -57.0, -57.0, -58.0, -57.0, -58.0, -71.0, -75.0, -74.0, -70.0, -80.0, -86.0, -90.0, -98.0, -79.0, -76.0, -82.0, -79.0, -34.0, -54.0, -82.0, -97.0, -80.0, -91.0, -99.0, -96.0, -96.0, -97.0, -82.0, -82.0, -89.0, -100.0, -98.0, -224.0, -203.0, -220.0, -230.0, -205.0, -240.0, -256.0, -246.0, -180.0, -180.0, -170.0, -170.0]}, {\"mode\": \"lines\", \"name\": \"HDFCBANK\", \"type\": \"scatter\", \"x\": [\"2022-05-10T11:13:14.762558\", \"2022-05-10T11:14:19.342269\", \"2022-05-10T11:22:37.943811\", \"2022-05-10T11:23:42.444221\", \"2022-05-10T11:24:46.718897\", \"2022-05-10T11:25:51.184320\", \"2022-05-10T11:26:55.719656\", \"2022-05-10T11:28:00.270737\", \"2022-05-10T11:29:05.070881\", \"2022-05-10T11:30:10.270252\", \"2022-05-10T14:42:32.664593\", \"2022-05-10T14:43:36.898971\", \"2022-05-10T14:44:41.315689\", \"2022-05-10T14:45:45.578694\", \"2022-05-10T14:46:49.732855\", \"2022-05-10T14:47:53.929201\", \"2022-05-10T14:48:58.165982\", \"2022-05-10T14:50:02.354285\", \"2022-05-10T14:51:13.201614\", \"2022-05-10T14:52:18.556854\", \"2022-05-10T14:53:22.884115\", \"2022-05-10T14:54:27.776254\", \"2022-05-10T14:55:32.383735\", \"2022-05-10T14:56:36.557819\", \"2022-05-10T14:57:40.777528\", \"2022-05-10T14:58:45.055561\", \"2022-05-10T14:59:49.160547\", \"2022-05-10T15:00:53.207745\", \"2022-05-10T15:01:57.723282\", \"2022-05-10T15:03:01.826530\", \"2022-05-10T15:04:06.153297\", \"2022-05-10T15:05:10.362052\", \"2022-05-10T15:06:15.224527\", \"2022-05-10T15:07:19.600637\", \"2022-05-10T15:08:23.695148\", \"2022-05-10T15:09:27.722250\", \"2022-05-10T15:10:38.713563\", \"2022-05-10T15:11:42.971886\", \"2022-05-10T15:12:47.058765\", \"2022-05-10T15:13:51.824681\", \"2022-05-10T15:14:56.402917\", \"2022-05-10T15:16:00.798661\", \"2022-05-10T15:17:05.210242\", \"2022-05-10T15:18:11.263113\", \"2022-05-10T15:19:15.783566\", \"2022-05-10T15:20:19.976353\", \"2022-05-10T15:21:24.919616\", \"2022-05-10T15:22:30.147188\", \"2022-05-10T15:23:34.273455\", \"2022-05-10T15:24:38.378227\", \"2022-05-10T15:25:42.600220\", \"2022-05-10T15:26:46.596404\", \"2022-05-10T15:27:50.778444\", \"2022-05-10T15:28:55.043600\", \"2022-05-10T15:29:59.721707\", \"2022-05-10T15:31:04.248684\", \"2022-05-10T15:32:08.952879\", \"2022-05-10T15:33:13.786181\"], \"y\": [132.0, 129.0, 162.0, 136.5, 156.0, 152.25, 154.5, 155.25, 159.75, 144.0, 423.75, 435.0, 435.0, 427.5, 423.0, 404.25, 399.0, 399.0, 408.75, 409.5, 411.0, 396.75, 345.0, 363.75, 348.75, 355.5, 354.0, 361.5, 303.75, 318.0, 328.5, 320.25, 311.25, 287.25, 333.0, 354.0, 333.0, 329.25, 334.5, 323.25, 302.25, 306.75, 303.0, 303.75, 310.5, 317.25, 312.0, 330.0, 317.25, 331.5, 323.25, 307.5, 308.25, 293.25, 287.25, 287.25, 318.0, 318.0]}, {\"mode\": \"lines\", \"name\": \"PVR\", \"type\": \"scatter\", \"x\": [\"2022-05-10T11:13:14.762558\", \"2022-05-10T11:14:19.342269\", \"2022-05-10T11:22:37.943811\", \"2022-05-10T11:23:42.444221\", \"2022-05-10T11:24:46.718897\", \"2022-05-10T11:25:51.184320\", \"2022-05-10T11:26:55.719656\", \"2022-05-10T11:28:00.270737\", \"2022-05-10T11:29:05.070881\", \"2022-05-10T11:30:10.270252\", \"2022-05-10T14:42:32.664593\", \"2022-05-10T14:43:36.898971\", \"2022-05-10T14:44:41.315689\", \"2022-05-10T14:45:45.578694\", \"2022-05-10T14:46:49.732855\", \"2022-05-10T14:47:53.929201\", \"2022-05-10T14:48:58.165982\", \"2022-05-10T14:50:02.354285\", \"2022-05-10T14:51:13.201614\", \"2022-05-10T14:52:18.556854\", \"2022-05-10T14:53:22.884115\", \"2022-05-10T14:54:27.776254\", \"2022-05-10T14:55:32.383735\", \"2022-05-10T14:56:36.557819\", \"2022-05-10T14:57:40.777528\", \"2022-05-10T14:58:45.055561\", \"2022-05-10T14:59:49.160547\", \"2022-05-10T15:00:53.207745\", \"2022-05-10T15:01:57.723282\", \"2022-05-10T15:03:01.826530\", \"2022-05-10T15:04:06.153297\", \"2022-05-10T15:05:10.362052\", \"2022-05-10T15:06:15.224527\", \"2022-05-10T15:07:19.600637\", \"2022-05-10T15:08:23.695148\", \"2022-05-10T15:09:27.722250\", \"2022-05-10T15:10:38.713563\", \"2022-05-10T15:11:42.971886\", \"2022-05-10T15:12:47.058765\", \"2022-05-10T15:13:51.824681\", \"2022-05-10T15:14:56.402917\", \"2022-05-10T15:16:00.798661\", \"2022-05-10T15:17:05.210242\", \"2022-05-10T15:18:11.263113\", \"2022-05-10T15:19:15.783566\", \"2022-05-10T15:20:19.976353\", \"2022-05-10T15:21:24.919616\", \"2022-05-10T15:22:30.147188\", \"2022-05-10T15:23:34.273455\", \"2022-05-10T15:24:38.378227\", \"2022-05-10T15:25:42.600220\", \"2022-05-10T15:26:46.596404\", \"2022-05-10T15:27:50.778444\", \"2022-05-10T15:28:55.043600\", \"2022-05-10T15:29:59.721707\", \"2022-05-10T15:31:04.248684\", \"2022-05-10T15:32:08.952879\", \"2022-05-10T15:33:13.786181\"], \"y\": [688.0499999999993, 662.3999999999996, 566.0999999999985, 542.25, 544.0499999999993, 549.0, 531.8999999999996, 527.8499999999985, 531.8999999999996, 540.8999999999996, 662.3999999999996, 666.0, 657.8999999999996, 650.7000000000007, 646.6499999999996, 641.25, 630.8999999999996, 602.0999999999985, 639.8999999999996, 655.2000000000007, 652.9500000000007, 641.7000000000007, 625.5, 643.5, 603.8999999999996, 603.8999999999996, 619.2000000000007, 603.8999999999996, 583.2000000000007, 593.0999999999985, 587.7000000000007, 576.8999999999996, 563.8499999999985, 552.1499999999996, 565.2000000000007, 597.1499999999996, 608.8499999999985, 612.8999999999996, 558.0, 531.8999999999996, 603.8999999999996, 608.8499999999985, 595.3499999999985, 634.5, 646.2000000000007, 625.9500000000007, 639.4500000000007, 629.5499999999993, 589.0499999999993, 585.0, 596.25, 566.5499999999993, 573.75, 602.0999999999985, 612.8999999999996, 594.8999999999996, 597.1499999999996, 597.1499999999996]}, {\"mode\": \"lines\", \"name\": \"SWSOLAR\", \"type\": \"scatter\", \"x\": [\"2022-05-10T11:13:14.762558\", \"2022-05-10T11:14:19.342269\", \"2022-05-10T11:22:37.943811\", \"2022-05-10T11:23:42.444221\", \"2022-05-10T11:24:46.718897\", \"2022-05-10T11:25:51.184320\", \"2022-05-10T11:26:55.719656\", \"2022-05-10T11:28:00.270737\", \"2022-05-10T11:29:05.070881\", \"2022-05-10T11:30:10.270252\", \"2022-05-10T14:42:32.664593\", \"2022-05-10T14:43:36.898971\", \"2022-05-10T14:44:41.315689\", \"2022-05-10T14:45:45.578694\", \"2022-05-10T14:46:49.732855\", \"2022-05-10T14:47:53.929201\", \"2022-05-10T14:48:58.165982\", \"2022-05-10T14:50:02.354285\", \"2022-05-10T14:51:13.201614\", \"2022-05-10T14:52:18.556854\", \"2022-05-10T14:53:22.884115\", \"2022-05-10T14:54:27.776254\", \"2022-05-10T14:55:32.383735\", \"2022-05-10T14:56:36.557819\", \"2022-05-10T14:57:40.777528\", \"2022-05-10T14:58:45.055561\", \"2022-05-10T14:59:49.160547\", \"2022-05-10T15:00:53.207745\", \"2022-05-10T15:01:57.723282\", \"2022-05-10T15:03:01.826530\", \"2022-05-10T15:04:06.153297\", \"2022-05-10T15:05:10.362052\", \"2022-05-10T15:06:15.224527\", \"2022-05-10T15:07:19.600637\", \"2022-05-10T15:08:23.695148\", \"2022-05-10T15:09:27.722250\", \"2022-05-10T15:10:38.713563\", \"2022-05-10T15:11:42.971886\", \"2022-05-10T15:12:47.058765\", \"2022-05-10T15:13:51.824681\", \"2022-05-10T15:14:56.402917\", \"2022-05-10T15:16:00.798661\", \"2022-05-10T15:17:05.210242\", \"2022-05-10T15:18:11.263113\", \"2022-05-10T15:19:15.783566\", \"2022-05-10T15:20:19.976353\", \"2022-05-10T15:21:24.919616\", \"2022-05-10T15:22:30.147188\", \"2022-05-10T15:23:34.273455\", \"2022-05-10T15:24:38.378227\", \"2022-05-10T15:25:42.600220\", \"2022-05-10T15:26:46.596404\", \"2022-05-10T15:27:50.778444\", \"2022-05-10T15:28:55.043600\", \"2022-05-10T15:29:59.721707\", \"2022-05-10T15:31:04.248684\", \"2022-05-10T15:32:08.952879\", \"2022-05-10T15:33:13.786181\"], \"y\": [-53.75, -53.75, -40.0, -40.0, -47.5, -48.75, -45.0, -45.0, -41.25, -32.5, -95.0, -95.0, -95.0, -88.75, -91.25, -91.25, -113.75, -125.0, -126.25, -126.25, -146.25, -151.25, -143.75, -142.5, -162.5, -150.0, -176.25, -175.0, -176.25, -195.0, -188.75, -197.5, -198.75, -200.0, -200.0, -195.0, -138.75, -152.5, -152.5, -162.5, -187.5, -176.25, -175.0, -176.25, -178.75, -200.0, -193.75, -200.0, -285.0, -310.0, -288.75, -275.0, -291.25, -301.25, -307.5, -310.0, -213.75, -213.75]}, {\"marker\": {\"color\": \"indianred\"}, \"name\": \"--Today--\", \"type\": \"bar\", \"x\": [\"2022-05-10T11:13:14.762558\", \"2022-05-10T11:14:19.342269\", \"2022-05-10T15:28:55.043600\", \"2022-05-10T15:29:59.721707\", \"2022-05-10T15:31:04.248684\", \"2022-05-10T15:32:08.952879\", \"2022-05-10T15:33:13.786181\"], \"y\": [204.29999999999654, 197.14999999999782, -1346.1500000000024, -1199.2000000000035, -1221.1000000000022, -1003.8500000000022, -1003.8500000000022]}],                        {\"template\": {\"data\": {\"bar\": [{\"error_x\": {\"color\": \"#2a3f5f\"}, \"error_y\": {\"color\": \"#2a3f5f\"}, \"marker\": {\"line\": {\"color\": \"#E5ECF6\", \"width\": 0.5}}, \"type\": \"bar\"}], \"barpolar\": [{\"marker\": {\"line\": {\"color\": \"#E5ECF6\", \"width\": 0.5}}, \"type\": \"barpolar\"}], \"carpet\": [{\"aaxis\": {\"endlinecolor\": \"#2a3f5f\", \"gridcolor\": \"white\", \"linecolor\": \"white\", \"minorgridcolor\": \"white\", \"startlinecolor\": \"#2a3f5f\"}, \"baxis\": {\"endlinecolor\": \"#2a3f5f\", \"gridcolor\": \"white\", \"linecolor\": \"white\", \"minorgridcolor\": \"white\", \"startlinecolor\": \"#2a3f5f\"}, \"type\": \"carpet\"}], \"choropleth\": [{\"colorbar\": {\"outlinewidth\": 0, \"ticks\": \"\"}, \"type\": \"choropleth\"}], \"contour\": [{\"colorbar\": {\"outlinewidth\": 0, \"ticks\": \"\"}, \"colorscale\": [[0.0, \"#0d0887\"], [0.1111111111111111, \"#46039f\"], [0.2222222222222222, \"#7201a8\"], [0.3333333333333333, \"#9c179e\"], [0.4444444444444444, \"#bd3786\"], [0.5555555555555556, \"#d8576b\"], [0.6666666666666666, \"#ed7953\"], [0.7777777777777778, \"#fb9f3a\"], [0.8888888888888888, \"#fdca26\"], [1.0, \"#f0f921\"]], \"type\": \"contour\"}], \"contourcarpet\": [{\"colorbar\": {\"outlinewidth\": 0, \"ticks\": \"\"}, \"type\": \"contourcarpet\"}], \"heatmap\": [{\"colorbar\": {\"outlinewidth\": 0, \"ticks\": \"\"}, \"colorscale\": [[0.0, \"#0d0887\"], [0.1111111111111111, \"#46039f\"], [0.2222222222222222, \"#7201a8\"], [0.3333333333333333, \"#9c179e\"], [0.4444444444444444, \"#bd3786\"], [0.5555555555555556, \"#d8576b\"], [0.6666666666666666, \"#ed7953\"], [0.7777777777777778, \"#fb9f3a\"], [0.8888888888888888, \"#fdca26\"], [1.0, \"#f0f921\"]], \"type\": \"heatmap\"}], \"heatmapgl\": [{\"colorbar\": {\"outlinewidth\": 0, \"ticks\": \"\"}, \"colorscale\": [[0.0, \"#0d0887\"], [0.1111111111111111, \"#46039f\"], [0.2222222222222222, \"#7201a8\"], [0.3333333333333333, \"#9c179e\"], [0.4444444444444444, \"#bd3786\"], [0.5555555555555556, \"#d8576b\"], [0.6666666666666666, \"#ed7953\"], [0.7777777777777778, \"#fb9f3a\"], [0.8888888888888888, \"#fdca26\"], [1.0, \"#f0f921\"]], \"type\": \"heatmapgl\"}], \"histogram\": [{\"marker\": {\"colorbar\": {\"outlinewidth\": 0, \"ticks\": \"\"}}, \"type\": \"histogram\"}], \"histogram2d\": [{\"colorbar\": {\"outlinewidth\": 0, \"ticks\": \"\"}, \"colorscale\": [[0.0, \"#0d0887\"], [0.1111111111111111, \"#46039f\"], [0.2222222222222222, \"#7201a8\"], [0.3333333333333333, \"#9c179e\"], [0.4444444444444444, \"#bd3786\"], [0.5555555555555556, \"#d8576b\"], [0.6666666666666666, \"#ed7953\"], [0.7777777777777778, \"#fb9f3a\"], [0.8888888888888888, \"#fdca26\"], [1.0, \"#f0f921\"]], \"type\": \"histogram2d\"}], \"histogram2dcontour\": [{\"colorbar\": {\"outlinewidth\": 0, \"ticks\": \"\"}, \"colorscale\": [[0.0, \"#0d0887\"], [0.1111111111111111, \"#46039f\"], [0.2222222222222222, \"#7201a8\"], [0.3333333333333333, \"#9c179e\"], [0.4444444444444444, \"#bd3786\"], [0.5555555555555556, \"#d8576b\"], [0.6666666666666666, \"#ed7953\"], [0.7777777777777778, \"#fb9f3a\"], [0.8888888888888888, \"#fdca26\"], [1.0, \"#f0f921\"]], \"type\": \"histogram2dcontour\"}], \"mesh3d\": [{\"colorbar\": {\"outlinewidth\": 0, \"ticks\": \"\"}, \"type\": \"mesh3d\"}], \"parcoords\": [{\"line\": {\"colorbar\": {\"outlinewidth\": 0, \"ticks\": \"\"}}, \"type\": \"parcoords\"}], \"pie\": [{\"automargin\": true, \"type\": \"pie\"}], \"scatter\": [{\"marker\": {\"colorbar\": {\"outlinewidth\": 0, \"ticks\": \"\"}}, \"type\": \"scatter\"}], \"scatter3d\": [{\"line\": {\"colorbar\": {\"outlinewidth\": 0, \"ticks\": \"\"}}, \"marker\": {\"colorbar\": {\"outlinewidth\": 0, \"ticks\": \"\"}}, \"type\": \"scatter3d\"}], \"scattercarpet\": [{\"marker\": {\"colorbar\": {\"outlinewidth\": 0, \"ticks\": \"\"}}, \"type\": \"scattercarpet\"}], \"scattergeo\": [{\"marker\": {\"colorbar\": {\"outlinewidth\": 0, \"ticks\": \"\"}}, \"type\": \"scattergeo\"}], \"scattergl\": [{\"marker\": {\"colorbar\": {\"outlinewidth\": 0, \"ticks\": \"\"}}, \"type\": \"scattergl\"}], \"scattermapbox\": [{\"marker\": {\"colorbar\": {\"outlinewidth\": 0, \"ticks\": \"\"}}, \"type\": \"scattermapbox\"}], \"scatterpolar\": [{\"marker\": {\"colorbar\": {\"outlinewidth\": 0, \"ticks\": \"\"}}, \"type\": \"scatterpolar\"}], \"scatterpolargl\": [{\"marker\": {\"colorbar\": {\"outlinewidth\": 0, \"ticks\": \"\"}}, \"type\": \"scatterpolargl\"}], \"scatterternary\": [{\"marker\": {\"colorbar\": {\"outlinewidth\": 0, \"ticks\": \"\"}}, \"type\": \"scatterternary\"}], \"surface\": [{\"colorbar\": {\"outlinewidth\": 0, \"ticks\": \"\"}, \"colorscale\": [[0.0, \"#0d0887\"], [0.1111111111111111, \"#46039f\"], [0.2222222222222222, \"#7201a8\"], [0.3333333333333333, \"#9c179e\"], [0.4444444444444444, \"#bd3786\"], [0.5555555555555556, \"#d8576b\"], [0.6666666666666666, \"#ed7953\"], [0.7777777777777778, \"#fb9f3a\"], [0.8888888888888888, \"#fdca26\"], [1.0, \"#f0f921\"]], \"type\": \"surface\"}], \"table\": [{\"cells\": {\"fill\": {\"color\": \"#EBF0F8\"}, \"line\": {\"color\": \"white\"}}, \"header\": {\"fill\": {\"color\": \"#C8D4E3\"}, \"line\": {\"color\": \"white\"}}, \"type\": \"table\"}]}, \"layout\": {\"annotationdefaults\": {\"arrowcolor\": \"#2a3f5f\", \"arrowhead\": 0, \"arrowwidth\": 1}, \"autotypenumbers\": \"strict\", \"coloraxis\": {\"colorbar\": {\"outlinewidth\": 0, \"ticks\": \"\"}}, \"colorscale\": {\"diverging\": [[0, \"#8e0152\"], [0.1, \"#c51b7d\"], [0.2, \"#de77ae\"], [0.3, \"#f1b6da\"], [0.4, \"#fde0ef\"], [0.5, \"#f7f7f7\"], [0.6, \"#e6f5d0\"], [0.7, \"#b8e186\"], [0.8, \"#7fbc41\"], [0.9, \"#4d9221\"], [1, \"#276419\"]], \"sequential\": [[0.0, \"#0d0887\"], [0.1111111111111111, \"#46039f\"], [0.2222222222222222, \"#7201a8\"], [0.3333333333333333, \"#9c179e\"], [0.4444444444444444, \"#bd3786\"], [0.5555555555555556, \"#d8576b\"], [0.6666666666666666, \"#ed7953\"], [0.7777777777777778, \"#fb9f3a\"], [0.8888888888888888, \"#fdca26\"], [1.0, \"#f0f921\"]], \"sequentialminus\": [[0.0, \"#0d0887\"], [0.1111111111111111, \"#46039f\"], [0.2222222222222222, \"#7201a8\"], [0.3333333333333333, \"#9c179e\"], [0.4444444444444444, \"#bd3786\"], [0.5555555555555556, \"#d8576b\"], [0.6666666666666666, \"#ed7953\"], [0.7777777777777778, \"#fb9f3a\"], [0.8888888888888888, \"#fdca26\"], [1.0, \"#f0f921\"]]}, \"colorway\": [\"#636efa\", \"#EF553B\", \"#00cc96\", \"#ab63fa\", \"#FFA15A\", \"#19d3f3\", \"#FF6692\", \"#B6E880\", \"#FF97FF\", \"#FECB52\"], \"font\": {\"color\": \"#2a3f5f\"}, \"geo\": {\"bgcolor\": \"white\", \"lakecolor\": \"white\", \"landcolor\": \"#E5ECF6\", \"showlakes\": true, \"showland\": true, \"subunitcolor\": \"white\"}, \"hoverlabel\": {\"align\": \"left\"}, \"hovermode\": \"closest\", \"mapbox\": {\"style\": \"light\"}, \"paper_bgcolor\": \"white\", \"plot_bgcolor\": \"#E5ECF6\", \"polar\": {\"angularaxis\": {\"gridcolor\": \"white\", \"linecolor\": \"white\", \"ticks\": \"\"}, \"bgcolor\": \"#E5ECF6\", \"radialaxis\": {\"gridcolor\": \"white\", \"linecolor\": \"white\", \"ticks\": \"\"}}, \"scene\": {\"xaxis\": {\"backgroundcolor\": \"#E5ECF6\", \"gridcolor\": \"white\", \"gridwidth\": 2, \"linecolor\": \"white\", \"showbackground\": true, \"ticks\": \"\", \"zerolinecolor\": \"white\"}, \"yaxis\": {\"backgroundcolor\": \"#E5ECF6\", \"gridcolor\": \"white\", \"gridwidth\": 2, \"linecolor\": \"white\", \"showbackground\": true, \"ticks\": \"\", \"zerolinecolor\": \"white\"}, \"zaxis\": {\"backgroundcolor\": \"#E5ECF6\", \"gridcolor\": \"white\", \"gridwidth\": 2, \"linecolor\": \"white\", \"showbackground\": true, \"ticks\": \"\", \"zerolinecolor\": \"white\"}}, \"shapedefaults\": {\"line\": {\"color\": \"#2a3f5f\"}}, \"ternary\": {\"aaxis\": {\"gridcolor\": \"white\", \"linecolor\": \"white\", \"ticks\": \"\"}, \"baxis\": {\"gridcolor\": \"white\", \"linecolor\": \"white\", \"ticks\": \"\"}, \"bgcolor\": \"#E5ECF6\", \"caxis\": {\"gridcolor\": \"white\", \"linecolor\": \"white\", \"ticks\": \"\"}}, \"title\": {\"x\": 0.05}, \"xaxis\": {\"automargin\": true, \"gridcolor\": \"white\", \"linecolor\": \"white\", \"ticks\": \"\", \"title\": {\"standoff\": 15}, \"zerolinecolor\": \"white\", \"zerolinewidth\": 2}, \"yaxis\": {\"automargin\": true, \"gridcolor\": \"white\", \"linecolor\": \"white\", \"ticks\": \"\", \"title\": {\"standoff\": 15}, \"zerolinecolor\": \"white\", \"zerolinewidth\": 2}}}},                        {\"responsive\": true}                    ).then(function(){\n",
       "                            \n",
       "var gd = document.getElementById('89432e18-b582-489c-9eb0-40e5bc094c2e');\n",
       "var x = new MutationObserver(function (mutations, observer) {{\n",
       "        var display = window.getComputedStyle(gd).display;\n",
       "        if (!display || display === 'none') {{\n",
       "            console.log([gd, 'removed!']);\n",
       "            Plotly.purge(gd);\n",
       "            observer.disconnect();\n",
       "        }}\n",
       "}});\n",
       "\n",
       "// Listen for the removal of the full notebook cells\n",
       "var notebookContainer = gd.closest('#notebook-container');\n",
       "if (notebookContainer) {{\n",
       "    x.observe(notebookContainer, {childList: true});\n",
       "}}\n",
       "\n",
       "// Listen for the clearing of the current output cell\n",
       "var outputEl = gd.closest('.output');\n",
       "if (outputEl) {{\n",
       "    x.observe(outputEl, {childList: true});\n",
       "}}\n",
       "\n",
       "                        })                };                });            </script>        </div>"
      ]
     },
     "metadata": {},
     "output_type": "display_data"
    }
   ],
   "source": [
    "if('SYMBOL' in daily_time_line):\n",
    "    #daily_time_line['time'] = daily_time_line['load_time'].apply(lambda x: x.timestamp())\n",
    "    #daily_time_line['time'] = daily_time_line['load_time'].apply(lambda x: x.strftime('%H:%M'))\n",
    "    #daily_time_line['CHANGE'] = daily_time_line['MKT_VALUE'] - daily_time_line['INVESTMENT']\n",
    "    display_intraday_change(daily_time_line)"
   ]
  },
  {
   "cell_type": "code",
   "execution_count": 754,
   "metadata": {},
   "outputs": [
    {
     "data": {
      "application/javascript": [
       "Jupyter.notebook.execute_cells([5,6,7])"
      ],
      "text/plain": [
       "<IPython.core.display.Javascript object>"
      ]
     },
     "metadata": {},
     "output_type": "display_data"
    },
    {
     "data": {
      "text/plain": [
       "58.0"
      ]
     },
     "metadata": {},
     "output_type": "display_data"
    },
    {
     "name": "stdout",
     "output_type": "stream",
     "text": [
      "loading url  PNB https://priceapi.moneycontrol.com/techCharts/techChartController/history {'symbol': 'PNB', 'resolution': '1D', 'from': 1652090654, 'to': 1652177054}\n"
     ]
    },
    {
     "ename": "ConnectionError",
     "evalue": "HTTPSConnectionPool(host='priceapi.moneycontrol.com', port=443): Max retries exceeded with url: /techCharts/techChartController/history?symbol=PNB&resolution=1D&from=1652090654&to=1652177054 (Caused by NewConnectionError('<requests.packages.urllib3.connection.VerifiedHTTPSConnection object at 0x7fc227be6160>: Failed to establish a new connection: [Errno -3] Temporary failure in name resolution'))",
     "output_type": "error",
     "traceback": [
      "\u001b[0;31m---------------------------------------------------------------------------\u001b[0m",
      "\u001b[0;31mgaierror\u001b[0m                                  Traceback (most recent call last)",
      "File \u001b[0;32m~/.local/lib/python3.9/site-packages/requests/packages/urllib3/connection.py:140\u001b[0m, in \u001b[0;36mHTTPConnection._new_conn\u001b[0;34m(self)\u001b[0m\n\u001b[1;32m    139\u001b[0m \u001b[38;5;28;01mtry\u001b[39;00m:\n\u001b[0;32m--> 140\u001b[0m     conn \u001b[38;5;241m=\u001b[39m \u001b[43mconnection\u001b[49m\u001b[38;5;241;43m.\u001b[39;49m\u001b[43mcreate_connection\u001b[49m\u001b[43m(\u001b[49m\n\u001b[1;32m    141\u001b[0m \u001b[43m        \u001b[49m\u001b[43m(\u001b[49m\u001b[38;5;28;43mself\u001b[39;49m\u001b[38;5;241;43m.\u001b[39;49m\u001b[43mhost\u001b[49m\u001b[43m,\u001b[49m\u001b[43m \u001b[49m\u001b[38;5;28;43mself\u001b[39;49m\u001b[38;5;241;43m.\u001b[39;49m\u001b[43mport\u001b[49m\u001b[43m)\u001b[49m\u001b[43m,\u001b[49m\u001b[43m \u001b[49m\u001b[38;5;28;43mself\u001b[39;49m\u001b[38;5;241;43m.\u001b[39;49m\u001b[43mtimeout\u001b[49m\u001b[43m,\u001b[49m\u001b[43m \u001b[49m\u001b[38;5;241;43m*\u001b[39;49m\u001b[38;5;241;43m*\u001b[39;49m\u001b[43mextra_kw\u001b[49m\u001b[43m)\u001b[49m\n\u001b[1;32m    143\u001b[0m \u001b[38;5;28;01mexcept\u001b[39;00m SocketTimeout \u001b[38;5;28;01mas\u001b[39;00m e:\n",
      "File \u001b[0;32m~/.local/lib/python3.9/site-packages/requests/packages/urllib3/util/connection.py:60\u001b[0m, in \u001b[0;36mcreate_connection\u001b[0;34m(address, timeout, source_address, socket_options)\u001b[0m\n\u001b[1;32m     58\u001b[0m family \u001b[38;5;241m=\u001b[39m allowed_gai_family()\n\u001b[0;32m---> 60\u001b[0m \u001b[38;5;28;01mfor\u001b[39;00m res \u001b[38;5;129;01min\u001b[39;00m \u001b[43msocket\u001b[49m\u001b[38;5;241;43m.\u001b[39;49m\u001b[43mgetaddrinfo\u001b[49m\u001b[43m(\u001b[49m\u001b[43mhost\u001b[49m\u001b[43m,\u001b[49m\u001b[43m \u001b[49m\u001b[43mport\u001b[49m\u001b[43m,\u001b[49m\u001b[43m \u001b[49m\u001b[43mfamily\u001b[49m\u001b[43m,\u001b[49m\u001b[43m \u001b[49m\u001b[43msocket\u001b[49m\u001b[38;5;241;43m.\u001b[39;49m\u001b[43mSOCK_STREAM\u001b[49m\u001b[43m)\u001b[49m:\n\u001b[1;32m     61\u001b[0m     af, socktype, proto, canonname, sa \u001b[38;5;241m=\u001b[39m res\n",
      "File \u001b[0;32m/usr/lib/python3.9/socket.py:954\u001b[0m, in \u001b[0;36mgetaddrinfo\u001b[0;34m(host, port, family, type, proto, flags)\u001b[0m\n\u001b[1;32m    953\u001b[0m addrlist \u001b[38;5;241m=\u001b[39m []\n\u001b[0;32m--> 954\u001b[0m \u001b[38;5;28;01mfor\u001b[39;00m res \u001b[38;5;129;01min\u001b[39;00m \u001b[43m_socket\u001b[49m\u001b[38;5;241;43m.\u001b[39;49m\u001b[43mgetaddrinfo\u001b[49m\u001b[43m(\u001b[49m\u001b[43mhost\u001b[49m\u001b[43m,\u001b[49m\u001b[43m \u001b[49m\u001b[43mport\u001b[49m\u001b[43m,\u001b[49m\u001b[43m \u001b[49m\u001b[43mfamily\u001b[49m\u001b[43m,\u001b[49m\u001b[43m \u001b[49m\u001b[38;5;28;43mtype\u001b[39;49m\u001b[43m,\u001b[49m\u001b[43m \u001b[49m\u001b[43mproto\u001b[49m\u001b[43m,\u001b[49m\u001b[43m \u001b[49m\u001b[43mflags\u001b[49m\u001b[43m)\u001b[49m:\n\u001b[1;32m    955\u001b[0m     af, socktype, proto, canonname, sa \u001b[38;5;241m=\u001b[39m res\n",
      "\u001b[0;31mgaierror\u001b[0m: [Errno -3] Temporary failure in name resolution",
      "\nDuring handling of the above exception, another exception occurred:\n",
      "\u001b[0;31mNewConnectionError\u001b[0m                        Traceback (most recent call last)",
      "File \u001b[0;32m~/.local/lib/python3.9/site-packages/requests/packages/urllib3/connectionpool.py:597\u001b[0m, in \u001b[0;36mHTTPConnectionPool.urlopen\u001b[0;34m(self, method, url, body, headers, retries, redirect, assert_same_host, timeout, pool_timeout, release_conn, chunked, body_pos, **response_kw)\u001b[0m\n\u001b[1;32m    596\u001b[0m \u001b[38;5;66;03m# Make the request on the httplib connection object.\u001b[39;00m\n\u001b[0;32m--> 597\u001b[0m httplib_response \u001b[38;5;241m=\u001b[39m \u001b[38;5;28;43mself\u001b[39;49m\u001b[38;5;241;43m.\u001b[39;49m\u001b[43m_make_request\u001b[49m\u001b[43m(\u001b[49m\u001b[43mconn\u001b[49m\u001b[43m,\u001b[49m\u001b[43m \u001b[49m\u001b[43mmethod\u001b[49m\u001b[43m,\u001b[49m\u001b[43m \u001b[49m\u001b[43murl\u001b[49m\u001b[43m,\u001b[49m\n\u001b[1;32m    598\u001b[0m \u001b[43m                                      \u001b[49m\u001b[43mtimeout\u001b[49m\u001b[38;5;241;43m=\u001b[39;49m\u001b[43mtimeout_obj\u001b[49m\u001b[43m,\u001b[49m\n\u001b[1;32m    599\u001b[0m \u001b[43m                                      \u001b[49m\u001b[43mbody\u001b[49m\u001b[38;5;241;43m=\u001b[39;49m\u001b[43mbody\u001b[49m\u001b[43m,\u001b[49m\u001b[43m \u001b[49m\u001b[43mheaders\u001b[49m\u001b[38;5;241;43m=\u001b[39;49m\u001b[43mheaders\u001b[49m\u001b[43m,\u001b[49m\n\u001b[1;32m    600\u001b[0m \u001b[43m                                      \u001b[49m\u001b[43mchunked\u001b[49m\u001b[38;5;241;43m=\u001b[39;49m\u001b[43mchunked\u001b[49m\u001b[43m)\u001b[49m\n\u001b[1;32m    602\u001b[0m \u001b[38;5;66;03m# If we're going to release the connection in ``finally:``, then\u001b[39;00m\n\u001b[1;32m    603\u001b[0m \u001b[38;5;66;03m# the response doesn't need to know about the connection. Otherwise\u001b[39;00m\n\u001b[1;32m    604\u001b[0m \u001b[38;5;66;03m# it will also try to release it and we'll have a double-release\u001b[39;00m\n\u001b[1;32m    605\u001b[0m \u001b[38;5;66;03m# mess.\u001b[39;00m\n",
      "File \u001b[0;32m~/.local/lib/python3.9/site-packages/requests/packages/urllib3/connectionpool.py:345\u001b[0m, in \u001b[0;36mHTTPConnectionPool._make_request\u001b[0;34m(self, conn, method, url, timeout, chunked, **httplib_request_kw)\u001b[0m\n\u001b[1;32m    344\u001b[0m \u001b[38;5;28;01mtry\u001b[39;00m:\n\u001b[0;32m--> 345\u001b[0m     \u001b[38;5;28;43mself\u001b[39;49m\u001b[38;5;241;43m.\u001b[39;49m\u001b[43m_validate_conn\u001b[49m\u001b[43m(\u001b[49m\u001b[43mconn\u001b[49m\u001b[43m)\u001b[49m\n\u001b[1;32m    346\u001b[0m \u001b[38;5;28;01mexcept\u001b[39;00m (SocketTimeout, BaseSSLError) \u001b[38;5;28;01mas\u001b[39;00m e:\n\u001b[1;32m    347\u001b[0m     \u001b[38;5;66;03m# Py2 raises this as a BaseSSLError, Py3 raises it as socket timeout.\u001b[39;00m\n",
      "File \u001b[0;32m~/.local/lib/python3.9/site-packages/requests/packages/urllib3/connectionpool.py:844\u001b[0m, in \u001b[0;36mHTTPSConnectionPool._validate_conn\u001b[0;34m(self, conn)\u001b[0m\n\u001b[1;32m    843\u001b[0m \u001b[38;5;28;01mif\u001b[39;00m \u001b[38;5;129;01mnot\u001b[39;00m \u001b[38;5;28mgetattr\u001b[39m(conn, \u001b[38;5;124m'\u001b[39m\u001b[38;5;124msock\u001b[39m\u001b[38;5;124m'\u001b[39m, \u001b[38;5;28;01mNone\u001b[39;00m):  \u001b[38;5;66;03m# AppEngine might not have  `.sock`\u001b[39;00m\n\u001b[0;32m--> 844\u001b[0m     \u001b[43mconn\u001b[49m\u001b[38;5;241;43m.\u001b[39;49m\u001b[43mconnect\u001b[49m\u001b[43m(\u001b[49m\u001b[43m)\u001b[49m\n\u001b[1;32m    846\u001b[0m \u001b[38;5;28;01mif\u001b[39;00m \u001b[38;5;129;01mnot\u001b[39;00m conn\u001b[38;5;241m.\u001b[39mis_verified:\n",
      "File \u001b[0;32m~/.local/lib/python3.9/site-packages/requests/packages/urllib3/connection.py:284\u001b[0m, in \u001b[0;36mVerifiedHTTPSConnection.connect\u001b[0;34m(self)\u001b[0m\n\u001b[1;32m    282\u001b[0m \u001b[38;5;28;01mdef\u001b[39;00m \u001b[38;5;21mconnect\u001b[39m(\u001b[38;5;28mself\u001b[39m):\n\u001b[1;32m    283\u001b[0m     \u001b[38;5;66;03m# Add certificate verification\u001b[39;00m\n\u001b[0;32m--> 284\u001b[0m     conn \u001b[38;5;241m=\u001b[39m \u001b[38;5;28;43mself\u001b[39;49m\u001b[38;5;241;43m.\u001b[39;49m\u001b[43m_new_conn\u001b[49m\u001b[43m(\u001b[49m\u001b[43m)\u001b[49m\n\u001b[1;32m    286\u001b[0m     hostname \u001b[38;5;241m=\u001b[39m \u001b[38;5;28mself\u001b[39m\u001b[38;5;241m.\u001b[39mhost\n",
      "File \u001b[0;32m~/.local/lib/python3.9/site-packages/requests/packages/urllib3/connection.py:149\u001b[0m, in \u001b[0;36mHTTPConnection._new_conn\u001b[0;34m(self)\u001b[0m\n\u001b[1;32m    148\u001b[0m \u001b[38;5;28;01mexcept\u001b[39;00m SocketError \u001b[38;5;28;01mas\u001b[39;00m e:\n\u001b[0;32m--> 149\u001b[0m     \u001b[38;5;28;01mraise\u001b[39;00m NewConnectionError(\n\u001b[1;32m    150\u001b[0m         \u001b[38;5;28mself\u001b[39m, \u001b[38;5;124m\"\u001b[39m\u001b[38;5;124mFailed to establish a new connection: \u001b[39m\u001b[38;5;132;01m%s\u001b[39;00m\u001b[38;5;124m\"\u001b[39m \u001b[38;5;241m%\u001b[39m e)\n\u001b[1;32m    152\u001b[0m \u001b[38;5;28;01mreturn\u001b[39;00m conn\n",
      "\u001b[0;31mNewConnectionError\u001b[0m: <requests.packages.urllib3.connection.VerifiedHTTPSConnection object at 0x7fc227be6160>: Failed to establish a new connection: [Errno -3] Temporary failure in name resolution",
      "\nDuring handling of the above exception, another exception occurred:\n",
      "\u001b[0;31mMaxRetryError\u001b[0m                             Traceback (most recent call last)",
      "File \u001b[0;32m~/.local/lib/python3.9/site-packages/requests/adapters.py:428\u001b[0m, in \u001b[0;36mHTTPAdapter.send\u001b[0;34m(self, request, stream, timeout, verify, cert, proxies)\u001b[0m\n\u001b[1;32m    427\u001b[0m \u001b[38;5;28;01mif\u001b[39;00m \u001b[38;5;129;01mnot\u001b[39;00m chunked:\n\u001b[0;32m--> 428\u001b[0m     resp \u001b[38;5;241m=\u001b[39m \u001b[43mconn\u001b[49m\u001b[38;5;241;43m.\u001b[39;49m\u001b[43murlopen\u001b[49m\u001b[43m(\u001b[49m\n\u001b[1;32m    429\u001b[0m \u001b[43m        \u001b[49m\u001b[43mmethod\u001b[49m\u001b[38;5;241;43m=\u001b[39;49m\u001b[43mrequest\u001b[49m\u001b[38;5;241;43m.\u001b[39;49m\u001b[43mmethod\u001b[49m\u001b[43m,\u001b[49m\n\u001b[1;32m    430\u001b[0m \u001b[43m        \u001b[49m\u001b[43murl\u001b[49m\u001b[38;5;241;43m=\u001b[39;49m\u001b[43murl\u001b[49m\u001b[43m,\u001b[49m\n\u001b[1;32m    431\u001b[0m \u001b[43m        \u001b[49m\u001b[43mbody\u001b[49m\u001b[38;5;241;43m=\u001b[39;49m\u001b[43mrequest\u001b[49m\u001b[38;5;241;43m.\u001b[39;49m\u001b[43mbody\u001b[49m\u001b[43m,\u001b[49m\n\u001b[1;32m    432\u001b[0m \u001b[43m        \u001b[49m\u001b[43mheaders\u001b[49m\u001b[38;5;241;43m=\u001b[39;49m\u001b[43mrequest\u001b[49m\u001b[38;5;241;43m.\u001b[39;49m\u001b[43mheaders\u001b[49m\u001b[43m,\u001b[49m\n\u001b[1;32m    433\u001b[0m \u001b[43m        \u001b[49m\u001b[43mredirect\u001b[49m\u001b[38;5;241;43m=\u001b[39;49m\u001b[38;5;28;43;01mFalse\u001b[39;49;00m\u001b[43m,\u001b[49m\n\u001b[1;32m    434\u001b[0m \u001b[43m        \u001b[49m\u001b[43massert_same_host\u001b[49m\u001b[38;5;241;43m=\u001b[39;49m\u001b[38;5;28;43;01mFalse\u001b[39;49;00m\u001b[43m,\u001b[49m\n\u001b[1;32m    435\u001b[0m \u001b[43m        \u001b[49m\u001b[43mpreload_content\u001b[49m\u001b[38;5;241;43m=\u001b[39;49m\u001b[38;5;28;43;01mFalse\u001b[39;49;00m\u001b[43m,\u001b[49m\n\u001b[1;32m    436\u001b[0m \u001b[43m        \u001b[49m\u001b[43mdecode_content\u001b[49m\u001b[38;5;241;43m=\u001b[39;49m\u001b[38;5;28;43;01mFalse\u001b[39;49;00m\u001b[43m,\u001b[49m\n\u001b[1;32m    437\u001b[0m \u001b[43m        \u001b[49m\u001b[43mretries\u001b[49m\u001b[38;5;241;43m=\u001b[39;49m\u001b[38;5;28;43mself\u001b[39;49m\u001b[38;5;241;43m.\u001b[39;49m\u001b[43mmax_retries\u001b[49m\u001b[43m,\u001b[49m\n\u001b[1;32m    438\u001b[0m \u001b[43m        \u001b[49m\u001b[43mtimeout\u001b[49m\u001b[38;5;241;43m=\u001b[39;49m\u001b[43mtimeout\u001b[49m\n\u001b[1;32m    439\u001b[0m \u001b[43m    \u001b[49m\u001b[43m)\u001b[49m\n\u001b[1;32m    441\u001b[0m \u001b[38;5;66;03m# Send the request.\u001b[39;00m\n\u001b[1;32m    442\u001b[0m \u001b[38;5;28;01melse\u001b[39;00m:\n",
      "File \u001b[0;32m~/.local/lib/python3.9/site-packages/requests/packages/urllib3/connectionpool.py:648\u001b[0m, in \u001b[0;36mHTTPConnectionPool.urlopen\u001b[0;34m(self, method, url, body, headers, retries, redirect, assert_same_host, timeout, pool_timeout, release_conn, chunked, body_pos, **response_kw)\u001b[0m\n\u001b[1;32m    646\u001b[0m     e \u001b[38;5;241m=\u001b[39m ProtocolError(\u001b[38;5;124m'\u001b[39m\u001b[38;5;124mConnection aborted.\u001b[39m\u001b[38;5;124m'\u001b[39m, e)\n\u001b[0;32m--> 648\u001b[0m retries \u001b[38;5;241m=\u001b[39m \u001b[43mretries\u001b[49m\u001b[38;5;241;43m.\u001b[39;49m\u001b[43mincrement\u001b[49m\u001b[43m(\u001b[49m\u001b[43mmethod\u001b[49m\u001b[43m,\u001b[49m\u001b[43m \u001b[49m\u001b[43murl\u001b[49m\u001b[43m,\u001b[49m\u001b[43m \u001b[49m\u001b[43merror\u001b[49m\u001b[38;5;241;43m=\u001b[39;49m\u001b[43me\u001b[49m\u001b[43m,\u001b[49m\u001b[43m \u001b[49m\u001b[43m_pool\u001b[49m\u001b[38;5;241;43m=\u001b[39;49m\u001b[38;5;28;43mself\u001b[39;49m\u001b[43m,\u001b[49m\n\u001b[1;32m    649\u001b[0m \u001b[43m                            \u001b[49m\u001b[43m_stacktrace\u001b[49m\u001b[38;5;241;43m=\u001b[39;49m\u001b[43msys\u001b[49m\u001b[38;5;241;43m.\u001b[39;49m\u001b[43mexc_info\u001b[49m\u001b[43m(\u001b[49m\u001b[43m)\u001b[49m\u001b[43m[\u001b[49m\u001b[38;5;241;43m2\u001b[39;49m\u001b[43m]\u001b[49m\u001b[43m)\u001b[49m\n\u001b[1;32m    650\u001b[0m retries\u001b[38;5;241m.\u001b[39msleep()\n",
      "File \u001b[0;32m~/.local/lib/python3.9/site-packages/requests/packages/urllib3/util/retry.py:388\u001b[0m, in \u001b[0;36mRetry.increment\u001b[0;34m(self, method, url, response, error, _pool, _stacktrace)\u001b[0m\n\u001b[1;32m    387\u001b[0m \u001b[38;5;28;01mif\u001b[39;00m new_retry\u001b[38;5;241m.\u001b[39mis_exhausted():\n\u001b[0;32m--> 388\u001b[0m     \u001b[38;5;28;01mraise\u001b[39;00m MaxRetryError(_pool, url, error \u001b[38;5;129;01mor\u001b[39;00m ResponseError(cause))\n\u001b[1;32m    390\u001b[0m log\u001b[38;5;241m.\u001b[39mdebug(\u001b[38;5;124m\"\u001b[39m\u001b[38;5;124mIncremented Retry for (url=\u001b[39m\u001b[38;5;124m'\u001b[39m\u001b[38;5;132;01m%s\u001b[39;00m\u001b[38;5;124m'\u001b[39m\u001b[38;5;124m): \u001b[39m\u001b[38;5;132;01m%r\u001b[39;00m\u001b[38;5;124m\"\u001b[39m, url, new_retry)\n",
      "\u001b[0;31mMaxRetryError\u001b[0m: HTTPSConnectionPool(host='priceapi.moneycontrol.com', port=443): Max retries exceeded with url: /techCharts/techChartController/history?symbol=PNB&resolution=1D&from=1652090654&to=1652177054 (Caused by NewConnectionError('<requests.packages.urllib3.connection.VerifiedHTTPSConnection object at 0x7fc227be6160>: Failed to establish a new connection: [Errno -3] Temporary failure in name resolution'))",
      "\nDuring handling of the above exception, another exception occurred:\n",
      "\u001b[0;31mConnectionError\u001b[0m                           Traceback (most recent call last)",
      "Input \u001b[0;32mIn [754]\u001b[0m, in \u001b[0;36m<cell line: 7>\u001b[0;34m()\u001b[0m\n\u001b[1;32m      5\u001b[0m display(\u001b[38;5;28mlen\u001b[39m(daily_time_line)\u001b[38;5;241m/\u001b[39m\u001b[38;5;28mlen\u001b[39m(raw_port))\n\u001b[1;32m      6\u001b[0m time\u001b[38;5;241m.\u001b[39msleep(\u001b[38;5;241m60\u001b[39m\u001b[38;5;241m*\u001b[39m\u001b[38;5;241m1\u001b[39m),\n\u001b[0;32m----> 7\u001b[0m portfolio_df,daily_time_line \u001b[38;5;241m=\u001b[39m \u001b[43mrefresh_data\u001b[49m\u001b[43m(\u001b[49m\u001b[43mraw_port\u001b[49m\u001b[43m,\u001b[49m\u001b[43m \u001b[49m\u001b[43mdaily_time_line\u001b[49m\u001b[43m)\u001b[49m\n\u001b[1;32m      8\u001b[0m display(Javascript(\u001b[38;5;124m\"\u001b[39m\u001b[38;5;124mJupyter.notebook.execute_cells([5,6,7])\u001b[39m\u001b[38;5;124m\"\u001b[39m))\n",
      "File \u001b[0;32m/tmp/ipykernel_4540/2532977042.py:2\u001b[0m, in \u001b[0;36mrefresh_data\u001b[0;34m(portfolio_df, daily_time_line)\u001b[0m\n\u001b[1;32m      1\u001b[0m \u001b[38;5;28;01mdef\u001b[39;00m \u001b[38;5;21mrefresh_data\u001b[39m(portfolio_df,daily_time_line):\n\u001b[0;32m----> 2\u001b[0m     market_data \u001b[38;5;241m=\u001b[39m \u001b[43mload_price_history\u001b[49m\u001b[43m(\u001b[49m\u001b[43mportfolio_df\u001b[49m\u001b[43m[\u001b[49m\u001b[38;5;124;43m'\u001b[39;49m\u001b[38;5;124;43mSYMBOL\u001b[39;49m\u001b[38;5;124;43m'\u001b[39;49m\u001b[43m]\u001b[49m\u001b[38;5;241;43m.\u001b[39;49m\u001b[43munique\u001b[49m\u001b[43m(\u001b[49m\u001b[43m)\u001b[49m\u001b[43m,\u001b[49m\u001b[43mdays\u001b[49m\u001b[38;5;241;43m=\u001b[39;49m\u001b[38;5;241;43m1\u001b[39;49m\u001b[43m)\u001b[49m\n\u001b[1;32m      3\u001b[0m     port_data \u001b[38;5;241m=\u001b[39m pd\u001b[38;5;241m.\u001b[39mDataFrame({})\n\u001b[1;32m      4\u001b[0m     \u001b[38;5;28;01mfor\u001b[39;00m item \u001b[38;5;129;01min\u001b[39;00m market_data:\n",
      "File \u001b[0;32m/tmp/ipykernel_4540/2302698535.py:16\u001b[0m, in \u001b[0;36mload_price_history\u001b[0;34m(tickers, days, time_interval)\u001b[0m\n\u001b[1;32m     13\u001b[0m \u001b[38;5;66;03m# load market data\u001b[39;00m\n\u001b[1;32m     14\u001b[0m \u001b[38;5;28;01mfor\u001b[39;00m url \u001b[38;5;129;01min\u001b[39;00m market_data:\n\u001b[0;32m---> 16\u001b[0m     json \u001b[38;5;241m=\u001b[39m \u001b[43mloadURL\u001b[49m\u001b[43m(\u001b[49m\u001b[43murl\u001b[49m\u001b[43m,\u001b[49m\u001b[38;5;28;43;01mTrue\u001b[39;49;00m\u001b[43m)\u001b[49m\n\u001b[1;32m     17\u001b[0m     \u001b[38;5;28;01mtry\u001b[39;00m:\n\u001b[1;32m     18\u001b[0m         \u001b[38;5;28;01mdel\u001b[39;00m json[\u001b[38;5;124m'\u001b[39m\u001b[38;5;124ms\u001b[39m\u001b[38;5;124m'\u001b[39m]\n",
      "File \u001b[0;32m/tmp/ipykernel_4540/3277012874.py:5\u001b[0m, in \u001b[0;36mloadURL\u001b[0;34m(myurl, latest)\u001b[0m\n\u001b[1;32m      3\u001b[0m \u001b[38;5;28;01mdef\u001b[39;00m \u001b[38;5;21mloadURL\u001b[39m(myurl,latest):\n\u001b[1;32m      4\u001b[0m     \u001b[38;5;28mprint\u001b[39m(\u001b[38;5;124m'\u001b[39m\u001b[38;5;124mloading url \u001b[39m\u001b[38;5;124m'\u001b[39m, myurl)\n\u001b[0;32m----> 5\u001b[0m     response\u001b[38;5;241m=\u001b[39m\u001b[43mrequests\u001b[49m\u001b[38;5;241;43m.\u001b[39;49m\u001b[43mget\u001b[49m\u001b[43m(\u001b[49m\u001b[43mmyurl\u001b[49m\u001b[38;5;241;43m.\u001b[39;49m\u001b[43murl\u001b[49m\u001b[43m,\u001b[49m\u001b[43mparams\u001b[49m\u001b[38;5;241;43m=\u001b[39;49m\u001b[43mmyurl\u001b[49m\u001b[38;5;241;43m.\u001b[39;49m\u001b[43mpayload\u001b[49m\u001b[43m,\u001b[49m\u001b[43mcookies\u001b[49m\u001b[38;5;241;43m=\u001b[39;49m\u001b[43mget_cookies\u001b[49m\u001b[43m(\u001b[49m\u001b[43mmyurl\u001b[49m\u001b[38;5;241;43m.\u001b[39;49m\u001b[43mparent_page\u001b[49m\u001b[43m)\u001b[49m\u001b[43m,\u001b[49m\u001b[43mheaders\u001b[49m\u001b[38;5;241;43m=\u001b[39;49m\u001b[43mchrome_headers\u001b[49m\u001b[43m,\u001b[49m\u001b[43mtimeout\u001b[49m\u001b[38;5;241;43m=\u001b[39;49m\u001b[38;5;241;43m20\u001b[39;49m\u001b[43m)\u001b[49m\n\u001b[1;32m      6\u001b[0m     \u001b[38;5;28mprint\u001b[39m(\u001b[38;5;28mstr\u001b[39m(myurl),response)\n\u001b[1;32m      7\u001b[0m     s \u001b[38;5;241m=\u001b[39m response\u001b[38;5;241m.\u001b[39mtext\n",
      "File \u001b[0;32m~/.local/lib/python3.9/site-packages/requests/api.py:72\u001b[0m, in \u001b[0;36mget\u001b[0;34m(url, params, **kwargs)\u001b[0m\n\u001b[1;32m     62\u001b[0m \u001b[38;5;124mr\u001b[39m\u001b[38;5;124;03m\"\"\"Sends a GET request.\u001b[39;00m\n\u001b[1;32m     63\u001b[0m \n\u001b[1;32m     64\u001b[0m \u001b[38;5;124;03m:param url: URL for the new :class:`Request` object.\u001b[39;00m\n\u001b[0;32m   (...)\u001b[0m\n\u001b[1;32m     68\u001b[0m \u001b[38;5;124;03m:rtype: requests.Response\u001b[39;00m\n\u001b[1;32m     69\u001b[0m \u001b[38;5;124;03m\"\"\"\u001b[39;00m\n\u001b[1;32m     71\u001b[0m kwargs\u001b[38;5;241m.\u001b[39msetdefault(\u001b[38;5;124m'\u001b[39m\u001b[38;5;124mallow_redirects\u001b[39m\u001b[38;5;124m'\u001b[39m, \u001b[38;5;28;01mTrue\u001b[39;00m)\n\u001b[0;32m---> 72\u001b[0m \u001b[38;5;28;01mreturn\u001b[39;00m \u001b[43mrequest\u001b[49m\u001b[43m(\u001b[49m\u001b[38;5;124;43m'\u001b[39;49m\u001b[38;5;124;43mget\u001b[39;49m\u001b[38;5;124;43m'\u001b[39;49m\u001b[43m,\u001b[49m\u001b[43m \u001b[49m\u001b[43murl\u001b[49m\u001b[43m,\u001b[49m\u001b[43m \u001b[49m\u001b[43mparams\u001b[49m\u001b[38;5;241;43m=\u001b[39;49m\u001b[43mparams\u001b[49m\u001b[43m,\u001b[49m\u001b[43m \u001b[49m\u001b[38;5;241;43m*\u001b[39;49m\u001b[38;5;241;43m*\u001b[39;49m\u001b[43mkwargs\u001b[49m\u001b[43m)\u001b[49m\n",
      "File \u001b[0;32m~/.local/lib/python3.9/site-packages/requests/api.py:58\u001b[0m, in \u001b[0;36mrequest\u001b[0;34m(method, url, **kwargs)\u001b[0m\n\u001b[1;32m     54\u001b[0m \u001b[38;5;66;03m# By using the 'with' statement we are sure the session is closed, thus we\u001b[39;00m\n\u001b[1;32m     55\u001b[0m \u001b[38;5;66;03m# avoid leaving sockets open which can trigger a ResourceWarning in some\u001b[39;00m\n\u001b[1;32m     56\u001b[0m \u001b[38;5;66;03m# cases, and look like a memory leak in others.\u001b[39;00m\n\u001b[1;32m     57\u001b[0m \u001b[38;5;28;01mwith\u001b[39;00m sessions\u001b[38;5;241m.\u001b[39mSession() \u001b[38;5;28;01mas\u001b[39;00m session:\n\u001b[0;32m---> 58\u001b[0m     \u001b[38;5;28;01mreturn\u001b[39;00m \u001b[43msession\u001b[49m\u001b[38;5;241;43m.\u001b[39;49m\u001b[43mrequest\u001b[49m\u001b[43m(\u001b[49m\u001b[43mmethod\u001b[49m\u001b[38;5;241;43m=\u001b[39;49m\u001b[43mmethod\u001b[49m\u001b[43m,\u001b[49m\u001b[43m \u001b[49m\u001b[43murl\u001b[49m\u001b[38;5;241;43m=\u001b[39;49m\u001b[43murl\u001b[49m\u001b[43m,\u001b[49m\u001b[43m \u001b[49m\u001b[38;5;241;43m*\u001b[39;49m\u001b[38;5;241;43m*\u001b[39;49m\u001b[43mkwargs\u001b[49m\u001b[43m)\u001b[49m\n",
      "File \u001b[0;32m~/.local/lib/python3.9/site-packages/requests/sessions.py:518\u001b[0m, in \u001b[0;36mSession.request\u001b[0;34m(self, method, url, params, data, headers, cookies, files, auth, timeout, allow_redirects, proxies, hooks, stream, verify, cert, json)\u001b[0m\n\u001b[1;32m    513\u001b[0m send_kwargs \u001b[38;5;241m=\u001b[39m {\n\u001b[1;32m    514\u001b[0m     \u001b[38;5;124m'\u001b[39m\u001b[38;5;124mtimeout\u001b[39m\u001b[38;5;124m'\u001b[39m: timeout,\n\u001b[1;32m    515\u001b[0m     \u001b[38;5;124m'\u001b[39m\u001b[38;5;124mallow_redirects\u001b[39m\u001b[38;5;124m'\u001b[39m: allow_redirects,\n\u001b[1;32m    516\u001b[0m }\n\u001b[1;32m    517\u001b[0m send_kwargs\u001b[38;5;241m.\u001b[39mupdate(settings)\n\u001b[0;32m--> 518\u001b[0m resp \u001b[38;5;241m=\u001b[39m \u001b[38;5;28;43mself\u001b[39;49m\u001b[38;5;241;43m.\u001b[39;49m\u001b[43msend\u001b[49m\u001b[43m(\u001b[49m\u001b[43mprep\u001b[49m\u001b[43m,\u001b[49m\u001b[43m \u001b[49m\u001b[38;5;241;43m*\u001b[39;49m\u001b[38;5;241;43m*\u001b[39;49m\u001b[43msend_kwargs\u001b[49m\u001b[43m)\u001b[49m\n\u001b[1;32m    520\u001b[0m \u001b[38;5;28;01mreturn\u001b[39;00m resp\n",
      "File \u001b[0;32m~/.local/lib/python3.9/site-packages/requests/sessions.py:639\u001b[0m, in \u001b[0;36mSession.send\u001b[0;34m(self, request, **kwargs)\u001b[0m\n\u001b[1;32m    636\u001b[0m start \u001b[38;5;241m=\u001b[39m preferred_clock()\n\u001b[1;32m    638\u001b[0m \u001b[38;5;66;03m# Send the request\u001b[39;00m\n\u001b[0;32m--> 639\u001b[0m r \u001b[38;5;241m=\u001b[39m \u001b[43madapter\u001b[49m\u001b[38;5;241;43m.\u001b[39;49m\u001b[43msend\u001b[49m\u001b[43m(\u001b[49m\u001b[43mrequest\u001b[49m\u001b[43m,\u001b[49m\u001b[43m \u001b[49m\u001b[38;5;241;43m*\u001b[39;49m\u001b[38;5;241;43m*\u001b[39;49m\u001b[43mkwargs\u001b[49m\u001b[43m)\u001b[49m\n\u001b[1;32m    641\u001b[0m \u001b[38;5;66;03m# Total elapsed time of the request (approximately)\u001b[39;00m\n\u001b[1;32m    642\u001b[0m elapsed \u001b[38;5;241m=\u001b[39m preferred_clock() \u001b[38;5;241m-\u001b[39m start\n",
      "File \u001b[0;32m~/.local/lib/python3.9/site-packages/requests/adapters.py:502\u001b[0m, in \u001b[0;36mHTTPAdapter.send\u001b[0;34m(self, request, stream, timeout, verify, cert, proxies)\u001b[0m\n\u001b[1;32m    499\u001b[0m     \u001b[38;5;28;01mif\u001b[39;00m \u001b[38;5;28misinstance\u001b[39m(e\u001b[38;5;241m.\u001b[39mreason, _ProxyError):\n\u001b[1;32m    500\u001b[0m         \u001b[38;5;28;01mraise\u001b[39;00m ProxyError(e, request\u001b[38;5;241m=\u001b[39mrequest)\n\u001b[0;32m--> 502\u001b[0m     \u001b[38;5;28;01mraise\u001b[39;00m \u001b[38;5;167;01mConnectionError\u001b[39;00m(e, request\u001b[38;5;241m=\u001b[39mrequest)\n\u001b[1;32m    504\u001b[0m \u001b[38;5;28;01mexcept\u001b[39;00m ClosedPoolError \u001b[38;5;28;01mas\u001b[39;00m e:\n\u001b[1;32m    505\u001b[0m     \u001b[38;5;28;01mraise\u001b[39;00m \u001b[38;5;167;01mConnectionError\u001b[39;00m(e, request\u001b[38;5;241m=\u001b[39mrequest)\n",
      "\u001b[0;31mConnectionError\u001b[0m: HTTPSConnectionPool(host='priceapi.moneycontrol.com', port=443): Max retries exceeded with url: /techCharts/techChartController/history?symbol=PNB&resolution=1D&from=1652090654&to=1652177054 (Caused by NewConnectionError('<requests.packages.urllib3.connection.VerifiedHTTPSConnection object at 0x7fc227be6160>: Failed to establish a new connection: [Errno -3] Temporary failure in name resolution'))"
     ]
    }
   ],
   "source": [
    "###### %%capture\n",
    "from IPython.display import Javascript\n",
    "#s = sched.scheduler(time.time, time.sleep)\n",
    "#Javascript(\\\"Jupyter.notebook.execute_all_cells()\\\")\n",
    "display(len(daily_time_line)/len(raw_port))\n",
    "time.sleep(60*1),\n",
    "portfolio_df,daily_time_line = refresh_data(raw_port, daily_time_line)\n",
    "display(Javascript(\"Jupyter.notebook.execute_cells([5,6,7])\"))"
   ]
  },
  {
   "cell_type": "markdown",
   "metadata": {},
   "source": [
    "# %%capture\n",
    "\n",
    "from IPython.display import Javascript\n",
    "#s = sched.scheduler(time.time, time.sleep)\n",
    "#Javascript(\"Jupyter.notebook.execute_all_cells()\")\n",
    "\n",
    "display(len(daily_time_line)/len(raw_port))\n",
    "time.sleep(60*1)\n",
    "portfolio_df,daily_time_line = refresh_data(raw_port, daily_time_line)\n",
    "display(Javascript(\"Jupyter.notebook.execute_cells([4,5])\"))"
   ]
  },
  {
   "cell_type": "markdown",
   "metadata": {},
   "source": [
    "time_point = pd.DataFrame(daily_time_line['request_time'].unique())\n",
    "time_point[1] = time_point[0].shift(-1)\n",
    "time_point['DIFF'] = (time_point[0] - time_point[1]).astype('timedelta64[h]')\n",
    "min_index = time_point[time_point['DIFF']==time_point['DIFF'].min()]\n",
    "\n",
    "fig = go.Figure()\n",
    "for ticker in daily_time_line['SYMBOL'].unique():\n",
    "    ticker_data = ticker_filter(daily_time_line,ticker)\n",
    "    ticker_data = ticker_data.groupby(['request_time','SYMBOL']).agg(port_agg_col).reset_index()\n",
    "    fig.add_trace(go.Scatter(x=ticker_data['request_time'], y=ticker_data['CHANGE'],\n",
    "                        #mode='lines+markers',\n",
    "                        mode='lines',\n",
    "                        name=ticker))\n",
    "agg_data = daily_time_line.groupby('request_time').agg({'CHANGE':'sum','UNREAL':'sum'})\n",
    "start_bar = 2\n",
    "end_bar = 5\n",
    "if (len(agg_data) > (start_bar+end_bar)):\n",
    "    agg_data = agg_data.head(start_bar).append(agg_data.tail(end_bar)).reset_index()\n",
    "#agg_data['width'] = 1.5\n",
    "fig.add_trace(go.Bar(x=agg_data['request_time'],y=agg_data['CHANGE'],marker_color='indianred',name='--Today--'))\n",
    "\n",
    "\n",
    "\n",
    "\n",
    "fig.update_xaxes(\n",
    "    rangebreaks=[dict(bounds=[10, 14], pattern=\"hour\"),dict(bounds=[12, 13], pattern=\"hour\"),dict(bounds=[13, 14], pattern=\"hour\")] # hide dates with no values\n",
    ")\n",
    "#fig.add_trace(go.Bar(x=agg_data['request_time'],y=agg_data['UNREAL'],marker_color='darkblue',name='--OverAll--'))\n",
    "\n",
    "#fig.update_layout(\n",
    "#yaxis = dict(\n",
    "#        tickmode = 'array',\n",
    "#        tickvals = [-600,-300,-50,0,100, 300, 500, 1000, 3000, 5000, 10000]\n",
    "#    )\n",
    "#)\n",
    "\n",
    "fig.show()\n",
    "#[dict(values=daily_time_line['request_time'].unique())]"
   ]
  },
  {
   "cell_type": "markdown",
   "metadata": {},
   "source": [
    "time_point = pd.DataFrame(daily_time_line['request_time'].unique())\n",
    "time_point[1] = time_point[0].shift(1)\n",
    "time_point['DIFF'] = (time_point[0] - time_point[1]).astype('timedelta64[h]')\n",
    "min_index = time_point[time_point['DIFF']==time_point['DIFF'].max()].index[0]\n",
    "\n",
    "time_point[min_index:min_index+1]\n",
    "#display([time_point[0],time_point[1]])\n",
    "#daily_time_line['request_time'].unique()"
   ]
  },
  {
   "cell_type": "markdown",
   "metadata": {},
   "source": [
    "#sns.lineplot(data=daily_time_line,x='time',y='CHANGE' , hue='SYMBOL',markers='o')\n",
    "#pd.to_datetime(daily_time_line['load_time'], format=\"%H:%M\")\n",
    "\n",
    "portfolio_df.groupby('i_industry').agg(\n",
    "        {\n",
    "            'INVESTMENT':\"sum\",\n",
    "            'MKT_VALUE':\"sum\",\n",
    "        }\n",
    "    ).iplot(kind='pie',subplots=True)\n",
    "\n",
    "data = portfolio_df.groupby('i_industry').agg(\n",
    "        {\n",
    "            'INVESTMENT':\"sum\",\n",
    "            'MKT_VALUE':\"sum\",\n",
    "        }\n",
    "    ).reset_index()\n",
    "\n",
    "fig = go.Figure()\n",
    "\n",
    "fig.add_traces(go.Pie(labels=data['i_industry'], values=data['MKT_VALUE'], textinfo='label+percent',\n",
    "                             insidetextorientation='radial'\n",
    "                            ))\n",
    "\n",
    "#fig.add_traces(go.Pie(labels=data['i_industry'], values=data['MKT_VALUE'], textinfo='label+percent',\n",
    "#                             insidetextorientation='radial'\n",
    "#                            ))\n",
    "fig.show()"
   ]
  },
  {
   "cell_type": "markdown",
   "metadata": {
    "scrolled": true
   },
   "source": [
    "portfolio_df.groupby('i_industry').agg({'INVESTMENT':'sum'}).plot(kind='pie',subplots=True,legend=False)\n",
    "\n",
    "chart_data_industry = portfolio_df.groupby('i_industry').agg({'INVESTMENT':'sum','MKT_VALUE':'sum'})\n",
    "chart_data = portfolio_df.groupby('SYMBOL').agg({'INVESTMENT':'sum','MKT_VALUE':'sum'})\n",
    "display(chart_data)\n",
    "chart_data.iplot(kind='bar',subplots=False,legend=False)\n"
   ]
  },
  {
   "cell_type": "markdown",
   "metadata": {},
   "source": [
    "\n",
    "import plotly.graph_objects as go\n",
    "from plotly.subplots import make_subplots\n",
    "\n",
    "fig = make_subplots(rows=1, cols=2, column_widths=[0.7, 0.3])\n",
    "\n",
    "fig.add_trace(go.figure (data = [go.Bar(x=portfolio_df['SYMBOL'], y=portfolio_df['INVESTMENT'])]),\n",
    "              row=1, col=1)\n",
    "\n",
    "fig.add_trace(go.Bar(x=chart_data_industry['i_industry'], y=chart_data_industry['INVESTMENT']),\n",
    "              row=1, col=2)\n",
    "\n",
    "fig.show()"
   ]
  }
 ],
 "metadata": {
  "kernelspec": {
   "display_name": "Python 3 (ipykernel)",
   "language": "python",
   "name": "python3"
  },
  "language_info": {
   "codemirror_mode": {
    "name": "ipython",
    "version": 3
   },
   "file_extension": ".py",
   "mimetype": "text/x-python",
   "name": "python",
   "nbconvert_exporter": "python",
   "pygments_lexer": "ipython3",
   "version": "3.9.7"
  }
 },
 "nbformat": 4,
 "nbformat_minor": 4
}
